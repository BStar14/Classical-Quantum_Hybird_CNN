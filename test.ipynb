{
 "metadata": {
  "language_info": {
   "codemirror_mode": {
    "name": "ipython",
    "version": 3
   },
   "file_extension": ".py",
   "mimetype": "text/x-python",
   "name": "python",
   "nbconvert_exporter": "python",
   "pygments_lexer": "ipython3",
   "version": "3.8.5"
  },
  "orig_nbformat": 4,
  "kernelspec": {
   "name": "python3",
   "display_name": "Python 3.8.5 64-bit ('3.8')"
  },
  "interpreter": {
   "hash": "752579dbebe7f4dfe7c1aa72eac13e23fc88be2cc1ea7ab14e1f8d69b2d97d12"
  }
 },
 "nbformat": 4,
 "nbformat_minor": 2,
 "cells": [
  {
   "cell_type": "code",
   "execution_count": 1,
   "metadata": {},
   "outputs": [],
   "source": [
    "import PQC\n",
    "from qiskit import Aer\n",
    "import numpy as np"
   ]
  },
  {
   "cell_type": "code",
   "execution_count": 2,
   "metadata": {},
   "outputs": [
    {
     "output_type": "execute_result",
     "data": {
      "text/plain": [
       "[QasmSimulator(\n",
       " backend_name='qasm_simulator', provider=AerProvider()),\n",
       " StatevectorSimulator(\n",
       " backend_name='statevector_simulator', provider=AerProvider()),\n",
       " UnitarySimulator(\n",
       " backend_name='unitary_simulator', provider=AerProvider()),\n",
       " PulseSimulator(\n",
       " backend_name='pulse_simulator', provider=AerProvider())]"
      ]
     },
     "metadata": {},
     "execution_count": 2
    }
   ],
   "source": [
    "Aer.backends()"
   ]
  },
  {
   "cell_type": "code",
   "execution_count": 3,
   "metadata": {},
   "outputs": [],
   "source": [
    "# Run the quantum circuit on a statevector simulator backend\n",
    "backend = Aer.get_backend('qasm_simulator')\n",
    "qc = PQC.QuantumCircuit(backend=backend)"
   ]
  },
  {
   "cell_type": "code",
   "execution_count": 10,
   "metadata": {
    "tags": []
   },
   "outputs": [
    {
     "output_type": "stream",
     "name": "stdout",
     "text": [
      "{'0': 821, '1': 203}\n",
      "{'0': 899, '1': 125}\n",
      "{'0': 784, '1': 240}\n",
      "{'0': 948, '1': 76}\n",
      "{'0': 1001, '1': 23}\n",
      "{'0': 925, '1': 99}\n",
      "{'0': 823, '1': 201}\n",
      "{'0': 947, '1': 77}\n",
      "{'0': 1006, '1': 18}\n",
      "[0.1982421875, 0.1220703125, 0.234375, 0.07421875, 0.0224609375, 0.0966796875, 0.1962890625, 0.0751953125, 0.017578125]\n"
     ]
    }
   ],
   "source": [
    "print(qc.run(np.random.uniform(0,1,27)))"
   ]
  },
  {
   "cell_type": "code",
   "execution_count": null,
   "metadata": {},
   "outputs": [],
   "source": []
  },
  {
   "cell_type": "code",
   "execution_count": null,
   "metadata": {},
   "outputs": [],
   "source": []
  }
 ]
}