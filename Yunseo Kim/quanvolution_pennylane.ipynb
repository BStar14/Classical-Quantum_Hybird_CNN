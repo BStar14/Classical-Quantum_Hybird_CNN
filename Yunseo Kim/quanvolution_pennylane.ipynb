{
  "nbformat": 4,
  "nbformat_minor": 0,
  "metadata": {
    "kernelspec": {
      "display_name": "Python 3",
      "language": "python",
      "name": "python3"
    },
    "language_info": {
      "codemirror_mode": {
        "name": "ipython",
        "version": 3
      },
      "file_extension": ".py",
      "mimetype": "text/x-python",
      "name": "python",
      "nbconvert_exporter": "python",
      "pygments_lexer": "ipython3",
      "version": "3.7.2"
    },
    "colab": {
      "name": "quanvolution_pennylane.ipynb",
      "provenance": []
    },
    "accelerator": "GPU"
  },
  "cells": [
    {
      "cell_type": "code",
      "metadata": {
        "id": "_a010DhWOtv8"
      },
      "source": [
        "%matplotlib inline"
      ],
      "execution_count": 1,
      "outputs": []
    },
    {
      "cell_type": "code",
      "metadata": {
        "id": "7a5h7HqBO0qI",
        "outputId": "4e2247ac-b58a-4506-edf0-9100291e8482",
        "colab": {
          "base_uri": "https://localhost:8080/"
        }
      },
      "source": [
        "!pip install pennylane"
      ],
      "execution_count": 3,
      "outputs": [
        {
          "output_type": "stream",
          "text": [
            "Collecting pennylane\n",
            "\u001b[?25l  Downloading https://files.pythonhosted.org/packages/61/ad/d18c5113d7c536c7b4544c2741795af7abde9557ef433c7814aa7d10d845/PennyLane-0.16.0-py3-none-any.whl (514kB)\n",
            "\r\u001b[K     |▋                               | 10kB 20.2MB/s eta 0:00:01\r\u001b[K     |█▎                              | 20kB 26.9MB/s eta 0:00:01\r\u001b[K     |██                              | 30kB 31.8MB/s eta 0:00:01\r\u001b[K     |██▌                             | 40kB 29.5MB/s eta 0:00:01\r\u001b[K     |███▏                            | 51kB 29.5MB/s eta 0:00:01\r\u001b[K     |███▉                            | 61kB 32.0MB/s eta 0:00:01\r\u001b[K     |████▌                           | 71kB 23.9MB/s eta 0:00:01\r\u001b[K     |█████                           | 81kB 25.1MB/s eta 0:00:01\r\u001b[K     |█████▊                          | 92kB 23.6MB/s eta 0:00:01\r\u001b[K     |██████▍                         | 102kB 24.3MB/s eta 0:00:01\r\u001b[K     |███████                         | 112kB 24.3MB/s eta 0:00:01\r\u001b[K     |███████▋                        | 122kB 24.3MB/s eta 0:00:01\r\u001b[K     |████████▎                       | 133kB 24.3MB/s eta 0:00:01\r\u001b[K     |█████████                       | 143kB 24.3MB/s eta 0:00:01\r\u001b[K     |█████████▋                      | 153kB 24.3MB/s eta 0:00:01\r\u001b[K     |██████████▏                     | 163kB 24.3MB/s eta 0:00:01\r\u001b[K     |██████████▉                     | 174kB 24.3MB/s eta 0:00:01\r\u001b[K     |███████████▌                    | 184kB 24.3MB/s eta 0:00:01\r\u001b[K     |████████████                    | 194kB 24.3MB/s eta 0:00:01\r\u001b[K     |████████████▊                   | 204kB 24.3MB/s eta 0:00:01\r\u001b[K     |█████████████▍                  | 215kB 24.3MB/s eta 0:00:01\r\u001b[K     |██████████████                  | 225kB 24.3MB/s eta 0:00:01\r\u001b[K     |██████████████▋                 | 235kB 24.3MB/s eta 0:00:01\r\u001b[K     |███████████████▎                | 245kB 24.3MB/s eta 0:00:01\r\u001b[K     |████████████████                | 256kB 24.3MB/s eta 0:00:01\r\u001b[K     |████████████████▋               | 266kB 24.3MB/s eta 0:00:01\r\u001b[K     |█████████████████▏              | 276kB 24.3MB/s eta 0:00:01\r\u001b[K     |█████████████████▉              | 286kB 24.3MB/s eta 0:00:01\r\u001b[K     |██████████████████▌             | 296kB 24.3MB/s eta 0:00:01\r\u001b[K     |███████████████████▏            | 307kB 24.3MB/s eta 0:00:01\r\u001b[K     |███████████████████▊            | 317kB 24.3MB/s eta 0:00:01\r\u001b[K     |████████████████████▍           | 327kB 24.3MB/s eta 0:00:01\r\u001b[K     |█████████████████████           | 337kB 24.3MB/s eta 0:00:01\r\u001b[K     |█████████████████████▋          | 348kB 24.3MB/s eta 0:00:01\r\u001b[K     |██████████████████████▎         | 358kB 24.3MB/s eta 0:00:01\r\u001b[K     |███████████████████████         | 368kB 24.3MB/s eta 0:00:01\r\u001b[K     |███████████████████████▋        | 378kB 24.3MB/s eta 0:00:01\r\u001b[K     |████████████████████████▏       | 389kB 24.3MB/s eta 0:00:01\r\u001b[K     |████████████████████████▉       | 399kB 24.3MB/s eta 0:00:01\r\u001b[K     |█████████████████████████▌      | 409kB 24.3MB/s eta 0:00:01\r\u001b[K     |██████████████████████████▏     | 419kB 24.3MB/s eta 0:00:01\r\u001b[K     |██████████████████████████▊     | 430kB 24.3MB/s eta 0:00:01\r\u001b[K     |███████████████████████████▍    | 440kB 24.3MB/s eta 0:00:01\r\u001b[K     |████████████████████████████    | 450kB 24.3MB/s eta 0:00:01\r\u001b[K     |████████████████████████████▊   | 460kB 24.3MB/s eta 0:00:01\r\u001b[K     |█████████████████████████████▎  | 471kB 24.3MB/s eta 0:00:01\r\u001b[K     |██████████████████████████████  | 481kB 24.3MB/s eta 0:00:01\r\u001b[K     |██████████████████████████████▋ | 491kB 24.3MB/s eta 0:00:01\r\u001b[K     |███████████████████████████████▎| 501kB 24.3MB/s eta 0:00:01\r\u001b[K     |███████████████████████████████▉| 512kB 24.3MB/s eta 0:00:01\r\u001b[K     |████████████████████████████████| 522kB 24.3MB/s \n",
            "\u001b[?25hRequirement already satisfied: numpy in /usr/local/lib/python3.7/dist-packages (from pennylane) (1.19.5)\n",
            "Requirement already satisfied: appdirs in /usr/local/lib/python3.7/dist-packages (from pennylane) (1.4.4)\n",
            "Requirement already satisfied: networkx in /usr/local/lib/python3.7/dist-packages (from pennylane) (2.5.1)\n",
            "Collecting semantic-version==2.6\n",
            "  Downloading https://files.pythonhosted.org/packages/28/be/3a7241d731ba89063780279a5433f5971c1cf41735b64a9f874b7c3ff995/semantic_version-2.6.0-py3-none-any.whl\n",
            "Collecting autoray\n",
            "  Downloading https://files.pythonhosted.org/packages/2e/9f/6742425eba1664edc8d6e93dd4536f4552acacd1a7b3a7ac2871657c969a/autoray-0.2.5-py3-none-any.whl\n",
            "Requirement already satisfied: toml in /usr/local/lib/python3.7/dist-packages (from pennylane) (0.10.2)\n",
            "Requirement already satisfied: autograd in /usr/local/lib/python3.7/dist-packages (from pennylane) (1.3)\n",
            "Requirement already satisfied: scipy in /usr/local/lib/python3.7/dist-packages (from pennylane) (1.4.1)\n",
            "Requirement already satisfied: decorator<5,>=4.3 in /usr/local/lib/python3.7/dist-packages (from networkx->pennylane) (4.4.2)\n",
            "Requirement already satisfied: future>=0.15.2 in /usr/local/lib/python3.7/dist-packages (from autograd->pennylane) (0.16.0)\n",
            "Installing collected packages: semantic-version, autoray, pennylane\n",
            "Successfully installed autoray-0.2.5 pennylane-0.16.0 semantic-version-2.6.0\n"
          ],
          "name": "stdout"
        }
      ]
    },
    {
      "cell_type": "code",
      "metadata": {
        "id": "MbusHazaOtv8"
      },
      "source": [
        "import pennylane as qml\n",
        "from pennylane import numpy as np\n",
        "from pennylane.templates import RandomLayers\n",
        "import tensorflow as tf\n",
        "from tensorflow import keras\n",
        "import matplotlib.pyplot as plt\n",
        "\n",
        "from google.colab import drive"
      ],
      "execution_count": 5,
      "outputs": []
    },
    {
      "cell_type": "markdown",
      "metadata": {
        "id": "e-Ne4KxfOtv8"
      },
      "source": [
        "Setting of the main hyper-parameters of the model\n",
        "=================================================\n"
      ]
    },
    {
      "cell_type": "code",
      "metadata": {
        "id": "FmjAA145Qc1U",
        "outputId": "d5310285-b75a-4780-e3b4-beeabaf59659",
        "colab": {
          "base_uri": "https://localhost:8080/"
        }
      },
      "source": [
        "drive.mount('/content/drive/')"
      ],
      "execution_count": 6,
      "outputs": [
        {
          "output_type": "stream",
          "text": [
            "Mounted at /content/drive/\n"
          ],
          "name": "stdout"
        }
      ]
    },
    {
      "cell_type": "code",
      "metadata": {
        "id": "0cCUCLvDOtv8"
      },
      "source": [
        "n_epochs = 30   # Number of optimization epochs\n",
        "n_layers = 1    # Number of random layers\n",
        "n_train = 50    # Size of the train dataset\n",
        "n_test = 30     # Size of the test dataset\n",
        "\n",
        "SAVE_PATH = \"drive/MyDrive/quanvolution/\" # Data saving folder\n",
        "PREPROCESS = True           # If False, skip quantum processing and load data from SAVE_PATH\n",
        "np.random.seed(0)           # Seed for NumPy random number generator\n",
        "tf.random.set_seed(0)       # Seed for TensorFlow random number generator"
      ],
      "execution_count": 7,
      "outputs": []
    },
    {
      "cell_type": "markdown",
      "metadata": {
        "id": "BnSRtRdoOtv8"
      },
      "source": [
        "Loading of the MNIST dataset\n",
        "============================\n"
      ]
    },
    {
      "cell_type": "code",
      "metadata": {
        "id": "WfHBGQ1WOtv8",
        "outputId": "e336000e-3cbb-46b2-e076-ec8d2ecd244c",
        "colab": {
          "base_uri": "https://localhost:8080/"
        }
      },
      "source": [
        "mnist_dataset = keras.datasets.mnist\n",
        "(train_images, train_labels), (test_images, test_labels) = mnist_dataset.load_data()\n",
        "\n",
        "# Reduce dataset size\n",
        "train_images = train_images[:n_train]\n",
        "train_labels = train_labels[:n_train]\n",
        "test_images = test_images[:n_test]\n",
        "test_labels = test_labels[:n_test]\n",
        "\n",
        "# Normalize pixel values within 0 and 1\n",
        "train_images = train_images / 255\n",
        "test_images = test_images / 255\n",
        "\n",
        "# Add extra dimension for convolution channels\n",
        "train_images = np.array(train_images[..., tf.newaxis], requires_grad=False)\n",
        "test_images = np.array(test_images[..., tf.newaxis], requires_grad=False)"
      ],
      "execution_count": 8,
      "outputs": [
        {
          "output_type": "stream",
          "text": [
            "Downloading data from https://storage.googleapis.com/tensorflow/tf-keras-datasets/mnist.npz\n",
            "11493376/11490434 [==============================] - 0s 0us/step\n"
          ],
          "name": "stdout"
        }
      ]
    },
    {
      "cell_type": "markdown",
      "metadata": {
        "id": "IH-b8R-pOtv8"
      },
      "source": [
        "Quantum circuit as a convolution kernel\n",
        "======================================="
      ]
    },
    {
      "cell_type": "code",
      "metadata": {
        "id": "q1-gwDwtOtv8"
      },
      "source": [
        "dev = qml.device(\"default.qubit\", wires=4)\n",
        "# Random circuit parameters\n",
        "rand_params = np.random.uniform(high=2 * np.pi, size=(n_layers, 4))\n",
        "\n",
        "@qml.qnode(dev)\n",
        "def circuit(phi):\n",
        "    # Encoding of 4 classical input values\n",
        "    for j in range(4):\n",
        "        qml.RY(np.pi * phi[j], wires=j)\n",
        "\n",
        "    # Random quantum circuit\n",
        "    RandomLayers(rand_params, wires=list(range(4)))\n",
        "\n",
        "    # Measurement producing 4 classical output values\n",
        "    return [qml.expval(qml.PauliZ(j)) for j in range(4)]"
      ],
      "execution_count": 9,
      "outputs": []
    },
    {
      "cell_type": "code",
      "metadata": {
        "id": "BxW-9aLEOtv8"
      },
      "source": [
        "def quanv(image):\n",
        "    \"\"\"Convolves the input image with many applications of the same quantum circuit.\"\"\"\n",
        "    out = np.zeros((14, 14, 4))\n",
        "\n",
        "    # Loop over the coordinates of the top-left pixel of 2X2 squares\n",
        "    for j in range(0, 28, 2):\n",
        "        for k in range(0, 28, 2):\n",
        "            # Process a squared 2x2 region of the image with a quantum circuit\n",
        "            q_results = circuit(\n",
        "                [\n",
        "                    image[j, k, 0],\n",
        "                    image[j, k + 1, 0],\n",
        "                    image[j + 1, k, 0],\n",
        "                    image[j + 1, k + 1, 0]\n",
        "                ]\n",
        "            )\n",
        "            # Assign expectation values to different channels of the output pixel (j/2, k/2)\n",
        "            for c in range(4):\n",
        "                out[j // 2, k // 2, c] = q_results[c]\n",
        "    return out"
      ],
      "execution_count": 10,
      "outputs": []
    },
    {
      "cell_type": "code",
      "metadata": {
        "id": "K5nxudCCOtv8",
        "outputId": "e655882b-2540-4260-8c15-be49c0f8bc38",
        "colab": {
          "base_uri": "https://localhost:8080/"
        }
      },
      "source": [
        "if PREPROCESS == True:\n",
        "    q_train_images = []\n",
        "    print(\"Quantum pre-processing of train images:\")\n",
        "    for idx, img in enumerate(train_images):\n",
        "        print(\"{}/{}        \".format(idx + 1, n_train), end=\"\\r\")\n",
        "        q_train_images.append(quanv(img))\n",
        "    q_train_images = np.asarray(q_train_images)\n",
        "\n",
        "    q_test_images = []\n",
        "    print(\"\\nQuantum pre-processing of test images:\")\n",
        "    for idx, img in enumerate(test_images):\n",
        "        print(\"{}/{}        \".format(idx + 1, n_test), end=\"\\r\")\n",
        "        q_test_images.append(quanv(img))\n",
        "    q_test_images = np.asarray(q_test_images)\n",
        "\n",
        "    # Save pre-processed images\n",
        "    np.save(SAVE_PATH + \"q_train_images.npy\", q_train_images)\n",
        "    np.save(SAVE_PATH + \"q_test_images.npy\", q_test_images)\n",
        "\n",
        "\n",
        "# Load pre-processed images\n",
        "q_train_images = np.load(SAVE_PATH + \"q_train_images.npy\")\n",
        "q_test_images = np.load(SAVE_PATH + \"q_test_images.npy\")"
      ],
      "execution_count": 12,
      "outputs": [
        {
          "output_type": "stream",
          "text": [
            "Quantum pre-processing of train images:\n",
            "\n",
            "Quantum pre-processing of test images:\n"
          ],
          "name": "stdout"
        }
      ]
    },
    {
      "cell_type": "code",
      "metadata": {
        "id": "Gbo6PDVuOtv8",
        "outputId": "84fb70a1-4ab9-4050-e74d-047f4b889e2e",
        "colab": {
          "base_uri": "https://localhost:8080/",
          "height": 729
        }
      },
      "source": [
        "n_samples = 4\n",
        "n_channels = 4\n",
        "fig, axes = plt.subplots(1 + n_channels, n_samples, figsize=(10, 10))\n",
        "for k in range(n_samples):\n",
        "    axes[0, 0].set_ylabel(\"Input\")\n",
        "    if k != 0:\n",
        "        axes[0, k].yaxis.set_visible(False)\n",
        "    axes[0, k].imshow(train_images[k, :, :, 0], cmap=\"gray\")\n",
        "\n",
        "    # Plot all output channels\n",
        "    for c in range(n_channels):\n",
        "        axes[c + 1, 0].set_ylabel(\"Output [ch. {}]\".format(c))\n",
        "        if k != 0:\n",
        "            axes[c, k].yaxis.set_visible(False)\n",
        "        axes[c + 1, k].imshow(q_train_images[k, :, :, c], cmap=\"gray\")\n",
        "\n",
        "plt.tight_layout()\n",
        "plt.show()"
      ],
      "execution_count": 13,
      "outputs": [
        {
          "output_type": "display_data",
          "data": {
            "image/png": "[encoded data removed]",
            "text/plain": [
              "<Figure size 720x720 with 20 Axes>"
            ]
          },
          "metadata": {
            "tags": [],
            "needs_background": "light"
          }
        }
      ]
    },
    {
      "cell_type": "markdown",
      "metadata": {
        "id": "nguwkM_FOtv8"
      },
      "source": [
        "Hybrid quantum-classical model\n",
        "=============================="
      ]
    },
    {
      "cell_type": "code",
      "metadata": {
        "id": "HiH3gp0POtv8"
      },
      "source": [
        "def MyModel():\n",
        "    \"\"\"Initializes and returns a custom Keras model\n",
        "    which is ready to be trained.\"\"\"\n",
        "    model = keras.models.Sequential([\n",
        "        keras.layers.Flatten(),\n",
        "        keras.layers.Dense(10, activation=\"softmax\")\n",
        "    ])\n",
        "\n",
        "    model.compile(\n",
        "        optimizer='adam',\n",
        "        loss=\"sparse_categorical_crossentropy\",\n",
        "        metrics=[\"accuracy\"],\n",
        "    )\n",
        "    return model"
      ],
      "execution_count": 14,
      "outputs": []
    },
    {
      "cell_type": "markdown",
      "metadata": {
        "id": "fGvYMxvpOtv8"
      },
      "source": [
        "Training\n",
        "========"
      ]
    },
    {
      "cell_type": "code",
      "metadata": {
        "id": "xFXCjQTzOtv8",
        "outputId": "b89defc5-0c86-414c-bdd8-52d42ba94a1e",
        "colab": {
          "base_uri": "https://localhost:8080/"
        }
      },
      "source": [
        "q_model = MyModel()\n",
        "\n",
        "q_history = q_model.fit(\n",
        "    q_train_images,\n",
        "    train_labels,\n",
        "    validation_data=(q_test_images, test_labels),\n",
        "    batch_size=4,\n",
        "    epochs=n_epochs,\n",
        "    verbose=2,\n",
        ")"
      ],
      "execution_count": 15,
      "outputs": [
        {
          "output_type": "stream",
          "text": [
            "Epoch 1/30\n",
            "13/13 - 3s - loss: 2.9351 - accuracy: 0.1000 - val_loss: 2.3946 - val_accuracy: 0.1000\n",
            "Epoch 2/30\n",
            "13/13 - 0s - loss: 2.1241 - accuracy: 0.2800 - val_loss: 2.1525 - val_accuracy: 0.2000\n",
            "Epoch 3/30\n",
            "13/13 - 0s - loss: 1.7218 - accuracy: 0.5600 - val_loss: 2.0267 - val_accuracy: 0.3333\n",
            "Epoch 4/30\n",
            "13/13 - 0s - loss: 1.3012 - accuracy: 0.6400 - val_loss: 1.7713 - val_accuracy: 0.4000\n",
            "Epoch 5/30\n",
            "13/13 - 0s - loss: 1.0990 - accuracy: 0.8000 - val_loss: 1.6480 - val_accuracy: 0.4333\n",
            "Epoch 6/30\n",
            "13/13 - 0s - loss: 0.9181 - accuracy: 0.8000 - val_loss: 1.6461 - val_accuracy: 0.3667\n",
            "Epoch 7/30\n",
            "13/13 - 0s - loss: 0.7147 - accuracy: 0.9400 - val_loss: 1.5006 - val_accuracy: 0.4667\n",
            "Epoch 8/30\n",
            "13/13 - 0s - loss: 0.5779 - accuracy: 0.9600 - val_loss: 1.4361 - val_accuracy: 0.5333\n",
            "Epoch 9/30\n",
            "13/13 - 0s - loss: 0.4889 - accuracy: 0.9600 - val_loss: 1.4047 - val_accuracy: 0.4667\n",
            "Epoch 10/30\n",
            "13/13 - 0s - loss: 0.3953 - accuracy: 1.0000 - val_loss: 1.3868 - val_accuracy: 0.6000\n",
            "Epoch 11/30\n",
            "13/13 - 0s - loss: 0.3637 - accuracy: 1.0000 - val_loss: 1.3177 - val_accuracy: 0.5667\n",
            "Epoch 12/30\n",
            "13/13 - 0s - loss: 0.3168 - accuracy: 1.0000 - val_loss: 1.3616 - val_accuracy: 0.6000\n",
            "Epoch 13/30\n",
            "13/13 - 0s - loss: 0.2685 - accuracy: 1.0000 - val_loss: 1.2598 - val_accuracy: 0.6333\n",
            "Epoch 14/30\n",
            "13/13 - 0s - loss: 0.2563 - accuracy: 1.0000 - val_loss: 1.2434 - val_accuracy: 0.6000\n",
            "Epoch 15/30\n",
            "13/13 - 0s - loss: 0.2066 - accuracy: 1.0000 - val_loss: 1.2455 - val_accuracy: 0.6667\n",
            "Epoch 16/30\n",
            "13/13 - 0s - loss: 0.1812 - accuracy: 1.0000 - val_loss: 1.2440 - val_accuracy: 0.6333\n",
            "Epoch 17/30\n",
            "13/13 - 0s - loss: 0.1723 - accuracy: 1.0000 - val_loss: 1.2011 - val_accuracy: 0.6333\n",
            "Epoch 18/30\n",
            "13/13 - 0s - loss: 0.1508 - accuracy: 1.0000 - val_loss: 1.1979 - val_accuracy: 0.6667\n",
            "Epoch 19/30\n",
            "13/13 - 0s - loss: 0.1383 - accuracy: 1.0000 - val_loss: 1.1998 - val_accuracy: 0.6667\n",
            "Epoch 20/30\n",
            "13/13 - 0s - loss: 0.1280 - accuracy: 1.0000 - val_loss: 1.1586 - val_accuracy: 0.6667\n",
            "Epoch 21/30\n",
            "13/13 - 0s - loss: 0.1162 - accuracy: 1.0000 - val_loss: 1.1943 - val_accuracy: 0.6667\n",
            "Epoch 22/30\n",
            "13/13 - 0s - loss: 0.1072 - accuracy: 1.0000 - val_loss: 1.1681 - val_accuracy: 0.6667\n",
            "Epoch 23/30\n",
            "13/13 - 0s - loss: 0.1005 - accuracy: 1.0000 - val_loss: 1.1405 - val_accuracy: 0.6667\n",
            "Epoch 24/30\n",
            "13/13 - 0s - loss: 0.0934 - accuracy: 1.0000 - val_loss: 1.1306 - val_accuracy: 0.6667\n",
            "Epoch 25/30\n",
            "13/13 - 0s - loss: 0.0892 - accuracy: 1.0000 - val_loss: 1.1352 - val_accuracy: 0.6667\n",
            "Epoch 26/30\n",
            "13/13 - 0s - loss: 0.0809 - accuracy: 1.0000 - val_loss: 1.1310 - val_accuracy: 0.6667\n",
            "Epoch 27/30\n",
            "13/13 - 0s - loss: 0.0775 - accuracy: 1.0000 - val_loss: 1.1192 - val_accuracy: 0.6667\n",
            "Epoch 28/30\n",
            "13/13 - 0s - loss: 0.0762 - accuracy: 1.0000 - val_loss: 1.1190 - val_accuracy: 0.6667\n",
            "Epoch 29/30\n",
            "13/13 - 0s - loss: 0.0701 - accuracy: 1.0000 - val_loss: 1.1396 - val_accuracy: 0.6667\n",
            "Epoch 30/30\n",
            "13/13 - 0s - loss: 0.0649 - accuracy: 1.0000 - val_loss: 1.1121 - val_accuracy: 0.6667\n"
          ],
          "name": "stdout"
        }
      ]
    },
    {
      "cell_type": "code",
      "metadata": {
        "id": "7CShXyWHOtv8",
        "outputId": "abf04450-7041-41cd-9edf-7e289a90bcc6",
        "colab": {
          "base_uri": "https://localhost:8080/"
        }
      },
      "source": [
        "c_model = MyModel()\n",
        "\n",
        "c_history = c_model.fit(\n",
        "    train_images,\n",
        "    train_labels,\n",
        "    validation_data=(test_images, test_labels),\n",
        "    batch_size=4,\n",
        "    epochs=n_epochs,\n",
        "    verbose=2,\n",
        ")"
      ],
      "execution_count": 16,
      "outputs": [
        {
          "output_type": "stream",
          "text": [
            "Epoch 1/30\n",
            "13/13 - 0s - loss: 2.3920 - accuracy: 0.1000 - val_loss: 2.3593 - val_accuracy: 0.0333\n",
            "Epoch 2/30\n",
            "13/13 - 0s - loss: 2.0247 - accuracy: 0.2600 - val_loss: 2.1961 - val_accuracy: 0.1000\n",
            "Epoch 3/30\n",
            "13/13 - 0s - loss: 1.7295 - accuracy: 0.5200 - val_loss: 2.0452 - val_accuracy: 0.2000\n",
            "Epoch 4/30\n",
            "13/13 - 0s - loss: 1.4920 - accuracy: 0.7400 - val_loss: 1.8979 - val_accuracy: 0.3000\n",
            "Epoch 5/30\n",
            "13/13 - 0s - loss: 1.2813 - accuracy: 0.8800 - val_loss: 1.7643 - val_accuracy: 0.5000\n",
            "Epoch 6/30\n",
            "13/13 - 0s - loss: 1.1111 - accuracy: 0.9000 - val_loss: 1.6653 - val_accuracy: 0.5000\n",
            "Epoch 7/30\n",
            "13/13 - 0s - loss: 0.9656 - accuracy: 0.9200 - val_loss: 1.5896 - val_accuracy: 0.5667\n",
            "Epoch 8/30\n",
            "13/13 - 0s - loss: 0.8459 - accuracy: 0.9400 - val_loss: 1.5169 - val_accuracy: 0.6333\n",
            "Epoch 9/30\n",
            "13/13 - 0s - loss: 0.7474 - accuracy: 0.9400 - val_loss: 1.4564 - val_accuracy: 0.7000\n",
            "Epoch 10/30\n",
            "13/13 - 0s - loss: 0.6632 - accuracy: 0.9600 - val_loss: 1.4129 - val_accuracy: 0.7000\n",
            "Epoch 11/30\n",
            "13/13 - 0s - loss: 0.5979 - accuracy: 0.9600 - val_loss: 1.3647 - val_accuracy: 0.7000\n",
            "Epoch 12/30\n",
            "13/13 - 0s - loss: 0.5373 - accuracy: 0.9600 - val_loss: 1.3518 - val_accuracy: 0.6667\n",
            "Epoch 13/30\n",
            "13/13 - 0s - loss: 0.4858 - accuracy: 1.0000 - val_loss: 1.3173 - val_accuracy: 0.6333\n",
            "Epoch 14/30\n",
            "13/13 - 0s - loss: 0.4388 - accuracy: 1.0000 - val_loss: 1.2759 - val_accuracy: 0.7000\n",
            "Epoch 15/30\n",
            "13/13 - 0s - loss: 0.3981 - accuracy: 1.0000 - val_loss: 1.2483 - val_accuracy: 0.7000\n",
            "Epoch 16/30\n",
            "13/13 - 0s - loss: 0.3641 - accuracy: 1.0000 - val_loss: 1.2296 - val_accuracy: 0.7000\n",
            "Epoch 17/30\n",
            "13/13 - 0s - loss: 0.3357 - accuracy: 1.0000 - val_loss: 1.2126 - val_accuracy: 0.7000\n",
            "Epoch 18/30\n",
            "13/13 - 0s - loss: 0.3090 - accuracy: 1.0000 - val_loss: 1.1904 - val_accuracy: 0.7000\n",
            "Epoch 19/30\n",
            "13/13 - 0s - loss: 0.2836 - accuracy: 1.0000 - val_loss: 1.1819 - val_accuracy: 0.6667\n",
            "Epoch 20/30\n",
            "13/13 - 0s - loss: 0.2636 - accuracy: 1.0000 - val_loss: 1.1595 - val_accuracy: 0.6667\n",
            "Epoch 21/30\n",
            "13/13 - 0s - loss: 0.2446 - accuracy: 1.0000 - val_loss: 1.1561 - val_accuracy: 0.6667\n",
            "Epoch 22/30\n",
            "13/13 - 0s - loss: 0.2272 - accuracy: 1.0000 - val_loss: 1.1438 - val_accuracy: 0.6667\n",
            "Epoch 23/30\n",
            "13/13 - 0s - loss: 0.2116 - accuracy: 1.0000 - val_loss: 1.1327 - val_accuracy: 0.6667\n",
            "Epoch 24/30\n",
            "13/13 - 0s - loss: 0.1980 - accuracy: 1.0000 - val_loss: 1.1228 - val_accuracy: 0.6333\n",
            "Epoch 25/30\n",
            "13/13 - 0s - loss: 0.1868 - accuracy: 1.0000 - val_loss: 1.1165 - val_accuracy: 0.6667\n",
            "Epoch 26/30\n",
            "13/13 - 0s - loss: 0.1743 - accuracy: 1.0000 - val_loss: 1.1081 - val_accuracy: 0.6667\n",
            "Epoch 27/30\n",
            "13/13 - 0s - loss: 0.1646 - accuracy: 1.0000 - val_loss: 1.0975 - val_accuracy: 0.6667\n",
            "Epoch 28/30\n",
            "13/13 - 0s - loss: 0.1560 - accuracy: 1.0000 - val_loss: 1.0918 - val_accuracy: 0.6667\n",
            "Epoch 29/30\n",
            "13/13 - 0s - loss: 0.1468 - accuracy: 1.0000 - val_loss: 1.0877 - val_accuracy: 0.6667\n",
            "Epoch 30/30\n",
            "13/13 - 0s - loss: 0.1383 - accuracy: 1.0000 - val_loss: 1.0831 - val_accuracy: 0.6667\n"
          ],
          "name": "stdout"
        }
      ]
    },
    {
      "cell_type": "markdown",
      "metadata": {
        "id": "Hmv-_2A1Otv8"
      },
      "source": [
        "Results\n",
        "======="
      ]
    },
    {
      "cell_type": "code",
      "metadata": {
        "id": "gX-9rc6EOtv8",
        "outputId": "f4247503-8529-453c-faa6-f0218148b226",
        "colab": {
          "base_uri": "https://localhost:8080/",
          "height": 657
        }
      },
      "source": [
        "import matplotlib.pyplot as plt\n",
        "\n",
        "plt.style.use(\"seaborn\")\n",
        "fig, (ax1, ax2) = plt.subplots(2, 1, figsize=(6, 9))\n",
        "\n",
        "ax1.plot(q_history.history[\"val_accuracy\"], \"-ob\", label=\"With quantum layer\")\n",
        "ax1.plot(c_history.history[\"val_accuracy\"], \"-og\", label=\"Without quantum layer\")\n",
        "ax1.set_ylabel(\"Accuracy\")\n",
        "ax1.set_ylim([0, 1])\n",
        "ax1.set_xlabel(\"Epoch\")\n",
        "ax1.legend()\n",
        "\n",
        "ax2.plot(q_history.history[\"val_loss\"], \"-ob\", label=\"With quantum layer\")\n",
        "ax2.plot(c_history.history[\"val_loss\"], \"-og\", label=\"Without quantum layer\")\n",
        "ax2.set_ylabel(\"Loss\")\n",
        "ax2.set_ylim(top=2.5)\n",
        "ax2.set_xlabel(\"Epoch\")\n",
        "ax2.legend()\n",
        "plt.tight_layout()\n",
        "plt.show()"
      ],
      "execution_count": 17,
      "outputs": [
        {
          "output_type": "display_data",
          "data": {
            "image/png": "[encoded data removed]",
            "text/plain": [
              "<Figure size 432x648 with 2 Axes>"
            ]
          },
          "metadata": {
            "tags": []
          }
        }
      ]
    }
  ]
}