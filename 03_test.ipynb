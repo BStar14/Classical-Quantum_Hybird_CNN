{
  "nbformat": 4,
  "nbformat_minor": 0,
  "metadata": {
    "colab": {
      "name": "03_test.ipynb",
      "provenance": [],
      "collapsed_sections": [],
      "include_colab_link": true
    },
    "kernelspec": {
      "name": "python3",
      "display_name": "Python 3"
    },
    "language_info": {
      "name": "python"
    },
    "accelerator": "GPU"
  },
  "cells": [
    {
      "cell_type": "markdown",
      "metadata": {
        "id": "view-in-github",
        "colab_type": "text"
      },
      "source": [
        "<a href=\"https://colab.research.google.com/github/BStar14/Classical-Quantum_Hybird_CNN/blob/main/03_test.ipynb\" target=\"_parent\"><img src=\"https://colab.research.google.com/assets/colab-badge.svg\" alt=\"Open In Colab\"/></a>"
      ]
    },
    {
      "cell_type": "code",
      "metadata": {
        "colab": {
          "base_uri": "https://localhost:8080/"
        },
        "id": "dOPI7p0ENVTH",
        "outputId": "593888fc-4f9d-436a-9a4e-e8246920f5dc"
      },
      "source": [
        "from google.colab import drive\n",
        "drive.mount('/content/drive')"
      ],
      "execution_count": null,
      "outputs": [
        {
          "output_type": "stream",
          "text": [
            "Mounted at /content/drive\n"
          ],
          "name": "stdout"
        }
      ]
    },
    {
      "cell_type": "code",
      "metadata": {
        "id": "y2uLSpfnNpDV",
        "colab": {
          "base_uri": "https://localhost:8080/"
        },
        "outputId": "8f505630-da7f-4dee-a15e-c879f8d104fb"
      },
      "source": [
        "cd/content/drive/MyDrive/Colab Notebooks/QHK2021/03_test"
      ],
      "execution_count": null,
      "outputs": [
        {
          "output_type": "stream",
          "text": [
            "/content/drive/MyDrive/Colab Notebooks/QHK2021/03_test\n"
          ],
          "name": "stdout"
        }
      ]
    },
    {
      "cell_type": "code",
      "metadata": {
        "id": "bqc_rrHrmxD8"
      },
      "source": [
        "import matplotlib.pyplot as plt\n",
        "import numpy as np\n",
        "\n",
        "import torch \n",
        "import torch.nn as nn # basic neural network\n",
        "import torch.nn.functional as F # Convolutional functions\n",
        "import torch.optim as optim # optimizers\n",
        "import torch.utils.data as data_utils # data resizer\n",
        "from torchvision import datasets, transforms # image datasets, image transformations\n",
        "\n",
        "import pandas as pd"
      ],
      "execution_count": null,
      "outputs": []
    },
    {
      "cell_type": "code",
      "metadata": {
        "id": "MtM-9Y_ns6G8"
      },
      "source": [
        "torch.cuda.is_available()\n",
        "torch.manual_seed(0)\n",
        "if torch.cuda.is_available():\n",
        "  torch.cuda.manual_seed_all(0)"
      ],
      "execution_count": null,
      "outputs": []
    },
    {
      "cell_type": "code",
      "metadata": {
        "id": "qATAHWS0nvYL"
      },
      "source": [
        "n_epochs = 30     # Number of optimization epochs\n",
        "n_channels = 25   # Number of channels\n",
        "n_trn = 50        # Size of the train dataset\n",
        "n_val = 30        # Size of the validation dataset\n",
        "batch_size = 10   # Size of batch\n",
        "\n",
        "np.random.seed(0)           # Seed for NumPy random number generator\n",
        "n_poly = 3                  # Order of polynomials\n",
        "rand_params = np.random.uniform(low=-1.0, high=1.0, size=(n_channels, n_poly))\n",
        "\n",
        "PREPROCESS = False"
      ],
      "execution_count": null,
      "outputs": []
    },
    {
      "cell_type": "code",
      "metadata": {
        "colab": {
          "base_uri": "https://localhost:8080/"
        },
        "id": "BKoFtnGVm8X7",
        "outputId": "7dff52d9-f8fb-42ea-b807-ab66ad0c754e"
      },
      "source": [
        "trn_dataset = datasets.MNIST('../03_test/',\n",
        "                             download=True,\n",
        "                             train=True,\n",
        "                             transform=transforms.Compose([\n",
        "                                 transforms.ToTensor()#, # image to Tensor\n",
        "                                #  transforms.Normalize((0.1307,), (0.3081,)) # mean, std of MNIST.\n",
        "                             ])) \n",
        "\n",
        "val_dataset = datasets.MNIST(\"../03_test/\", \n",
        "                             download=False,\n",
        "                             train=False,\n",
        "                             transform= transforms.Compose([\n",
        "                               transforms.ToTensor()#,\n",
        "                              #  transforms.Normalize((0.1307, ),(0.3081, ))\n",
        "                           ]))"
      ],
      "execution_count": null,
      "outputs": [
        {
          "output_type": "stream",
          "text": [
            "/usr/local/lib/python3.7/dist-packages/torchvision/datasets/mnist.py:498: UserWarning: The given NumPy array is not writeable, and PyTorch does not support non-writeable tensors. This means you can write to the underlying (supposedly non-writeable) NumPy array using the tensor. You may want to copy the array to protect its data or make it writeable before converting it to a tensor. This type of warning will be suppressed for the rest of this program. (Triggered internally at  /pytorch/torch/csrc/utils/tensor_numpy.cpp:180.)\n",
            "  return torch.from_numpy(parsed.astype(m[2], copy=False)).view(*s)\n"
          ],
          "name": "stderr"
        }
      ]
    },
    {
      "cell_type": "code",
      "metadata": {
        "id": "Uzj6cq25m-ig"
      },
      "source": [
        "trn_dataset = data_utils.Subset(trn_dataset, range(n_trn))\n",
        "val_dataset = data_utils.Subset(val_dataset, range(n_val))\n",
        "\n",
        "# Batch iterator\n",
        "trn_loader = torch.utils.data.DataLoader(dataset = trn_dataset,\n",
        "                                         batch_size = batch_size,\n",
        "                                         shuffle = True)\n",
        "\n",
        "val_loader = torch.utils.data.DataLoader(dataset = val_dataset,\n",
        "                                         batch_size = batch_size,\n",
        "                                         shuffle = True)"
      ],
      "execution_count": null,
      "outputs": []
    },
    {
      "cell_type": "code",
      "metadata": {
        "colab": {
          "base_uri": "https://localhost:8080/",
          "height": 129
        },
        "id": "eeo6pgf0CYcu",
        "outputId": "a37cfa91-c4a9-4303-aea6-a393df1c1982"
      },
      "source": [
        "for (X_train, y_train) in trn_loader:\n",
        "    print('X_train:', X_train.size(), 'type:', X_train.type())\n",
        "    print('y_train:', y_train.size(), 'type:', y_train.type())\n",
        "    break\n",
        "\n",
        "pltsize = 1\n",
        "plt.figure(figsize=(10 * pltsize, pltsize))\n",
        "for i in range(10):\n",
        "    plt.subplot(1, 10, i + 1)\n",
        "    plt.axis('off')\n",
        "    plt.imshow(X_train[i, :, :, :].numpy().reshape(28, 28), cmap = \"gray_r\")\n",
        "    plt.title('Class: ' + str(y_train[i].item()))"
      ],
      "execution_count": null,
      "outputs": [
        {
          "output_type": "stream",
          "text": [
            "X_train: torch.Size([10, 1, 28, 28]) type: torch.FloatTensor\n",
            "y_train: torch.Size([10]) type: torch.LongTensor\n"
          ],
          "name": "stdout"
        },
        {
          "output_type": "display_data",
          "data": {
            "image/png": "[encoded data removed]",
            "text/plain": [
              "<Figure size 720x72 with 10 Axes>"
            ]
          },
          "metadata": {
            "tags": [],
            "needs_background": "light"
          }
        }
      ]
    },
    {
      "cell_type": "code",
      "metadata": {
        "id": "ywoj9pnUnB2X"
      },
      "source": [
        "## Random Polynomial Definition\n",
        "def rand_poly(x):\n",
        "\n",
        "  result_array = []\n",
        "  for i in range(n_channels):\n",
        "    result = 0\n",
        "    for j in range(n_poly):\n",
        "      for k in x:\n",
        "        result = result + rand_params[i, j] * (k ** j)\n",
        "    result_array.append(result)\n",
        "\n",
        "  return np.array(result_array)"
      ],
      "execution_count": null,
      "outputs": []
    },
    {
      "cell_type": "code",
      "metadata": {
        "id": "G_lsuQOYD8LY"
      },
      "source": [
        "## Apply Nonlinear Filter\n",
        "def rand_nl(x):\n",
        "  height = 28\n",
        "  width = 28\n",
        "  h = height - 1\n",
        "  w = width - 1\n",
        "  center = torch.tensor([0, 0])\n",
        "  magnitude = 0.15\n",
        "  n = 5\n",
        "\n",
        "  # (n-1)th order polynomial\n",
        "  \n",
        "  result_tensor = torch.tensor([])\n",
        "  for i in range(batch_size):\n",
        "    result3 = np.empty((n_channels, 0, w))\n",
        "    for j in range(h):\n",
        "      result2 = np.empty((n_channels, 1, 0))\n",
        "      for k in range(w):\n",
        "        result1 = rand_poly(\n",
        "          [\n",
        "            x[i, 0, j, k],\n",
        "            x[i, 0, j, k + 1],\n",
        "            x[i, 0, j + 1, k],\n",
        "            x[i, 0, j + 1, k + 1]\n",
        "          ]\n",
        "        )\n",
        "        y = np.expand_dims(x, axis=1)\n",
        "        result1 = np.expand_dims(result1, axis=(1, 2))\n",
        "        result2 = np.concatenate((result2, result1), axis=2)\n",
        "      result3 = np.concatenate((result3, result2), axis=1)\n",
        "      \n",
        "    result_tensor = torch.cat((result_tensor, torch.tensor(result3).unsqueeze(0)))\n",
        "    \n",
        "    print(f\"{(i+1)*10}%\")\n",
        "\n",
        "  return result_tensor"
      ],
      "execution_count": null,
      "outputs": []
    },
    {
      "cell_type": "code",
      "metadata": {
        "id": "GzluWgC7VG_z"
      },
      "source": [
        "if PREPROCESS == True:\n",
        "  nl_trn_images = torch.tensor([])\n",
        "  for i, data in enumerate(trn_loader):\n",
        "    x, label = data\n",
        "    print(f\"Processing batch #{i+1}\")\n",
        "    x = rand_nl(x)\n",
        "    nl_trn_images = torch.cat((nl_trn_images, x))\n",
        "\n",
        "  torch.save(nl_trn_images, 'nl_trn_images')"
      ],
      "execution_count": null,
      "outputs": []
    },
    {
      "cell_type": "code",
      "metadata": {
        "id": "cDoKzYs0W9PX"
      },
      "source": [
        "# Load pre-processed images\n",
        "nl_trn_images = torch.load('nl_trn_images')"
      ],
      "execution_count": null,
      "outputs": []
    },
    {
      "cell_type": "code",
      "metadata": {
        "colab": {
          "base_uri": "https://localhost:8080/",
          "height": 78
        },
        "id": "eQF688y4N60L",
        "outputId": "1a2a2720-5e08-438d-831f-37c7edac3ff7"
      },
      "source": [
        "pltsize = 1\n",
        "plt.figure(figsize=(10 * pltsize, pltsize))\n",
        "for i in range(10):\n",
        "    plt.subplot(1, 10, i + 1)\n",
        "    plt.axis('off')\n",
        "    plt.imshow(nl_trn_images[i, 0, :, :].numpy().reshape(27, 27), cmap = \"gray_r\")"
      ],
      "execution_count": null,
      "outputs": [
        {
          "output_type": "display_data",
          "data": {
            "image/png": "[encoded data removed]",
            "text/plain": [
              "<Figure size 720x72 with 10 Axes>"
            ]
          },
          "metadata": {
            "tags": [],
            "needs_background": "light"
          }
        }
      ]
    },
    {
      "cell_type": "code",
      "metadata": {
        "id": "Ff3_o2zDnDtT"
      },
      "source": [
        "# construct model on cuda if available\n",
        "use_cuda = torch.cuda.is_available()\n",
        "\n",
        "class CNNClassifier(nn.Module):\n",
        "    \n",
        "    def __init__(self, model='cnn'):\n",
        "        super(CNNClassifier, self).__init__()\n",
        "        \n",
        "        nl_conv = nn.Conv2d(in_channels=1, out_channels=25, kernel_size=1) # 25@28*28\n",
        "        nl_conv1 = nn.Conv2d(in_channels=25, out_channels=50, kernel_size=5) # 50@24*24\n",
        "        conv1 = nn.Conv2d(in_channels=1, out_channels=50, kernel_size=5) # 50@24*24\n",
        "        pool1 = nn.MaxPool2d(2) # 50@12*12\n",
        "        conv2 = nn.Conv2d(in_channels=50, out_channels=64, kernel_size=5) # 64@8*8\n",
        "        pool2 = nn.MaxPool2d(2) # 64@4*4\n",
        "\n",
        "        fc2 = nn.Linear(1024, 10)\n",
        "\n",
        "        nn.init.xavier_uniform_(nl_conv.weight)\n",
        "        nn.init.xavier_uniform_(nl_conv1.weight)\n",
        "        nn.init.xavier_uniform_(conv1.weight)\n",
        "        nn.init.xavier_uniform_(conv2.weight)\n",
        "        nn.init.xavier_uniform_(fc2.weight)\n",
        "\n",
        "        if model == 'random':\n",
        "            self.conv_module = nn.Sequential(\n",
        "                nl_conv1,\n",
        "                nn.ReLU(),\n",
        "                pool1,\n",
        "                conv2,\n",
        "                nn.ReLU(),\n",
        "                pool2\n",
        "            )\n",
        "        else:\n",
        "            self.conv_module = nn.Sequential(\n",
        "                conv1,\n",
        "                nn.ReLU(),\n",
        "                pool1,\n",
        "                conv2,\n",
        "                nn.ReLU(),\n",
        "                pool2\n",
        "            )\n",
        "\n",
        "        self.fc_module = nn.Sequential(\n",
        "            nn.Dropout(p=0.4),\n",
        "            nn.ReLU(),\n",
        "            fc2\n",
        "        )\n",
        "        \n",
        "        # cuda\n",
        "        if use_cuda:\n",
        "            self.conv_module = self.conv_module.cuda()\n",
        "            self.fc_module = self.fc_module.cuda()\n",
        "        \n",
        "    def forward(self, x):\n",
        "        out = self.conv_module(x)\n",
        "        # 64@4*4\n",
        "        out = out.view(out.size(0), -1) # 1*1024\n",
        "        out = self.fc_module(out)\n",
        "        return F.softmax(out, dim=1)"
      ],
      "execution_count": null,
      "outputs": []
    },
    {
      "cell_type": "code",
      "metadata": {
        "id": "TOJ3IkQBnG7s"
      },
      "source": [
        "def save_data_file(file_name, classifier = CNNClassifier(), verbose=False, model='', **kwargs):\n",
        "  criterion = nn.CrossEntropyLoss()\n",
        "  learning_rate = 1e-3\n",
        "  num_epochs = 1\n",
        "  \n",
        "  optimizer = optim.Adam(classifier.parameters(), lr=learning_rate)\n",
        "  num_batches = len(trn_loader)\n",
        "\n",
        "  trn_loss_list = []\n",
        "  val_loss_list = []\n",
        "  trn_acc_list = []\n",
        "  val_acc_list = []\n",
        "\n",
        "  for epoch in range(num_epochs):\n",
        "    trn_loss = 0.0\n",
        "    correct = 0.0\n",
        "    for i, data in enumerate(trn_loader):\n",
        "      x, label = data\n",
        "\n",
        "      if model == 'random':\n",
        "        x = nl_trn_images[i*10:i*10+9, :, :, :]\n",
        "        \n",
        "      if use_cuda:\n",
        "        x = x.cuda()\n",
        "        label = label.cuda()\n",
        "      \n",
        "      optimizer.zero_grad()\n",
        "      \n",
        "      model_output = classifier(x)\n",
        "      _, predicted = torch.max(model_output.data, 1)\n",
        "      \n",
        "      loss = criterion(model_output, label)\n",
        "      loss.backward()\n",
        "      optimizer.step()\n",
        "      \n",
        "      trn_loss += loss.item()\n",
        "      correct += (predicted == label).float().sum()/batch_size\n",
        "\n",
        "      del loss\n",
        "      del model_output\n",
        "      del predicted\n",
        "\n",
        "      if (i+1) % 100 == 0 or i == 0:\n",
        "        with torch.no_grad():\n",
        "          val_loss = 0.0\n",
        "          val_correct = 0.0\n",
        "          for j, val in enumerate(val_loader):\n",
        "            val_x, val_label = val\n",
        "            if use_cuda:\n",
        "              val_x = val_x.cuda()\n",
        "              val_label =val_label.cuda()\n",
        "            val_output = classifier(val_x)\n",
        "            _, val_predicted = torch.max(val_output.data, 1)\n",
        "            v_correct = (val_predicted == val_label).float().sum()/batch_size\n",
        "            v_loss = criterion(val_output, val_label)\n",
        "            val_correct += v_correct\n",
        "            val_loss += v_loss\n",
        "\n",
        "        if verbose:            \n",
        "          print(\"epoch: {}/{} | step: {}/{} | trn loss: {:.4f} | val loss: {:.4f} | trn acc: {:.4f} | val acc: {:.4f}\".format(\n",
        "              epoch+1, num_epochs, i+1, num_batches, trn_loss / 100, val_loss / len(val_loader), correct / 100, val_correct / len(val_loader)\n",
        "          ))\n",
        "        elif (i+1) % 1000 == 0:\n",
        "          print(f'Progress: {(i+1)/num_batches:.2f} %')            \n",
        "        \n",
        "        trn_loss_list.append(trn_loss/100)\n",
        "        val_loss_list.append(val_loss/len(val_loader))\n",
        "        trn_acc_list.append(correct /100)\n",
        "        val_acc_list.append(val_correct / len(val_loader))\n",
        "        if i==0: continue\n",
        "        trn_loss = 0.0 \n",
        "        correct = 0.0\n",
        "\n",
        "  file = pd.DataFrame(data={'trn_loss': trn_loss_list,\n",
        "                            'trn_acc': trn_acc_list,\n",
        "                            'val_loss': val_loss_list,\n",
        "                            'val_acc': val_acc_list})\n",
        "  file.to_pickle('drive/MyDrive/Colab Notebooks/QHK2021/03_test/'+file_name)\n",
        "  \n"
      ],
      "execution_count": null,
      "outputs": []
    },
    {
      "cell_type": "code",
      "metadata": {
        "id": "EKVOYT3FnIFM",
        "colab": {
          "base_uri": "https://localhost:8080/"
        },
        "outputId": "424199b2-746a-454a-b6af-1fd58f727adf"
      },
      "source": [
        "cnn = CNNClassifier()\n",
        "nl_cnn = CNNClassifier(model='random')\n",
        "print(cnn)\n",
        "print(nl_cnn)"
      ],
      "execution_count": null,
      "outputs": [
        {
          "output_type": "stream",
          "text": [
            "CNNClassifier(\n",
            "  (conv_module): Sequential(\n",
            "    (0): Conv2d(1, 50, kernel_size=(5, 5), stride=(1, 1))\n",
            "    (1): ReLU()\n",
            "    (2): MaxPool2d(kernel_size=2, stride=2, padding=0, dilation=1, ceil_mode=False)\n",
            "    (3): Conv2d(50, 64, kernel_size=(5, 5), stride=(1, 1))\n",
            "    (4): ReLU()\n",
            "    (5): MaxPool2d(kernel_size=2, stride=2, padding=0, dilation=1, ceil_mode=False)\n",
            "  )\n",
            "  (fc_module): Sequential(\n",
            "    (0): Dropout(p=0.4, inplace=False)\n",
            "    (1): ReLU()\n",
            "    (2): Linear(in_features=1024, out_features=10, bias=True)\n",
            "  )\n",
            ")\n",
            "CNNClassifier(\n",
            "  (conv_module): Sequential(\n",
            "    (0): Conv2d(25, 50, kernel_size=(5, 5), stride=(1, 1))\n",
            "    (1): ReLU()\n",
            "    (2): MaxPool2d(kernel_size=2, stride=2, padding=0, dilation=1, ceil_mode=False)\n",
            "    (3): Conv2d(50, 64, kernel_size=(5, 5), stride=(1, 1))\n",
            "    (4): ReLU()\n",
            "    (5): MaxPool2d(kernel_size=2, stride=2, padding=0, dilation=1, ceil_mode=False)\n",
            "  )\n",
            "  (fc_module): Sequential(\n",
            "    (0): Dropout(p=0.4, inplace=False)\n",
            "    (1): ReLU()\n",
            "    (2): Linear(in_features=1024, out_features=10, bias=True)\n",
            "  )\n",
            ")\n"
          ],
          "name": "stdout"
        }
      ]
    },
    {
      "cell_type": "code",
      "metadata": {
        "id": "Qeboe4lmnNl8",
        "colab": {
          "base_uri": "https://localhost:8080/",
          "height": 370
        },
        "outputId": "f0a9236c-0519-40c0-a20b-dbdda95d9e8c"
      },
      "source": [
        "save_data_file('qlassifier_data_unit_cnn.pkl', verbose=False, model='')"
      ],
      "execution_count": null,
      "outputs": [
        {
          "output_type": "stream",
          "text": [
            "/usr/local/lib/python3.7/dist-packages/torch/nn/functional.py:718: UserWarning: Named tensors and all their associated APIs are an experimental feature and subject to change. Please do not use them for anything important until they are released as stable. (Triggered internally at  /pytorch/c10/core/TensorImpl.h:1156.)\n",
            "  return torch.max_pool2d(input, kernel_size, stride, padding, dilation, ceil_mode)\n"
          ],
          "name": "stderr"
        },
        {
          "output_type": "error",
          "ename": "FileNotFoundError",
          "evalue": "ignored",
          "traceback": [
            "\u001b[0;31m---------------------------------------------------------------------------\u001b[0m",
            "\u001b[0;31mFileNotFoundError\u001b[0m                         Traceback (most recent call last)",
            "\u001b[0;32m<ipython-input-17-84a2d1c45ebb>\u001b[0m in \u001b[0;36m<module>\u001b[0;34m()\u001b[0m\n\u001b[0;32m----> 1\u001b[0;31m \u001b[0msave_data_file\u001b[0m\u001b[0;34m(\u001b[0m\u001b[0;34m'qlassifier_data_unit_cnn.pkl'\u001b[0m\u001b[0;34m,\u001b[0m \u001b[0mverbose\u001b[0m\u001b[0;34m=\u001b[0m\u001b[0;32mFalse\u001b[0m\u001b[0;34m,\u001b[0m \u001b[0mmodel\u001b[0m\u001b[0;34m=\u001b[0m\u001b[0;34m''\u001b[0m\u001b[0;34m)\u001b[0m\u001b[0;34m\u001b[0m\u001b[0;34m\u001b[0m\u001b[0m\n\u001b[0m",
            "\u001b[0;32m<ipython-input-15-03c8e01011ee>\u001b[0m in \u001b[0;36msave_data_file\u001b[0;34m(file_name, classifier, verbose, model, **kwargs)\u001b[0m\n\u001b[1;32m     76\u001b[0m                             \u001b[0;34m'val_loss'\u001b[0m\u001b[0;34m:\u001b[0m \u001b[0mval_loss_list\u001b[0m\u001b[0;34m,\u001b[0m\u001b[0;34m\u001b[0m\u001b[0;34m\u001b[0m\u001b[0m\n\u001b[1;32m     77\u001b[0m                             'val_acc': val_acc_list})\n\u001b[0;32m---> 78\u001b[0;31m   \u001b[0mfile\u001b[0m\u001b[0;34m.\u001b[0m\u001b[0mto_pickle\u001b[0m\u001b[0;34m(\u001b[0m\u001b[0;34m'drive/MyDrive/Colab Notebooks/QHK2021/03_test/'\u001b[0m\u001b[0;34m+\u001b[0m\u001b[0mfile_name\u001b[0m\u001b[0;34m)\u001b[0m\u001b[0;34m\u001b[0m\u001b[0;34m\u001b[0m\u001b[0m\n\u001b[0m\u001b[1;32m     79\u001b[0m \u001b[0;34m\u001b[0m\u001b[0m\n",
            "\u001b[0;32m/usr/local/lib/python3.7/dist-packages/pandas/core/generic.py\u001b[0m in \u001b[0;36mto_pickle\u001b[0;34m(self, path, compression, protocol)\u001b[0m\n\u001b[1;32m   2674\u001b[0m         \u001b[0;32mfrom\u001b[0m \u001b[0mpandas\u001b[0m\u001b[0;34m.\u001b[0m\u001b[0mio\u001b[0m\u001b[0;34m.\u001b[0m\u001b[0mpickle\u001b[0m \u001b[0;32mimport\u001b[0m \u001b[0mto_pickle\u001b[0m\u001b[0;34m\u001b[0m\u001b[0;34m\u001b[0m\u001b[0m\n\u001b[1;32m   2675\u001b[0m \u001b[0;34m\u001b[0m\u001b[0m\n\u001b[0;32m-> 2676\u001b[0;31m         \u001b[0mto_pickle\u001b[0m\u001b[0;34m(\u001b[0m\u001b[0mself\u001b[0m\u001b[0;34m,\u001b[0m \u001b[0mpath\u001b[0m\u001b[0;34m,\u001b[0m \u001b[0mcompression\u001b[0m\u001b[0;34m=\u001b[0m\u001b[0mcompression\u001b[0m\u001b[0;34m,\u001b[0m \u001b[0mprotocol\u001b[0m\u001b[0;34m=\u001b[0m\u001b[0mprotocol\u001b[0m\u001b[0;34m)\u001b[0m\u001b[0;34m\u001b[0m\u001b[0;34m\u001b[0m\u001b[0m\n\u001b[0m\u001b[1;32m   2677\u001b[0m \u001b[0;34m\u001b[0m\u001b[0m\n\u001b[1;32m   2678\u001b[0m     def to_clipboard(\n",
            "\u001b[0;32m/usr/local/lib/python3.7/dist-packages/pandas/io/pickle.py\u001b[0m in \u001b[0;36mto_pickle\u001b[0;34m(obj, filepath_or_buffer, compression, protocol)\u001b[0m\n\u001b[1;32m     81\u001b[0m     \u001b[0;32mif\u001b[0m \u001b[0;32mnot\u001b[0m \u001b[0misinstance\u001b[0m\u001b[0;34m(\u001b[0m\u001b[0mfp_or_buf\u001b[0m\u001b[0;34m,\u001b[0m \u001b[0mstr\u001b[0m\u001b[0;34m)\u001b[0m \u001b[0;32mand\u001b[0m \u001b[0mcompression\u001b[0m \u001b[0;34m==\u001b[0m \u001b[0;34m\"infer\"\u001b[0m\u001b[0;34m:\u001b[0m\u001b[0;34m\u001b[0m\u001b[0;34m\u001b[0m\u001b[0m\n\u001b[1;32m     82\u001b[0m         \u001b[0mcompression\u001b[0m \u001b[0;34m=\u001b[0m \u001b[0;32mNone\u001b[0m\u001b[0;34m\u001b[0m\u001b[0;34m\u001b[0m\u001b[0m\n\u001b[0;32m---> 83\u001b[0;31m     \u001b[0mf\u001b[0m\u001b[0;34m,\u001b[0m \u001b[0mfh\u001b[0m \u001b[0;34m=\u001b[0m \u001b[0mget_handle\u001b[0m\u001b[0;34m(\u001b[0m\u001b[0mfp_or_buf\u001b[0m\u001b[0;34m,\u001b[0m \u001b[0;34m\"wb\"\u001b[0m\u001b[0;34m,\u001b[0m \u001b[0mcompression\u001b[0m\u001b[0;34m=\u001b[0m\u001b[0mcompression\u001b[0m\u001b[0;34m,\u001b[0m \u001b[0mis_text\u001b[0m\u001b[0;34m=\u001b[0m\u001b[0;32mFalse\u001b[0m\u001b[0;34m)\u001b[0m\u001b[0;34m\u001b[0m\u001b[0;34m\u001b[0m\u001b[0m\n\u001b[0m\u001b[1;32m     84\u001b[0m     \u001b[0;32mif\u001b[0m \u001b[0mprotocol\u001b[0m \u001b[0;34m<\u001b[0m \u001b[0;36m0\u001b[0m\u001b[0;34m:\u001b[0m\u001b[0;34m\u001b[0m\u001b[0;34m\u001b[0m\u001b[0m\n\u001b[1;32m     85\u001b[0m         \u001b[0mprotocol\u001b[0m \u001b[0;34m=\u001b[0m \u001b[0mpickle\u001b[0m\u001b[0;34m.\u001b[0m\u001b[0mHIGHEST_PROTOCOL\u001b[0m\u001b[0;34m\u001b[0m\u001b[0;34m\u001b[0m\u001b[0m\n",
            "\u001b[0;32m/usr/local/lib/python3.7/dist-packages/pandas/io/common.py\u001b[0m in \u001b[0;36mget_handle\u001b[0;34m(path_or_buf, mode, encoding, compression, memory_map, is_text, errors)\u001b[0m\n\u001b[1;32m    497\u001b[0m         \u001b[0;32melse\u001b[0m\u001b[0;34m:\u001b[0m\u001b[0;34m\u001b[0m\u001b[0;34m\u001b[0m\u001b[0m\n\u001b[1;32m    498\u001b[0m             \u001b[0;31m# Binary mode\u001b[0m\u001b[0;34m\u001b[0m\u001b[0;34m\u001b[0m\u001b[0;34m\u001b[0m\u001b[0m\n\u001b[0;32m--> 499\u001b[0;31m             \u001b[0mf\u001b[0m \u001b[0;34m=\u001b[0m \u001b[0mopen\u001b[0m\u001b[0;34m(\u001b[0m\u001b[0mpath_or_buf\u001b[0m\u001b[0;34m,\u001b[0m \u001b[0mmode\u001b[0m\u001b[0;34m)\u001b[0m\u001b[0;34m\u001b[0m\u001b[0;34m\u001b[0m\u001b[0m\n\u001b[0m\u001b[1;32m    500\u001b[0m         \u001b[0mhandles\u001b[0m\u001b[0;34m.\u001b[0m\u001b[0mappend\u001b[0m\u001b[0;34m(\u001b[0m\u001b[0mf\u001b[0m\u001b[0;34m)\u001b[0m\u001b[0;34m\u001b[0m\u001b[0;34m\u001b[0m\u001b[0m\n\u001b[1;32m    501\u001b[0m \u001b[0;34m\u001b[0m\u001b[0m\n",
            "\u001b[0;31mFileNotFoundError\u001b[0m: [Errno 2] No such file or directory: 'drive/MyDrive/Colab Notebooks/QHK2021/03_test/qlassifier_data_unit_cnn.pkl'"
          ]
        }
      ]
    },
    {
      "cell_type": "code",
      "metadata": {
        "id": "Q-LhU9zBnP1R",
        "colab": {
          "base_uri": "https://localhost:8080/",
          "height": 315
        },
        "outputId": "30902404-8a80-47f4-ef54-ff564063d3ed"
      },
      "source": [
        "save_data_file('qlassifier_data_unit_nlcnn.pkl', verbose=False, model='random')"
      ],
      "execution_count": null,
      "outputs": [
        {
          "output_type": "error",
          "ename": "RuntimeError",
          "evalue": "ignored",
          "traceback": [
            "\u001b[0;31m---------------------------------------------------------------------------\u001b[0m",
            "\u001b[0;31mRuntimeError\u001b[0m                              Traceback (most recent call last)",
            "\u001b[0;32m<ipython-input-57-60ed70e7d112>\u001b[0m in \u001b[0;36m<module>\u001b[0;34m()\u001b[0m\n\u001b[0;32m----> 1\u001b[0;31m \u001b[0msave_data_file\u001b[0m\u001b[0;34m(\u001b[0m\u001b[0;34m'qlassifier_data_unit_nlcnn.pkl'\u001b[0m\u001b[0;34m,\u001b[0m \u001b[0mverbose\u001b[0m\u001b[0;34m=\u001b[0m\u001b[0;32mFalse\u001b[0m\u001b[0;34m,\u001b[0m \u001b[0mmodel\u001b[0m\u001b[0;34m=\u001b[0m\u001b[0;34m'random'\u001b[0m\u001b[0;34m)\u001b[0m\u001b[0;34m\u001b[0m\u001b[0;34m\u001b[0m\u001b[0m\n\u001b[0m",
            "\u001b[0;32m<ipython-input-54-759b0475f8c3>\u001b[0m in \u001b[0;36msave_data_file\u001b[0;34m(file_name, classifier, verbose, model, **kwargs)\u001b[0m\n\u001b[1;32m     27\u001b[0m       \u001b[0moptimizer\u001b[0m\u001b[0;34m.\u001b[0m\u001b[0mzero_grad\u001b[0m\u001b[0;34m(\u001b[0m\u001b[0;34m)\u001b[0m\u001b[0;34m\u001b[0m\u001b[0;34m\u001b[0m\u001b[0m\n\u001b[1;32m     28\u001b[0m \u001b[0;34m\u001b[0m\u001b[0m\n\u001b[0;32m---> 29\u001b[0;31m       \u001b[0mmodel_output\u001b[0m \u001b[0;34m=\u001b[0m \u001b[0mclassifier\u001b[0m\u001b[0;34m(\u001b[0m\u001b[0mx\u001b[0m\u001b[0;34m)\u001b[0m\u001b[0;34m\u001b[0m\u001b[0;34m\u001b[0m\u001b[0m\n\u001b[0m\u001b[1;32m     30\u001b[0m       \u001b[0m_\u001b[0m\u001b[0;34m,\u001b[0m \u001b[0mpredicted\u001b[0m \u001b[0;34m=\u001b[0m \u001b[0mtorch\u001b[0m\u001b[0;34m.\u001b[0m\u001b[0mmax\u001b[0m\u001b[0;34m(\u001b[0m\u001b[0mmodel_output\u001b[0m\u001b[0;34m.\u001b[0m\u001b[0mdata\u001b[0m\u001b[0;34m,\u001b[0m \u001b[0;36m1\u001b[0m\u001b[0;34m)\u001b[0m\u001b[0;34m\u001b[0m\u001b[0;34m\u001b[0m\u001b[0m\n\u001b[1;32m     31\u001b[0m \u001b[0;34m\u001b[0m\u001b[0m\n",
            "\u001b[0;32m/usr/local/lib/python3.7/dist-packages/torch/nn/modules/module.py\u001b[0m in \u001b[0;36m_call_impl\u001b[0;34m(self, *input, **kwargs)\u001b[0m\n\u001b[1;32m   1049\u001b[0m         if not (self._backward_hooks or self._forward_hooks or self._forward_pre_hooks or _global_backward_hooks\n\u001b[1;32m   1050\u001b[0m                 or _global_forward_hooks or _global_forward_pre_hooks):\n\u001b[0;32m-> 1051\u001b[0;31m             \u001b[0;32mreturn\u001b[0m \u001b[0mforward_call\u001b[0m\u001b[0;34m(\u001b[0m\u001b[0;34m*\u001b[0m\u001b[0minput\u001b[0m\u001b[0;34m,\u001b[0m \u001b[0;34m**\u001b[0m\u001b[0mkwargs\u001b[0m\u001b[0;34m)\u001b[0m\u001b[0;34m\u001b[0m\u001b[0;34m\u001b[0m\u001b[0m\n\u001b[0m\u001b[1;32m   1052\u001b[0m         \u001b[0;31m# Do not call functions when jit is used\u001b[0m\u001b[0;34m\u001b[0m\u001b[0;34m\u001b[0m\u001b[0;34m\u001b[0m\u001b[0m\n\u001b[1;32m   1053\u001b[0m         \u001b[0mfull_backward_hooks\u001b[0m\u001b[0;34m,\u001b[0m \u001b[0mnon_full_backward_hooks\u001b[0m \u001b[0;34m=\u001b[0m \u001b[0;34m[\u001b[0m\u001b[0;34m]\u001b[0m\u001b[0;34m,\u001b[0m \u001b[0;34m[\u001b[0m\u001b[0;34m]\u001b[0m\u001b[0;34m\u001b[0m\u001b[0;34m\u001b[0m\u001b[0m\n",
            "\u001b[0;32m<ipython-input-14-f871420e4506>\u001b[0m in \u001b[0;36mforward\u001b[0;34m(self, x)\u001b[0m\n\u001b[1;32m     53\u001b[0m \u001b[0;34m\u001b[0m\u001b[0m\n\u001b[1;32m     54\u001b[0m     \u001b[0;32mdef\u001b[0m \u001b[0mforward\u001b[0m\u001b[0;34m(\u001b[0m\u001b[0mself\u001b[0m\u001b[0;34m,\u001b[0m \u001b[0mx\u001b[0m\u001b[0;34m)\u001b[0m\u001b[0;34m:\u001b[0m\u001b[0;34m\u001b[0m\u001b[0;34m\u001b[0m\u001b[0m\n\u001b[0;32m---> 55\u001b[0;31m         \u001b[0mout\u001b[0m \u001b[0;34m=\u001b[0m \u001b[0mself\u001b[0m\u001b[0;34m.\u001b[0m\u001b[0mconv_module\u001b[0m\u001b[0;34m(\u001b[0m\u001b[0mx\u001b[0m\u001b[0;34m)\u001b[0m\u001b[0;34m\u001b[0m\u001b[0;34m\u001b[0m\u001b[0m\n\u001b[0m\u001b[1;32m     56\u001b[0m         \u001b[0;31m# 64@4*4\u001b[0m\u001b[0;34m\u001b[0m\u001b[0;34m\u001b[0m\u001b[0;34m\u001b[0m\u001b[0m\n\u001b[1;32m     57\u001b[0m         \u001b[0mout\u001b[0m \u001b[0;34m=\u001b[0m \u001b[0mout\u001b[0m\u001b[0;34m.\u001b[0m\u001b[0mview\u001b[0m\u001b[0;34m(\u001b[0m\u001b[0mout\u001b[0m\u001b[0;34m.\u001b[0m\u001b[0msize\u001b[0m\u001b[0;34m(\u001b[0m\u001b[0;36m0\u001b[0m\u001b[0;34m)\u001b[0m\u001b[0;34m,\u001b[0m \u001b[0;34m-\u001b[0m\u001b[0;36m1\u001b[0m\u001b[0;34m)\u001b[0m \u001b[0;31m# 1*1024\u001b[0m\u001b[0;34m\u001b[0m\u001b[0;34m\u001b[0m\u001b[0m\n",
            "\u001b[0;32m/usr/local/lib/python3.7/dist-packages/torch/nn/modules/module.py\u001b[0m in \u001b[0;36m_call_impl\u001b[0;34m(self, *input, **kwargs)\u001b[0m\n\u001b[1;32m   1049\u001b[0m         if not (self._backward_hooks or self._forward_hooks or self._forward_pre_hooks or _global_backward_hooks\n\u001b[1;32m   1050\u001b[0m                 or _global_forward_hooks or _global_forward_pre_hooks):\n\u001b[0;32m-> 1051\u001b[0;31m             \u001b[0;32mreturn\u001b[0m \u001b[0mforward_call\u001b[0m\u001b[0;34m(\u001b[0m\u001b[0;34m*\u001b[0m\u001b[0minput\u001b[0m\u001b[0;34m,\u001b[0m \u001b[0;34m**\u001b[0m\u001b[0mkwargs\u001b[0m\u001b[0;34m)\u001b[0m\u001b[0;34m\u001b[0m\u001b[0;34m\u001b[0m\u001b[0m\n\u001b[0m\u001b[1;32m   1052\u001b[0m         \u001b[0;31m# Do not call functions when jit is used\u001b[0m\u001b[0;34m\u001b[0m\u001b[0;34m\u001b[0m\u001b[0;34m\u001b[0m\u001b[0m\n\u001b[1;32m   1053\u001b[0m         \u001b[0mfull_backward_hooks\u001b[0m\u001b[0;34m,\u001b[0m \u001b[0mnon_full_backward_hooks\u001b[0m \u001b[0;34m=\u001b[0m \u001b[0;34m[\u001b[0m\u001b[0;34m]\u001b[0m\u001b[0;34m,\u001b[0m \u001b[0;34m[\u001b[0m\u001b[0;34m]\u001b[0m\u001b[0;34m\u001b[0m\u001b[0;34m\u001b[0m\u001b[0m\n",
            "\u001b[0;32m/usr/local/lib/python3.7/dist-packages/torch/nn/modules/container.py\u001b[0m in \u001b[0;36mforward\u001b[0;34m(self, input)\u001b[0m\n\u001b[1;32m    137\u001b[0m     \u001b[0;32mdef\u001b[0m \u001b[0mforward\u001b[0m\u001b[0;34m(\u001b[0m\u001b[0mself\u001b[0m\u001b[0;34m,\u001b[0m \u001b[0minput\u001b[0m\u001b[0;34m)\u001b[0m\u001b[0;34m:\u001b[0m\u001b[0;34m\u001b[0m\u001b[0;34m\u001b[0m\u001b[0m\n\u001b[1;32m    138\u001b[0m         \u001b[0;32mfor\u001b[0m \u001b[0mmodule\u001b[0m \u001b[0;32min\u001b[0m \u001b[0mself\u001b[0m\u001b[0;34m:\u001b[0m\u001b[0;34m\u001b[0m\u001b[0;34m\u001b[0m\u001b[0m\n\u001b[0;32m--> 139\u001b[0;31m             \u001b[0minput\u001b[0m \u001b[0;34m=\u001b[0m \u001b[0mmodule\u001b[0m\u001b[0;34m(\u001b[0m\u001b[0minput\u001b[0m\u001b[0;34m)\u001b[0m\u001b[0;34m\u001b[0m\u001b[0;34m\u001b[0m\u001b[0m\n\u001b[0m\u001b[1;32m    140\u001b[0m         \u001b[0;32mreturn\u001b[0m \u001b[0minput\u001b[0m\u001b[0;34m\u001b[0m\u001b[0;34m\u001b[0m\u001b[0m\n\u001b[1;32m    141\u001b[0m \u001b[0;34m\u001b[0m\u001b[0m\n",
            "\u001b[0;32m/usr/local/lib/python3.7/dist-packages/torch/nn/modules/module.py\u001b[0m in \u001b[0;36m_call_impl\u001b[0;34m(self, *input, **kwargs)\u001b[0m\n\u001b[1;32m   1049\u001b[0m         if not (self._backward_hooks or self._forward_hooks or self._forward_pre_hooks or _global_backward_hooks\n\u001b[1;32m   1050\u001b[0m                 or _global_forward_hooks or _global_forward_pre_hooks):\n\u001b[0;32m-> 1051\u001b[0;31m             \u001b[0;32mreturn\u001b[0m \u001b[0mforward_call\u001b[0m\u001b[0;34m(\u001b[0m\u001b[0;34m*\u001b[0m\u001b[0minput\u001b[0m\u001b[0;34m,\u001b[0m \u001b[0;34m**\u001b[0m\u001b[0mkwargs\u001b[0m\u001b[0;34m)\u001b[0m\u001b[0;34m\u001b[0m\u001b[0;34m\u001b[0m\u001b[0m\n\u001b[0m\u001b[1;32m   1052\u001b[0m         \u001b[0;31m# Do not call functions when jit is used\u001b[0m\u001b[0;34m\u001b[0m\u001b[0;34m\u001b[0m\u001b[0;34m\u001b[0m\u001b[0m\n\u001b[1;32m   1053\u001b[0m         \u001b[0mfull_backward_hooks\u001b[0m\u001b[0;34m,\u001b[0m \u001b[0mnon_full_backward_hooks\u001b[0m \u001b[0;34m=\u001b[0m \u001b[0;34m[\u001b[0m\u001b[0;34m]\u001b[0m\u001b[0;34m,\u001b[0m \u001b[0;34m[\u001b[0m\u001b[0;34m]\u001b[0m\u001b[0;34m\u001b[0m\u001b[0;34m\u001b[0m\u001b[0m\n",
            "\u001b[0;32m/usr/local/lib/python3.7/dist-packages/torch/nn/modules/conv.py\u001b[0m in \u001b[0;36mforward\u001b[0;34m(self, input)\u001b[0m\n\u001b[1;32m    441\u001b[0m \u001b[0;34m\u001b[0m\u001b[0m\n\u001b[1;32m    442\u001b[0m     \u001b[0;32mdef\u001b[0m \u001b[0mforward\u001b[0m\u001b[0;34m(\u001b[0m\u001b[0mself\u001b[0m\u001b[0;34m,\u001b[0m \u001b[0minput\u001b[0m\u001b[0;34m:\u001b[0m \u001b[0mTensor\u001b[0m\u001b[0;34m)\u001b[0m \u001b[0;34m->\u001b[0m \u001b[0mTensor\u001b[0m\u001b[0;34m:\u001b[0m\u001b[0;34m\u001b[0m\u001b[0;34m\u001b[0m\u001b[0m\n\u001b[0;32m--> 443\u001b[0;31m         \u001b[0;32mreturn\u001b[0m \u001b[0mself\u001b[0m\u001b[0;34m.\u001b[0m\u001b[0m_conv_forward\u001b[0m\u001b[0;34m(\u001b[0m\u001b[0minput\u001b[0m\u001b[0;34m,\u001b[0m \u001b[0mself\u001b[0m\u001b[0;34m.\u001b[0m\u001b[0mweight\u001b[0m\u001b[0;34m,\u001b[0m \u001b[0mself\u001b[0m\u001b[0;34m.\u001b[0m\u001b[0mbias\u001b[0m\u001b[0;34m)\u001b[0m\u001b[0;34m\u001b[0m\u001b[0;34m\u001b[0m\u001b[0m\n\u001b[0m\u001b[1;32m    444\u001b[0m \u001b[0;34m\u001b[0m\u001b[0m\n\u001b[1;32m    445\u001b[0m \u001b[0;32mclass\u001b[0m \u001b[0mConv3d\u001b[0m\u001b[0;34m(\u001b[0m\u001b[0m_ConvNd\u001b[0m\u001b[0;34m)\u001b[0m\u001b[0;34m:\u001b[0m\u001b[0;34m\u001b[0m\u001b[0;34m\u001b[0m\u001b[0m\n",
            "\u001b[0;32m/usr/local/lib/python3.7/dist-packages/torch/nn/modules/conv.py\u001b[0m in \u001b[0;36m_conv_forward\u001b[0;34m(self, input, weight, bias)\u001b[0m\n\u001b[1;32m    438\u001b[0m                             _pair(0), self.dilation, self.groups)\n\u001b[1;32m    439\u001b[0m         return F.conv2d(input, weight, bias, self.stride,\n\u001b[0;32m--> 440\u001b[0;31m                         self.padding, self.dilation, self.groups)\n\u001b[0m\u001b[1;32m    441\u001b[0m \u001b[0;34m\u001b[0m\u001b[0m\n\u001b[1;32m    442\u001b[0m     \u001b[0;32mdef\u001b[0m \u001b[0mforward\u001b[0m\u001b[0;34m(\u001b[0m\u001b[0mself\u001b[0m\u001b[0;34m,\u001b[0m \u001b[0minput\u001b[0m\u001b[0;34m:\u001b[0m \u001b[0mTensor\u001b[0m\u001b[0;34m)\u001b[0m \u001b[0;34m->\u001b[0m \u001b[0mTensor\u001b[0m\u001b[0;34m:\u001b[0m\u001b[0;34m\u001b[0m\u001b[0;34m\u001b[0m\u001b[0m\n",
            "\u001b[0;31mRuntimeError\u001b[0m: Given groups=1, weight of size [50, 1, 5, 5], expected input[9, 25, 27, 27] to have 1 channels, but got 25 channels instead"
          ]
        }
      ]
    },
    {
      "cell_type": "code",
      "metadata": {
        "id": "LiB7L6ShnSBT"
      },
      "source": [
        "cnn_data = pd.read_pickle('drive/MyDrive/Colab Notebooks/QHK2021/jade_cnn_test/qlassifier_data_unit_cnn.pkl')\n",
        "nlcnn_fisheye_data = pd.read_pickle('drive/MyDrive/Colab Notebooks/QHK2021/jade_cnn_test/qlassifier_data_unit_nlcnn_fisheye.pkl')"
      ],
      "execution_count": null,
      "outputs": []
    },
    {
      "cell_type": "code",
      "metadata": {
        "id": "BrZcW0RjnUaV"
      },
      "source": [
        "datafile = nlcnn_fisheye_data\n",
        "\n",
        "plt.figure(1, figsize=(8,4.5))\n",
        "plt.plot(datafile['trn_acc'], label=\"Training dataset\", color='blue', linestyle='--')\n",
        "plt.plot(datafile['val_acc'], label=\"Validation dataset\", color='red', linestyle='--')\n",
        "plt.title('CNN')\n",
        "plt.legend()\n",
        "plt.xlim(0, 100)\n",
        "plt.xticks([0, 20, 40, 60, 80, 100],[0, 2000, 4000, 6000, 8000, 10000])\n",
        "plt.ylim(0, 1)\n",
        "plt.xlabel(\"Training iterations [1]\")\n",
        "plt.ylabel(\"Accuracy [1]\")\n",
        "\n",
        "plt.figure(2, figsize=(8,4.5))\n",
        "plt.plot(datafile['trn_loss'][1:], label=\"Training dataset\", color='blue', linestyle='--')\n",
        "plt.plot(datafile['val_loss'][1:], label=\"Validation dataset\", color='red', linestyle='--')\n",
        "plt.title('CNN')\n",
        "plt.legend()\n",
        "plt.xlim(0, 100)\n",
        "plt.xticks([0, 20, 40, 60, 80, 100],[0, 2000, 4000, 6000, 8000, 10000])\n",
        "# plt.ylim(0, 1)\n",
        "plt.xlabel(\"Training iterations [1]\")\n",
        "plt.ylabel(\"Cross entropy loss [1]\")\n",
        "plt.show()"
      ],
      "execution_count": null,
      "outputs": []
    },
    {
      "cell_type": "code",
      "metadata": {
        "id": "9f1GnyMFnXdf"
      },
      "source": [
        "plt.figure(3, figsize=(8,4.5))\n",
        "plt.plot(cnn_data['val_acc'], label=\"CNN\", linestyle='--')\n",
        "plt.plot(nlcnn_fisheye_data['val_acc'], label=\"Fisheye\", linestyle='--')\n",
        "plt.legend()\n",
        "plt.title('UN Dist. #F = 25')\n",
        "plt.xlim(0, 100)\n",
        "plt.xticks([0, 20, 40, 60, 80, 100],[0, 2000, 4000, 6000, 8000, 10000])\n",
        "plt.ylim(0, 1)\n",
        "plt.xlabel(\"Training iterations [1]\")\n",
        "plt.ylabel(\"Validation accuracy [1]\")\n",
        "\n",
        "plt.figure(4, figsize=(8,4.5))\n",
        "plt.plot(cnn_data['trn_loss'][1:], label=\"CNN\", linestyle='--')\n",
        "plt.plot(nlcnn_fisheye_data['trn_loss'][1:], label=\"Fisheye\", linestyle='--')\n",
        "plt.legend()\n",
        "plt.title('UN Dist. #F = 25')\n",
        "plt.xlim(0, 100)\n",
        "plt.xticks([0, 20, 40, 60, 80, 100],[0, 2000, 4000, 6000, 8000, 10000])\n",
        "# plt.ylim(0, 1)\n",
        "plt.xlabel(\"Training iterations [1]\")\n",
        "plt.ylabel(\"Cross entropy loss (training) [1]\")\n",
        "plt.show()"
      ],
      "execution_count": null,
      "outputs": []
    }
  ]
}