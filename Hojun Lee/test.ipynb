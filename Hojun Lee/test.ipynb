{
 "metadata": {
  "language_info": {
   "codemirror_mode": {
    "name": "ipython",
    "version": 3
   },
   "file_extension": ".py",
   "mimetype": "text/x-python",
   "name": "python",
   "nbconvert_exporter": "python",
   "pygments_lexer": "ipython3",
   "version": "3.8.5"
  },
  "orig_nbformat": 4,
  "kernelspec": {
   "name": "python3",
   "display_name": "Python 3.8.5 64-bit ('3.8')"
  },
  "interpreter": {
   "hash": "752579dbebe7f4dfe7c1aa72eac13e23fc88be2cc1ea7ab14e1f8d69b2d97d12"
  }
 },
 "nbformat": 4,
 "nbformat_minor": 2,
 "cells": [
  {
   "cell_type": "code",
   "execution_count": 1,
   "metadata": {},
   "outputs": [],
   "source": [
    "import PQC\n",
    "from qiskit import Aer\n",
    "import numpy as np\n",
    "from torchvision import datasets, transforms\n",
    "import torch\n",
    "from torch.autograd import Variable\n",
    "from QuanvolutionLayerFile import *"
   ]
  },
  {
   "cell_type": "code",
   "execution_count": 2,
   "metadata": {},
   "outputs": [
    {
     "output_type": "execute_result",
     "data": {
      "text/plain": [
       "[QasmSimulator(\n",
       " backend_name='qasm_simulator', provider=AerProvider()),\n",
       " StatevectorSimulator(\n",
       " backend_name='statevector_simulator', provider=AerProvider()),\n",
       " UnitarySimulator(\n",
       " backend_name='unitary_simulator', provider=AerProvider()),\n",
       " PulseSimulator(\n",
       " backend_name='pulse_simulator', provider=AerProvider())]"
      ]
     },
     "metadata": {},
     "execution_count": 2
    }
   ],
   "source": [
    "Aer.backends()"
   ]
  },
  {
   "cell_type": "code",
   "execution_count": 3,
   "metadata": {},
   "outputs": [],
   "source": [
    "# Run the quantum circuit on a statevector simulator backend\n",
    "backend = Aer.get_backend('qasm_simulator')\n",
    "qc = PQC.QuantumCircuit(backend=backend)"
   ]
  },
  {
   "cell_type": "code",
   "execution_count": 4,
   "metadata": {
    "tags": []
   },
   "outputs": [
    {
     "output_type": "stream",
     "name": "stdout",
     "text": [
      "tensor([[0.0419, 0.9230, 0.2382, 0.9343, 0.9175, 0.3756, 0.8122, 0.0730, 0.2279,\n         0.9076, 0.9806, 0.6279, 0.4913, 0.3826, 0.9358, 0.9347, 0.6881, 0.6304,\n         0.0402, 0.3075, 0.1624, 0.5268, 0.1311, 0.1605, 0.1937, 0.4899, 0.7575]])\n[0.0]\n"
     ]
    }
   ],
   "source": [
    "print(torch.rand(1,27))\n",
    "print(qc.run(data=None,params_tensor=torch.rand(27)))"
   ]
  },
  {
   "cell_type": "code",
   "execution_count": 5,
   "metadata": {},
   "outputs": [],
   "source": [
    "BATCH_SIZE = 16"
   ]
  },
  {
   "cell_type": "code",
   "execution_count": 6,
   "metadata": {},
   "outputs": [],
   "source": [
    "train_dataset = datasets.MNIST(root = \"./data\",\n",
    "                               train = True,\n",
    "                               download = True,\n",
    "                               transform = transforms.ToTensor())\n",
    "\n",
    "test_dataset = datasets.MNIST(root = \"./data\",\n",
    "                              train = False,\n",
    "                              transform = transforms.ToTensor())\n",
    "\n",
    "train_loader = torch.utils.data.DataLoader(dataset = train_dataset,\n",
    "                                           batch_size = BATCH_SIZE,\n",
    "                                           shuffle = True)\n",
    "\n",
    "test_loader = torch.utils.data.DataLoader(dataset = test_dataset,\n",
    "                                          batch_size = BATCH_SIZE,\n",
    "                                          shuffle = False)"
   ]
  },
  {
   "cell_type": "code",
   "execution_count": 7,
   "metadata": {},
   "outputs": [
    {
     "output_type": "stream",
     "name": "stdout",
     "text": [
      "Dataset MNIST\n    Number of datapoints: 60000\n    Root location: ./data\n    Split: Train\n    StandardTransform\nTransform: ToTensor()\n"
     ]
    }
   ],
   "source": [
    "print(train_dataset)"
   ]
  },
  {
   "cell_type": "code",
   "execution_count": 8,
   "metadata": {
    "tags": []
   },
   "outputs": [
    {
     "output_type": "stream",
     "name": "stdout",
     "text": [
      "torch.Size([16, 1, 28, 28]) torch.Size([16])\n"
     ]
    }
   ],
   "source": [
    "for x_train, y_train in train_loader:\n",
    "    print(x_train.size(),y_train.size())\n",
    "    break"
   ]
  },
  {
   "cell_type": "code",
   "execution_count": 9,
   "metadata": {},
   "outputs": [
    {
     "output_type": "stream",
     "name": "stdout",
     "text": [
      "tensor([[0.2290, 5.4919, 2.6511, 4.1390, 5.9203, 3.6461, 4.1323, 3.4057, 3.5971,\n",
      "         1.3234, 4.2845, 3.5236, 5.2068, 0.0103, 4.4404, 2.1332, 0.1266, 3.2594,\n",
      "         4.9872, 2.0798, 3.3668, 0.7462, 1.3633, 2.9587, 5.1442, 3.7783, 0.3176]])\n",
      "torch.Size([16, 1, 28, 28]) torch.Size([16])\n",
      "0\n",
      "0\n",
      "0\n",
      "0\n",
      "0\n",
      "0\n",
      "0\n",
      "0\n",
      "0\n",
      "0\n",
      "0\n",
      "0\n",
      "0\n",
      "0\n",
      "0\n",
      "0\n",
      "tensor([[[[0.0107, 0.0205, 0.0137,  ..., 0.0195, 0.0146, 0.0146],\n",
      "          [0.0176, 0.0068, 0.0186,  ..., 0.0137, 0.0137, 0.0195],\n",
      "          [0.0117, 0.0186, 0.0176,  ..., 0.0107, 0.0098, 0.0156],\n",
      "          ...,\n",
      "          [0.0127, 0.0166, 0.0234,  ..., 0.0186, 0.0088, 0.0078],\n",
      "          [0.0146, 0.0117, 0.0137,  ..., 0.0107, 0.0244, 0.0117],\n",
      "          [0.0176, 0.0146, 0.0107,  ..., 0.0137, 0.0205, 0.0186]]],\n",
      "\n",
      "\n",
      "        [[[0.0146, 0.0225, 0.0137,  ..., 0.0195, 0.0205, 0.0225],\n",
      "          [0.0146, 0.0156, 0.0195,  ..., 0.0107, 0.0234, 0.0215],\n",
      "          [0.0166, 0.0107, 0.0137,  ..., 0.0117, 0.0146, 0.0107],\n",
      "          ...,\n",
      "          [0.0195, 0.0137, 0.0098,  ..., 0.0205, 0.0215, 0.0107],\n",
      "          [0.0205, 0.0195, 0.0127,  ..., 0.0186, 0.0215, 0.0156],\n",
      "          [0.0215, 0.0117, 0.0098,  ..., 0.0205, 0.0205, 0.0166]]],\n",
      "\n",
      "\n",
      "        [[[0.0146, 0.0107, 0.0156,  ..., 0.0166, 0.0107, 0.0186],\n",
      "          [0.0059, 0.0156, 0.0146,  ..., 0.0146, 0.0244, 0.0186],\n",
      "          [0.0146, 0.0107, 0.0186,  ..., 0.0176, 0.0098, 0.0107],\n",
      "          ...,\n",
      "          [0.0137, 0.0127, 0.0137,  ..., 0.0117, 0.0176, 0.0195],\n",
      "          [0.0078, 0.0146, 0.0156,  ..., 0.0146, 0.0137, 0.0176],\n",
      "          [0.0117, 0.0137, 0.0137,  ..., 0.0195, 0.0107, 0.0186]]],\n",
      "\n",
      "\n",
      "        ...,\n",
      "\n",
      "\n",
      "        [[[0.0156, 0.0107, 0.0146,  ..., 0.0166, 0.0205, 0.0186],\n",
      "          [0.0166, 0.0088, 0.0176,  ..., 0.0215, 0.0146, 0.0137],\n",
      "          [0.0176, 0.0186, 0.0186,  ..., 0.0176, 0.0186, 0.0127],\n",
      "          ...,\n",
      "          [0.0137, 0.0098, 0.0137,  ..., 0.0107, 0.0127, 0.0078],\n",
      "          [0.0137, 0.0137, 0.0205,  ..., 0.0195, 0.0205, 0.0068],\n",
      "          [0.0117, 0.0137, 0.0156,  ..., 0.0117, 0.0107, 0.0186]]],\n",
      "\n",
      "\n",
      "        [[[0.0156, 0.0205, 0.0156,  ..., 0.0137, 0.0088, 0.0146],\n",
      "          [0.0098, 0.0137, 0.0176,  ..., 0.0244, 0.0137, 0.0146],\n",
      "          [0.0107, 0.0117, 0.0156,  ..., 0.0215, 0.0117, 0.0146],\n",
      "          ...,\n",
      "          [0.0127, 0.0146, 0.0156,  ..., 0.0186, 0.0117, 0.0068],\n",
      "          [0.0146, 0.0156, 0.0176,  ..., 0.0156, 0.0176, 0.0088],\n",
      "          [0.0146, 0.0127, 0.0078,  ..., 0.0117, 0.0127, 0.0137]]],\n",
      "\n",
      "\n",
      "        [[[0.0156, 0.0137, 0.0176,  ..., 0.0176, 0.0166, 0.0146],\n",
      "          [0.0107, 0.0137, 0.0156,  ..., 0.0186, 0.0225, 0.0127],\n",
      "          [0.0098, 0.0146, 0.0127,  ..., 0.0166, 0.0078, 0.0146],\n",
      "          ...,\n",
      "          [0.0156, 0.0146, 0.0078,  ..., 0.0137, 0.0195, 0.0117],\n",
      "          [0.0166, 0.0156, 0.0215,  ..., 0.0156, 0.0088, 0.0117],\n",
      "          [0.0137, 0.0098, 0.0176,  ..., 0.0117, 0.0146, 0.0156]]]],\n",
      "       dtype=torch.float64)\n"
     ]
    }
   ],
   "source": [
    "ql = QuanvolutionLayer(out_channels=1,kernel_size=3,backend=backend)\n",
    "print(ql.weight)\n",
    "for x_train, y_train in train_loader:\n",
    "    print(x_train.size(),y_train.size())\n",
    "    processed = ql.forward(inputs=x_train)\n",
    "    print(processed)\n",
    "    break\n"
   ]
  },
  {
   "cell_type": "code",
   "execution_count": 10,
   "metadata": {},
   "outputs": [
    {
     "output_type": "stream",
     "name": "stdout",
     "text": [
      "torch.Size([16, 1, 26, 26])\n"
     ]
    }
   ],
   "source": [
    "print(processed.size())"
   ]
  },
  {
   "cell_type": "code",
   "execution_count": null,
   "metadata": {},
   "outputs": [],
   "source": []
  }
 ]
}