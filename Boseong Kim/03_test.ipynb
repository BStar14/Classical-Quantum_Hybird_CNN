{
  "nbformat": 4,
  "nbformat_minor": 0,
  "metadata": {
    "colab": {
      "name": "03_test.ipynb",
      "provenance": [],
      "collapsed_sections": [],
      "include_colab_link": true
    },
    "kernelspec": {
      "name": "python3",
      "display_name": "Python 3"
    },
    "language_info": {
      "name": "python"
    },
    "accelerator": "GPU"
  },
  "cells": [
    {
      "cell_type": "markdown",
      "metadata": {
        "id": "view-in-github",
        "colab_type": "text"
      },
      "source": [
        "<a href=\"https://colab.research.google.com/github/BStar14/Classical-Quantum_Hybird_CNN/blob/main/Boseong%20Kim/03_test.ipynb\" target=\"_parent\"><img src=\"https://colab.research.google.com/assets/colab-badge.svg\" alt=\"Open In Colab\"/></a>"
      ]
    },
    {
      "cell_type": "code",
      "metadata": {
        "colab": {
          "base_uri": "https://localhost:8080/"
        },
        "id": "dOPI7p0ENVTH",
        "outputId": "8566451c-5a3e-4acf-b37d-f555460438e8"
      },
      "source": [
        "from google.colab import drive\n",
        "drive.mount('/content/gdrive')"
      ],
      "execution_count": 1,
      "outputs": [
        {
          "output_type": "stream",
          "text": [
            "Mounted at /content/gdrive\n"
          ],
          "name": "stdout"
        }
      ]
    },
    {
      "cell_type": "code",
      "metadata": {
        "id": "y2uLSpfnNpDV",
        "colab": {
          "base_uri": "https://localhost:8080/"
        },
        "outputId": "01724738-d1a2-47da-e462-2b292b26455a"
      },
      "source": [
        "cd/content/gdrive/MyDrive/Colab Notebooks/QHK2021/03_test"
      ],
      "execution_count": 2,
      "outputs": [
        {
          "output_type": "stream",
          "text": [
            "/content/gdrive/MyDrive/Colab Notebooks/QHK2021/03_test\n"
          ],
          "name": "stdout"
        }
      ]
    },
    {
      "cell_type": "code",
      "metadata": {
        "id": "bqc_rrHrmxD8"
      },
      "source": [
        "import matplotlib.pyplot as plt\n",
        "import numpy as np\n",
        "\n",
        "import torch \n",
        "import torch.nn as nn # basic neural network\n",
        "import torch.nn.functional as F # Convolutional functions\n",
        "import torch.optim as optim # optimizers\n",
        "import torch.utils.data as data_utils # data resizer\n",
        "from torchvision import datasets, transforms # image datasets, image transformations\n",
        "\n",
        "import pandas as pd"
      ],
      "execution_count": 3,
      "outputs": []
    },
    {
      "cell_type": "code",
      "metadata": {
        "id": "MtM-9Y_ns6G8"
      },
      "source": [
        "torch.cuda.is_available()\n",
        "torch.manual_seed(0)\n",
        "if torch.cuda.is_available():\n",
        "  torch.cuda.manual_seed_all(0)"
      ],
      "execution_count": 4,
      "outputs": []
    },
    {
      "cell_type": "code",
      "metadata": {
        "id": "qATAHWS0nvYL"
      },
      "source": [
        "n_epochs = 30     # Number of optimization epochs\n",
        "n_channels = 1   # Number of channels\n",
        "n_trn = 100        # Size of the train dataset\n",
        "n_val = 50        # Size of the validation dataset\n",
        "batch_size = 10   # Size of batch\n",
        "\n",
        "np.random.seed(0)           # Seed for NumPy random number generator\n",
        "n_poly = 5                  # Order of polynomials\n",
        "n_kernel = 3**2             # Size of kernel\n",
        "\n",
        "rand_params = np.random.default_rng()\n",
        "rand_params = 1 - rand_params.standard_normal(size=(n_channels, n_poly, n_kernel))\n",
        "\n",
        "PREPROCESS = False"
      ],
      "execution_count": 11,
      "outputs": []
    },
    {
      "cell_type": "code",
      "metadata": {
        "colab": {
          "base_uri": "https://localhost:8080/"
        },
        "id": "BKoFtnGVm8X7",
        "outputId": "309e0584-0797-4b91-afa4-9f2dfb10c8cf"
      },
      "source": [
        "trn_dataset = datasets.MNIST('../03_test/',\n",
        "                             download=True,\n",
        "                             train=True,\n",
        "                             transform=transforms.Compose([\n",
        "                                 transforms.ToTensor(),\n",
        "                                 transforms.Normalize((0.1307,), (0.3081,)) # mean, std of MNIST.\n",
        "                             ])) \n",
        "\n",
        "val_dataset = datasets.MNIST(\"../03_test/\", \n",
        "                             download=False,\n",
        "                             train=False,\n",
        "                             transform= transforms.Compose([\n",
        "                               transforms.ToTensor(),\n",
        "                               transforms.Normalize((0.1307, ),(0.3081, ))\n",
        "                           ]))"
      ],
      "execution_count": 6,
      "outputs": [
        {
          "output_type": "stream",
          "text": [
            "/usr/local/lib/python3.7/dist-packages/torchvision/datasets/mnist.py:498: UserWarning: The given NumPy array is not writeable, and PyTorch does not support non-writeable tensors. This means you can write to the underlying (supposedly non-writeable) NumPy array using the tensor. You may want to copy the array to protect its data or make it writeable before converting it to a tensor. This type of warning will be suppressed for the rest of this program. (Triggered internally at  /pytorch/torch/csrc/utils/tensor_numpy.cpp:180.)\n",
            "  return torch.from_numpy(parsed.astype(m[2], copy=False)).view(*s)\n"
          ],
          "name": "stderr"
        }
      ]
    },
    {
      "cell_type": "code",
      "metadata": {
        "id": "Uzj6cq25m-ig"
      },
      "source": [
        "trn_dataset.data = trn_dataset.data[range(n_trn)]\n",
        "trn_dataset.targets = trn_dataset.targets[range(n_trn)]\n",
        "val_dataset.data = val_dataset.data[range(n_val)]\n",
        "val_dataset.targets = val_dataset.targets[range(n_val)]\n",
        "\n",
        "# Batch iterator\n",
        "trn_loader = torch.utils.data.DataLoader(dataset = trn_dataset,\n",
        "                                         batch_size = batch_size,\n",
        "                                         shuffle = False)\n",
        "\n",
        "val_loader = torch.utils.data.DataLoader(dataset = val_dataset,\n",
        "                                         batch_size = batch_size,\n",
        "                                         shuffle = False)"
      ],
      "execution_count": 7,
      "outputs": []
    },
    {
      "cell_type": "code",
      "metadata": {
        "colab": {
          "base_uri": "https://localhost:8080/",
          "height": 129
        },
        "id": "eeo6pgf0CYcu",
        "outputId": "1755ad78-b717-43b4-c6fe-52ae10224886"
      },
      "source": [
        "for (X_train, y_train) in trn_loader:\n",
        "    print('X_train:', X_train.size(), 'type:', X_train.type())\n",
        "    print('y_train:', y_train.size(), 'type:', y_train.type())\n",
        "    break\n",
        "\n",
        "pltsize = 1\n",
        "plt.figure(figsize=(batch_size * pltsize, pltsize))\n",
        "for i in range(batch_size):\n",
        "    plt.subplot(1, batch_size, i + 1)\n",
        "    plt.axis('off')\n",
        "    plt.imshow(X_train[i, :, :, :].numpy().reshape(28, 28), cmap = \"gray_r\")\n",
        "    plt.title('Class: ' + str(y_train[i].item()))"
      ],
      "execution_count": 8,
      "outputs": [
        {
          "output_type": "stream",
          "text": [
            "X_train: torch.Size([10, 1, 28, 28]) type: torch.FloatTensor\n",
            "y_train: torch.Size([10]) type: torch.LongTensor\n"
          ],
          "name": "stdout"
        },
        {
          "output_type": "display_data",
          "data": {
            "image/png": "[encoded data removed]",
            "text/plain": [
              "<Figure size 720x72 with 10 Axes>"
            ]
          },
          "metadata": {
            "tags": [],
            "needs_background": "light"
          }
        }
      ]
    },
    {
      "cell_type": "code",
      "metadata": {
        "id": "ywoj9pnUnB2X"
      },
      "source": [
        "## Random Polynomial Definition\n",
        "def rand_poly(x_kernel):\n",
        "\n",
        "  result_array = []\n",
        "  for i in range(n_channels):\n",
        "    result = 0\n",
        "    for j in range(n_poly):\n",
        "      for k, x in enumerate(x_kernel):\n",
        "        result = result + rand_params[i, j, k] * (x ** j)\n",
        "    result_array.append(result)\n",
        "\n",
        "  return np.array(result_array)"
      ],
      "execution_count": 9,
      "outputs": []
    },
    {
      "cell_type": "code",
      "metadata": {
        "id": "G_lsuQOYD8LY"
      },
      "source": [
        "## Apply Nonlinear Filter\n",
        "def rand_nl(x):\n",
        "  height = 28\n",
        "  width = 28\n",
        "  h = height - 2\n",
        "  w = width - 2\n",
        "  center = torch.tensor([0, 0])\n",
        "  magnitude = 0.15\n",
        "  n = 5\n",
        "\n",
        "  # (n-1)th order polynomial\n",
        "  \n",
        "  result_tensor = torch.tensor([], dtype=torch.float)\n",
        "  for i in range(batch_size):\n",
        "    result3 = np.empty((n_channels, 0, w))\n",
        "    for j in range(h):\n",
        "      result2 = np.empty((n_channels, 1, 0))\n",
        "      for k in range(w):\n",
        "        result1 = rand_poly(\n",
        "          [\n",
        "            x[i, 0, j - 1, k - 1],\n",
        "            x[i, 0, j - 1, k],\n",
        "            x[i, 0, j - 1, k + 1],\n",
        "            x[i, 0, j, k - 1],\n",
        "            x[i, 0, j, k],\n",
        "            x[i, 0, j, k + 1],\n",
        "            x[i, 0, j + 1, k - 1],\n",
        "            x[i, 0, j + 1, k],\n",
        "            x[i, 0, j + 1, k + 1]\n",
        "          ]\n",
        "        )\n",
        "        y = np.expand_dims(x, axis=1)\n",
        "        result1 = np.expand_dims(result1, axis=(1, 2))\n",
        "        result2 = np.concatenate((result2, result1), axis=2)\n",
        "      result3 = np.concatenate((result3, result2), axis=1)\n",
        "      \n",
        "    result_tensor = torch.cat((result_tensor, torch.tensor(result3, dtype=torch.float).unsqueeze(0)))\n",
        "    \n",
        "    print(f\"{(i+1)*10}%\")\n",
        "\n",
        "  return result_tensor"
      ],
      "execution_count": 10,
      "outputs": []
    },
    {
      "cell_type": "code",
      "metadata": {
        "id": "GzluWgC7VG_z"
      },
      "source": [
        "if PREPROCESS == True:\n",
        "  nl_trn_images = torch.tensor([])\n",
        "  for i, data in enumerate(trn_loader):\n",
        "    x, label = data\n",
        "    print(f\"Processing train batch #{i+1}\")\n",
        "    x = rand_nl(x)\n",
        "    nl_trn_images = torch.cat((nl_trn_images, x))\n",
        "\n",
        "  torch.save(nl_trn_images, 'nl_trn_images')\n",
        "\n",
        "if PREPROCESS == True:\n",
        "  nl_val_images = torch.tensor([])\n",
        "  for i, data in enumerate(val_loader):\n",
        "    x, label = data\n",
        "    print(f\"Processing validation batch #{i+1}\")\n",
        "    x = rand_nl(x)\n",
        "    nl_val_images = torch.cat((nl_val_images, x))\n",
        "\n",
        "  torch.save(nl_val_images, 'nl_val_images')"
      ],
      "execution_count": 12,
      "outputs": []
    },
    {
      "cell_type": "code",
      "metadata": {
        "id": "cDoKzYs0W9PX"
      },
      "source": [
        "# Load pre-processed images\n",
        "nl_trn_images = torch.load('nl_trn_images')\n",
        "nl_val_images = torch.load('nl_val_images')"
      ],
      "execution_count": 13,
      "outputs": []
    },
    {
      "cell_type": "code",
      "metadata": {
        "colab": {
          "base_uri": "https://localhost:8080/"
        },
        "id": "XvCiGZ1ataip",
        "outputId": "035bc8c2-05fc-4b68-9772-290337871ba0"
      },
      "source": [
        "print(nl_trn_images.shape)"
      ],
      "execution_count": 14,
      "outputs": [
        {
          "output_type": "stream",
          "text": [
            "torch.Size([100, 1, 26, 26])\n"
          ],
          "name": "stdout"
        }
      ]
    },
    {
      "cell_type": "code",
      "metadata": {
        "colab": {
          "base_uri": "https://localhost:8080/",
          "height": 78
        },
        "id": "eQF688y4N60L",
        "outputId": "159b506e-ba41-4965-a89a-eb41f4c71068"
      },
      "source": [
        "pltsize = 1\n",
        "plt.figure(figsize=(batch_size * pltsize, n_channels * pltsize))\n",
        "for i in range(batch_size):\n",
        "  for j in range(0, n_channels, 3):\n",
        "    plt.subplot(n_channels, batch_size, i + j*batch_size + 1)\n",
        "    plt.axis('off')\n",
        "    plt.imshow(nl_trn_images[i, j*3, :, :].numpy().reshape(26, 26), cmap = \"gray_r\")"
      ],
      "execution_count": 16,
      "outputs": [
        {
          "output_type": "display_data",
          "data": {
            "image/png": "[encoded data removed]",
            "text/plain": [
              "<Figure size 720x72 with 10 Axes>"
            ]
          },
          "metadata": {
            "tags": [],
            "needs_background": "light"
          }
        }
      ]
    },
    {
      "cell_type": "code",
      "metadata": {
        "id": "Ff3_o2zDnDtT"
      },
      "source": [
        "# construct model on cuda if available\n",
        "use_cuda = torch.cuda.is_available()\n",
        "\n",
        "class CNNClassifier(nn.Module):\n",
        "    \n",
        "    def __init__(self, model='cnn'):\n",
        "        super(CNNClassifier, self).__init__()\n",
        "        \n",
        "        nl_conv1 = nn.Conv2d(in_channels=1, out_channels=50, kernel_size=5, padding=1) # 50@24*24\n",
        "        nl_pool1 = nn.MaxPool2d(2) # 50@12*12\n",
        "        nl_conv2 = nn.Conv2d(in_channels=50, out_channels=64, kernel_size=5) # 50@8*8\n",
        "        nl_pool2 = nn.MaxPool2d(2)\n",
        "        conv1 = nn.Conv2d(in_channels=1, out_channels=50, kernel_size=5) # 50@24*24\n",
        "        pool1 = nn.MaxPool2d(2) # 50@12*12\n",
        "        conv2 = nn.Conv2d(in_channels=50, out_channels=64, kernel_size=5) # 64@8*8\n",
        "        pool2 = nn.MaxPool2d(2) # 64@4*4\n",
        "\n",
        "        nl_fc2 = nn.Linear(1024, 10)\n",
        "        fc2 = nn.Linear(1024, 10)\n",
        "\n",
        "        nn.init.xavier_uniform_(nl_conv1.weight)\n",
        "        nn.init.xavier_uniform_(nl_conv2.weight)\n",
        "        nn.init.xavier_uniform_(conv1.weight)\n",
        "        nn.init.xavier_uniform_(conv2.weight)\n",
        "        \n",
        "        nn.init.xavier_uniform_(nl_fc2.weight)\n",
        "        nn.init.xavier_uniform_(fc2.weight)\n",
        "\n",
        "        if model == 'random':\n",
        "            self.conv_module = nn.Sequential(\n",
        "                nl_conv1,\n",
        "                nn.ReLU(),\n",
        "                nl_pool1,\n",
        "                nl_conv2,\n",
        "                nn.ReLU(),\n",
        "                nl_pool2\n",
        "            )\n",
        "            self.fc_module = nn.Sequential(\n",
        "            nn.Dropout(p=0.4),\n",
        "            nn.ReLU(),\n",
        "            nl_fc2\n",
        "            )\n",
        "        else:\n",
        "            self.conv_module = nn.Sequential(\n",
        "                conv1,\n",
        "                nn.ReLU(),\n",
        "                pool1,\n",
        "                conv2,\n",
        "                nn.ReLU(),\n",
        "                pool2\n",
        "            )\n",
        "            self.fc_module = nn.Sequential(\n",
        "            nn.Dropout(p=0.4),\n",
        "            nn.ReLU(),\n",
        "            fc2\n",
        "            )\n",
        "        \n",
        "        \n",
        "        # cuda\n",
        "        if use_cuda:\n",
        "            self.conv_module = self.conv_module.cuda()\n",
        "            self.fc_module = self.fc_module.cuda()\n",
        "        \n",
        "    def forward(self, x):\n",
        "        out = self.conv_module(x)\n",
        "        # 64@4*4\n",
        "        out = out.view(out.size(0), -1) # 1*1024\n",
        "        out = self.fc_module(out)\n",
        "        return F.softmax(out, dim=1)"
      ],
      "execution_count": 17,
      "outputs": []
    },
    {
      "cell_type": "code",
      "metadata": {
        "id": "TOJ3IkQBnG7s"
      },
      "source": [
        "def save_data_file(file_name, classifier = CNNClassifier(), verbose=False, model='', **kwargs):\n",
        "  criterion = nn.CrossEntropyLoss()\n",
        "  learning_rate = 1e-3\n",
        "  \n",
        "  optimizer = optim.Adam(classifier.parameters(), lr=learning_rate)\n",
        "  num_batches = len(trn_loader)\n",
        "\n",
        "  trn_loss_list = []\n",
        "  val_loss_list = []\n",
        "  trn_acc_list = []\n",
        "  val_acc_list = []\n",
        "\n",
        "  for epoch in range(n_epochs):\n",
        "    trn_loss = 0.0\n",
        "    correct = 0.0\n",
        "    for i, data in enumerate(trn_loader):\n",
        "      x, label = data\n",
        "\n",
        "      if classifier == nl_cnn:\n",
        "        x = nl_trn_images[i*10:(i+1)*10, :, :, :]\n",
        "        \"\"\"\n",
        "        pltsize = 1\n",
        "        plt.figure(figsize=(batch_size * pltsize, n_channels * pltsize))\n",
        "        for i in range(batch_size):\n",
        "          for j in range(0, n_channels, 3):\n",
        "            plt.subplot(n_channels, batch_size, i + j*batch_size + 1)\n",
        "            plt.axis('off')\n",
        "            plt.imshow(x[i, j*3, :, :].numpy().reshape(26, 26), cmap = \"gray_r\")\n",
        "            plt.title('Class: ' + str(label[i].item()))\n",
        "        \"\"\"\n",
        "\n",
        "      if use_cuda:\n",
        "        x = x.cuda()\n",
        "        label = label.cuda()\n",
        "      \n",
        "      optimizer.zero_grad()\n",
        "      \n",
        "      model_output = classifier(x)\n",
        "      _, predicted = torch.max(model_output.data, 1)\n",
        "      \n",
        "      loss = criterion(model_output, label)\n",
        "      loss.backward()\n",
        "      optimizer.step()\n",
        "      \n",
        "      trn_loss += loss.item()\n",
        "      correct += (predicted == label).float().sum()/batch_size\n",
        "\n",
        "      del loss\n",
        "      del model_output\n",
        "      del predicted\n",
        "\n",
        "      if (i+1) % 100 == 0 or i == 0:\n",
        "        with torch.no_grad():\n",
        "          val_loss = 0.0\n",
        "          val_correct = 0.0\n",
        "          for j, val in enumerate(val_loader):\n",
        "            val_x, val_label = val\n",
        "\n",
        "            if classifier == nl_cnn:\n",
        "              val_x = nl_val_images[i*10:(i+1)*10, :, :, :]\n",
        "            if use_cuda:\n",
        "              val_x = val_x.cuda()\n",
        "              val_label =val_label.cuda()\n",
        "            val_output = classifier(val_x)\n",
        "            _, val_predicted = torch.max(val_output.data, 1)\n",
        "            v_correct = (val_predicted == val_label).float().sum()/batch_size\n",
        "            v_loss = criterion(val_output, val_label)\n",
        "            val_correct += v_correct\n",
        "            val_loss += v_loss\n",
        "\n",
        "        if verbose:            \n",
        "          print(\"epoch: {}/{} | step: {}/{} | trn loss: {:.4f} | val loss: {:.4f} | trn acc: {:.4f} | val acc: {:.4f}\".format(\n",
        "              epoch+1, n_epochs, i+1, num_batches, trn_loss / 100, val_loss / len(val_loader), correct / 100, val_correct / len(val_loader)\n",
        "          ))\n",
        "        elif (i+1) % 1000 == 0:\n",
        "          print(f'Progress: {(i+1)/num_batches:.2f} %')            \n",
        "        \n",
        "        trn_loss_list.append(trn_loss/100)\n",
        "        val_loss_list.append(val_loss/len(val_loader))\n",
        "        trn_acc_list.append(correct /100)\n",
        "        val_acc_list.append(val_correct / len(val_loader))\n",
        "        if i==0: continue\n",
        "        trn_loss = 0.0 \n",
        "        correct = 0.0\n",
        "\n",
        "  file = pd.DataFrame(data={'trn_loss': trn_loss_list,\n",
        "                            'trn_acc': trn_acc_list,\n",
        "                            'val_loss': val_loss_list,\n",
        "                            'val_acc': val_acc_list})\n",
        "  file.to_pickle(file_name)\n",
        "  \n"
      ],
      "execution_count": 18,
      "outputs": []
    },
    {
      "cell_type": "code",
      "metadata": {
        "id": "EKVOYT3FnIFM",
        "colab": {
          "base_uri": "https://localhost:8080/"
        },
        "outputId": "d8841ab8-c9b3-40a6-caa6-303746d6e2cf"
      },
      "source": [
        "cnn = CNNClassifier()\n",
        "nl_cnn = CNNClassifier(model='random')\n",
        "print(cnn)\n",
        "print(nl_cnn)"
      ],
      "execution_count": 19,
      "outputs": [
        {
          "output_type": "stream",
          "text": [
            "CNNClassifier(\n",
            "  (conv_module): Sequential(\n",
            "    (0): Conv2d(1, 50, kernel_size=(5, 5), stride=(1, 1))\n",
            "    (1): ReLU()\n",
            "    (2): MaxPool2d(kernel_size=2, stride=2, padding=0, dilation=1, ceil_mode=False)\n",
            "    (3): Conv2d(50, 64, kernel_size=(5, 5), stride=(1, 1))\n",
            "    (4): ReLU()\n",
            "    (5): MaxPool2d(kernel_size=2, stride=2, padding=0, dilation=1, ceil_mode=False)\n",
            "  )\n",
            "  (fc_module): Sequential(\n",
            "    (0): Dropout(p=0.4, inplace=False)\n",
            "    (1): ReLU()\n",
            "    (2): Linear(in_features=1024, out_features=10, bias=True)\n",
            "  )\n",
            ")\n",
            "CNNClassifier(\n",
            "  (conv_module): Sequential(\n",
            "    (0): Conv2d(1, 50, kernel_size=(5, 5), stride=(1, 1), padding=(1, 1))\n",
            "    (1): ReLU()\n",
            "    (2): MaxPool2d(kernel_size=2, stride=2, padding=0, dilation=1, ceil_mode=False)\n",
            "    (3): Conv2d(50, 64, kernel_size=(5, 5), stride=(1, 1))\n",
            "    (4): ReLU()\n",
            "    (5): MaxPool2d(kernel_size=2, stride=2, padding=0, dilation=1, ceil_mode=False)\n",
            "  )\n",
            "  (fc_module): Sequential(\n",
            "    (0): Dropout(p=0.4, inplace=False)\n",
            "    (1): ReLU()\n",
            "    (2): Linear(in_features=1024, out_features=10, bias=True)\n",
            "  )\n",
            ")\n"
          ],
          "name": "stdout"
        }
      ]
    },
    {
      "cell_type": "code",
      "metadata": {
        "id": "Qeboe4lmnNl8"
      },
      "source": [
        "save_data_file('qlassifier_data_unit_cnn.pkl', classifier=cnn, verbose=False)"
      ],
      "execution_count": 82,
      "outputs": []
    },
    {
      "cell_type": "code",
      "metadata": {
        "id": "Q-LhU9zBnP1R",
        "colab": {
          "base_uri": "https://localhost:8080/"
        },
        "outputId": "01a3326b-ce4a-4f17-cee7-489895155b22"
      },
      "source": [
        "save_data_file('qlassifier_data_unit_nlcnn.pkl', classifier=nl_cnn, verbose=False)"
      ],
      "execution_count": 20,
      "outputs": [
        {
          "output_type": "stream",
          "text": [
            "/usr/local/lib/python3.7/dist-packages/torch/nn/functional.py:718: UserWarning: Named tensors and all their associated APIs are an experimental feature and subject to change. Please do not use them for anything important until they are released as stable. (Triggered internally at  /pytorch/c10/core/TensorImpl.h:1156.)\n",
            "  return torch.max_pool2d(input, kernel_size, stride, padding, dilation, ceil_mode)\n"
          ],
          "name": "stderr"
        }
      ]
    },
    {
      "cell_type": "code",
      "metadata": {
        "id": "LiB7L6ShnSBT"
      },
      "source": [
        "cnn_data = pd.read_pickle('qlassifier_data_unit_cnn.pkl')\n",
        "nlcnn_data = pd.read_pickle('qlassifier_data_unit_nlcnn.pkl')"
      ],
      "execution_count": 21,
      "outputs": []
    },
    {
      "cell_type": "code",
      "metadata": {
        "id": "BrZcW0RjnUaV",
        "colab": {
          "base_uri": "https://localhost:8080/",
          "height": 1000
        },
        "outputId": "64574375-29f1-4b1d-dfff-55a0b2876d89"
      },
      "source": [
        "datafile = nlcnn_data\n",
        "title = 'nl_cnn'\n",
        "\n",
        "print(nlcnn_data)\n",
        "\n",
        "plt.figure(1, figsize=(8,4.5))\n",
        "plt.plot(datafile['trn_acc'], label=\"Training dataset\", color='blue', linestyle='--')\n",
        "# plt.plot(datafile['val_acc'], label=\"Validation dataset\", color='red', linestyle='--')\n",
        "plt.title(f'{title}')\n",
        "plt.legend()\n",
        "# plt.xlim(0, 100)\n",
        "# plt.xticks([0, 20, 40, 60, 80, 100],[0, 2000, 4000, 6000, 8000, 10000])\n",
        "plt.ylim(0, 1)\n",
        "plt.xlabel(\"Training iterations [1]\")\n",
        "plt.ylabel(\"Accuracy [1]\")\n",
        "\n",
        "plt.figure(2, figsize=(8,4.5))\n",
        "plt.plot(datafile['trn_loss'][1:], label=\"Training dataset\", color='blue', linestyle='--')\n",
        "# plt.plot(datafile['val_loss'][1:], label=\"Validation dataset\", color='red', linestyle='--')\n",
        "plt.title(f'{title}')\n",
        "plt.legend()\n",
        "# plt.xlim(0, 100)\n",
        "# plt.xticks([0, 20, 40, 60, 80, 100],[0, 2000, 4000, 6000, 8000, 10000])\n",
        "# plt.ylim(0, 1)\n",
        "plt.xlabel(\"Training iterations [1]\")\n",
        "plt.ylabel(\"Cross entropy loss [1]\")\n",
        "plt.show()"
      ],
      "execution_count": 25,
      "outputs": [
        {
          "output_type": "stream",
          "text": [
            "    trn_loss  ...                          val_acc\n",
            "0   0.022597  ...  tensor(0.1200, device='cuda:0')\n",
            "1   0.022611  ...  tensor(0.1600, device='cuda:0')\n",
            "2   0.023612  ...  tensor(0.2000, device='cuda:0')\n",
            "3   0.021612  ...  tensor(0.1200, device='cuda:0')\n",
            "4   0.023612  ...  tensor(0.1000, device='cuda:0')\n",
            "5   0.023612  ...  tensor(0.0800, device='cuda:0')\n",
            "6   0.023612  ...  tensor(0.0800, device='cuda:0')\n",
            "7   0.023612  ...  tensor(0.0800, device='cuda:0')\n",
            "8   0.023612  ...  tensor(0.1000, device='cuda:0')\n",
            "9   0.023612  ...  tensor(0.0800, device='cuda:0')\n",
            "10  0.023612  ...  tensor(0.0800, device='cuda:0')\n",
            "11  0.023612  ...  tensor(0.0800, device='cuda:0')\n",
            "12  0.023612  ...  tensor(0.0800, device='cuda:0')\n",
            "13  0.023575  ...  tensor(0.0800, device='cuda:0')\n",
            "14  0.023612  ...  tensor(0.0600, device='cuda:0')\n",
            "15  0.023603  ...  tensor(0.0800, device='cuda:0')\n",
            "16  0.023612  ...  tensor(0.0800, device='cuda:0')\n",
            "17  0.023612  ...  tensor(0.0800, device='cuda:0')\n",
            "18  0.023612  ...  tensor(0.0800, device='cuda:0')\n",
            "19  0.023612  ...  tensor(0.0800, device='cuda:0')\n",
            "20  0.023612  ...  tensor(0.0800, device='cuda:0')\n",
            "21  0.023612  ...  tensor(0.0800, device='cuda:0')\n",
            "22  0.023612  ...  tensor(0.0800, device='cuda:0')\n",
            "23  0.023612  ...  tensor(0.0800, device='cuda:0')\n",
            "24  0.023612  ...  tensor(0.0800, device='cuda:0')\n",
            "25  0.023612  ...  tensor(0.0800, device='cuda:0')\n",
            "26  0.023612  ...  tensor(0.0800, device='cuda:0')\n",
            "27  0.023612  ...  tensor(0.0800, device='cuda:0')\n",
            "28  0.023612  ...  tensor(0.0800, device='cuda:0')\n",
            "29  0.023612  ...  tensor(0.0800, device='cuda:0')\n",
            "\n",
            "[30 rows x 4 columns]\n"
          ],
          "name": "stdout"
        },
        {
          "output_type": "display_data",
          "data": {
            "image/png": "[encoded data removed]",
            "text/plain": [
              "<Figure size 576x324 with 1 Axes>"
            ]
          },
          "metadata": {
            "tags": [],
            "needs_background": "light"
          }
        },
        {
          "output_type": "display_data",
          "data": {
            "image/png": "[encoded data removed]",
            "text/plain": [
              "<Figure size 576x324 with 1 Axes>"
            ]
          },
          "metadata": {
            "tags": [],
            "needs_background": "light"
          }
        }
      ]
    },
    {
      "cell_type": "code",
      "metadata": {
        "id": "9f1GnyMFnXdf",
        "colab": {
          "base_uri": "https://localhost:8080/",
          "height": 629
        },
        "outputId": "be37f94f-7610-4254-a7d7-c000784f91d6"
      },
      "source": [
        "plt.figure(3, figsize=(8,4.5))\n",
        "plt.plot(cnn_data['val_acc'], label=\"CNN\", linestyle='--')\n",
        "plt.plot(nlcnn_data['val_acc'], label=\"NL_CNN\", linestyle='--')\n",
        "plt.legend()\n",
        "plt.title('UN Dist. #F = 25')\n",
        "# plt.xlim(0, 100)\n",
        "# plt.xticks([0, 20, 40, 60, 80, 100],[0, 2000, 4000, 6000, 8000, 10000])\n",
        "plt.ylim(0, 1)\n",
        "plt.xlabel(\"Training iterations [1]\")\n",
        "plt.ylabel(\"Validation accuracy [1]\")\n",
        "\n",
        "plt.figure(4, figsize=(8,4.5))\n",
        "plt.plot(cnn_data['trn_loss'][1:], label=\"CNN\", linestyle='--')\n",
        "plt.plot(nlcnn_data['trn_loss'][1:], label=\"NL_CNN\", linestyle='--')\n",
        "plt.legend()\n",
        "plt.title('UN Dist. #F = 25')\n",
        "# plt.xlim(0, 100)\n",
        "# plt.xticks([0, 20, 40, 60, 80, 100],[0, 2000, 4000, 6000, 8000, 10000])\n",
        "# plt.ylim(0, 1)\n",
        "plt.xlabel(\"Training iterations [1]\")\n",
        "plt.ylabel(\"Cross entropy loss (training) [1]\")\n",
        "plt.show()"
      ],
      "execution_count": 23,
      "outputs": [
        {
          "output_type": "display_data",
          "data": {
            "image/png": "[encoded data removed]",
            "text/plain": [
              "<Figure size 576x324 with 1 Axes>"
            ]
          },
          "metadata": {
            "tags": [],
            "needs_background": "light"
          }
        },
        {
          "output_type": "display_data",
          "data": {
            "image/png": "[encoded data removed]",
            "text/plain": [
              "<Figure size 576x324 with 1 Axes>"
            ]
          },
          "metadata": {
            "tags": [],
            "needs_background": "light"
          }
        }
      ]
    },
    {
      "cell_type": "code",
      "metadata": {
        "id": "K43NKx1P_L8C"
      },
      "source": [
        ""
      ],
      "execution_count": null,
      "outputs": []
    }
  ]
}