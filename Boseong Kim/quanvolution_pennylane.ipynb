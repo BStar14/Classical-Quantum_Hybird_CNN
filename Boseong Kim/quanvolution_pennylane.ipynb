{
  "nbformat": 4,
  "nbformat_minor": 0,
  "metadata": {
    "colab": {
      "name": "quanvolution-pennylane.ipynb",
      "provenance": [],
      "collapsed_sections": [],
      "include_colab_link": true
    },
    "interpreter": {
      "hash": "752579dbebe7f4dfe7c1aa72eac13e23fc88be2cc1ea7ab14e1f8d69b2d97d12"
    },
    "kernelspec": {
      "display_name": "Python 3.8.5 64-bit ('3.8')",
      "name": "python3"
    },
    "language_info": {
      "codemirror_mode": {
        "name": "ipython",
        "version": 3
      },
      "file_extension": ".py",
      "mimetype": "text/x-python",
      "name": "python",
      "nbconvert_exporter": "python",
      "pygments_lexer": "ipython3",
      "version": "3.8.5"
    },
    "orig_nbformat": 4
  },
  "cells": [
    {
      "cell_type": "markdown",
      "metadata": {
        "id": "view-in-github",
        "colab_type": "text"
      },
      "source": [
        "<a href=\"https://colab.research.google.com/github/BStar14/Classical-Quantum_Hybird_CNN/blob/main/Boseong%20Kim/quanvolution_pennylane.ipynb\" target=\"_parent\"><img src=\"https://colab.research.google.com/assets/colab-badge.svg\" alt=\"Open In Colab\"/></a>"
      ]
    },
    {
      "cell_type": "markdown",
      "metadata": {
        "id": "NWGbvrK5Ej0E"
      },
      "source": [
        "## 1. Module Import, Select Device, and Download MNIST Data"
      ]
    },
    {
      "cell_type": "markdown",
      "metadata": {
        "id": "leBa4O5SE2Qd"
      },
      "source": [
        "### 1-1. Setup & Module Import"
      ]
    },
    {
      "cell_type": "code",
      "metadata": {
        "id": "CBH5ggGT_R45"
      },
      "source": [
        "!pip install pennylane pennylane-ionq qiskit[visualization]"
      ],
      "execution_count": null,
      "outputs": []
    },
    {
      "cell_type": "code",
      "metadata": {
        "id": "e5fdX88pX2op"
      },
      "source": [
        "import matplotlib.pyplot as plt\n",
        "%matplotlib inline\n",
        "\n",
        "import os\n",
        "import pennylane as qml\n",
        "from pennylane import numpy as np\n",
        "from pennylane.templates import RandomLayers\n",
        "from pennylane_ionq import ops\n",
        "import matplotlib.pyplot as plt\n",
        "\n",
        "import qiskit\n",
        "from qiskit import transpile, assemble\n",
        "from qiskit.visualization import *\n",
        "from qiskit.circuit.random import random_circuit\n",
        "\n",
        "import torch\n",
        "from torch.autograd import Function\n",
        "from torchvision import datasets, transforms\n",
        "import torch.optim as optim\n",
        "import torch.nn as nn\n",
        "import torch.nn.functional as F"
      ],
      "execution_count": 9,
      "outputs": []
    },
    {
      "cell_type": "markdown",
      "metadata": {
        "id": "l1qX39BwFZue"
      },
      "source": [
        "### 1-2. Select Device"
      ]
    },
    {
      "cell_type": "code",
      "metadata": {
        "id": "Q60i4j6gX9Dw",
        "colab": {
          "base_uri": "https://localhost:8080/"
        },
        "outputId": "bb518bbc-370d-4b2a-cb48-6a033f0a2558"
      },
      "source": [
        "use_cuda = torch.cuda.is_available()\n",
        "if use_cuda:\n",
        "    DEVICE = torch.device('cuda')\n",
        "    print('cuda index:', torch.cuda.current_device())\n",
        "    print('GPU:', torch.cuda.get_device_name())\n",
        "else:\n",
        "    DEVICE = torch.device('cpu')\n",
        "\n",
        "print('Using PyTorch version:', torch.__version__, ' Device:', DEVICE)"
      ],
      "execution_count": 10,
      "outputs": [
        {
          "output_type": "stream",
          "text": [
            "Using PyTorch version: 1.9.0+cu102  Device: cpu\n"
          ],
          "name": "stdout"
        }
      ]
    },
    {
      "cell_type": "markdown",
      "metadata": {
        "id": "UiVGLmmJFcfn"
      },
      "source": [
        "### 1-3. Setting of the main hyper-parameters of the model"
      ]
    },
    {
      "cell_type": "code",
      "metadata": {
        "id": "kISDupKdX2or"
      },
      "source": [
        "BATCH_SIZE = 10\n",
        "n_epochs = 30   # Number of optimization epochs\n",
        "n_layers = 1    # Number of random layers\n",
        "n_train = 50    # Size of the train dataset\n",
        "n_test = 30     # Size of the test dataset\n",
        "learning_rate = 5e-3\n",
        "\n",
        "SAVE_PATH = \"quanvolution_pqc/\" # Data saving folder\n",
        "PREPROCESS = True           # If False, skip quantum processing and load data from SAVE_PATH\n",
        "seed = 47\n",
        "np.random.seed(seed)        # Seed for NumPy random number generator\n",
        "torch.manual_seed(seed)     # Seed for TensorFlow random number generator\n",
        "\n",
        "os.environ['IONQ_API_KEY']='1LCa7Dvzz5P35g6B3gwoxzFO04n7gWYH'   # IonQ Token\n",
        "#dev = qml.device(\"ionq.qpu\", wires=9)\n",
        "dev = qml.device(\"default.qubit\", wires=9)"
      ],
      "execution_count": 36,
      "outputs": []
    },
    {
      "cell_type": "markdown",
      "metadata": {
        "id": "K8MHcj-rI7j4"
      },
      "source": [
        "### 1-4. Data Loading"
      ]
    },
    {
      "cell_type": "code",
      "metadata": {
        "id": "98toQ5ujX2os"
      },
      "source": [
        "from torch.utils.data import SubsetRandomSampler\n",
        "train_dataset = datasets.MNIST(root = \"./mnist_data\",\n",
        "                               train = True,\n",
        "                               download = True,\n",
        "                               transform = transforms.Compose([\n",
        "                                               transforms.Resize(size=14),\n",
        "                                               transforms.ToTensor()]))\n",
        "\n",
        "test_dataset = datasets.MNIST(root = \"./mnist_data\",\n",
        "                              train = False,\n",
        "                              transform = transforms.Compose([\n",
        "                                              transforms.Resize(size=14),\n",
        "                                              transforms.ToTensor()]))\n",
        "\n",
        "# train_dataset = Subset(train_dataset,range(n_train))\n",
        "# test_dataset = Subset(test_dataset,range(n_test))\n",
        "\n",
        "train_sampler = SubsetRandomSampler(range(n_train))\n",
        "test_sampler = SubsetRandomSampler(range(n_test))\n",
        "\n",
        "train_loader = torch.utils.data.DataLoader(dataset = train_dataset,\n",
        "                                           batch_size = BATCH_SIZE,\n",
        "                                           shuffle = False,\n",
        "                                           sampler = train_sampler)\n",
        "\n",
        "test_loader = torch.utils.data.DataLoader(dataset = test_dataset,\n",
        "                                          batch_size = BATCH_SIZE,\n",
        "                                          shuffle = False,\n",
        "                                          sampler = test_sampler)"
      ],
      "execution_count": 37,
      "outputs": []
    },
    {
      "cell_type": "code",
      "metadata": {
        "colab": {
          "base_uri": "https://localhost:8080/"
        },
        "id": "cQE9eNpYJIyJ",
        "outputId": "5b91980c-5919-44c3-ca73-638a922aca3c"
      },
      "source": [
        "for (X_train, y_train) in train_loader:\n",
        "    print('X_train:', X_train.size(), 'type:', X_train.type())\n",
        "    print('y_train:', y_train.size(), 'type:', y_train.type())\n",
        "    break"
      ],
      "execution_count": 38,
      "outputs": [
        {
          "output_type": "stream",
          "text": [
            "X_train: torch.Size([10, 1, 14, 14]) type: torch.FloatTensor\n",
            "y_train: torch.Size([10]) type: torch.LongTensor\n"
          ],
          "name": "stdout"
        }
      ]
    },
    {
      "cell_type": "code",
      "metadata": {
        "colab": {
          "base_uri": "https://localhost:8080/",
          "height": 94
        },
        "id": "e2XHBWaGJPU2",
        "outputId": "a0986d2e-68b1-4427-fe9c-4edded90a6f1"
      },
      "source": [
        "pltsize = 1\n",
        "plt.figure(figsize=(10 * pltsize, pltsize))\n",
        "for i in range(10):\n",
        "    plt.subplot(1, 10, i + 1)\n",
        "    plt.axis('off')\n",
        "    plt.imshow(X_train[i, :, :, :].numpy().reshape(14, 14), cmap = \"gray_r\")\n",
        "    plt.title('Class: ' + str(y_train[i].item()))"
      ],
      "execution_count": 39,
      "outputs": [
        {
          "output_type": "display_data",
          "data": {
            "image/png": "[encoded data removed]",
            "text/plain": [
              "<Figure size 720x72 with 10 Axes>"
            ]
          },
          "metadata": {
            "tags": [],
            "needs_background": "light"
          }
        }
      ]
    },
    {
      "cell_type": "markdown",
      "metadata": {
        "id": "raQ2L0JcMJOk"
      },
      "source": [
        "## 2. Construct Quantum Circuit"
      ]
    },
    {
      "cell_type": "markdown",
      "metadata": {
        "id": "ReIxz4NjMNHZ"
      },
      "source": [
        "### 2-1. Create a 'Quantum Class' with Qiskit"
      ]
    },
    {
      "cell_type": "code",
      "metadata": {
        "id": "-EUd926PX2os"
      },
      "source": [
        "# Random circuit parameters\n",
        "\n",
        "@qml.qnode(dev, interface='torch')\n",
        "def pqc(data,params,circuit_type):\n",
        "    n_qubits = 9\n",
        "    for j in range(n_qubits):\n",
        "        qml.RY(np.pi * data[j], wires=j)\n",
        "                      \n",
        "    if circuit_type == 2:     # len(params) == 18\n",
        "        # PQC\n",
        "        for i in range(n_qubits):\n",
        "            qml.RX(params[i], wires=i)\n",
        "        for i in range(n_qubits):\n",
        "            qml.RX(params[i+n_qubits], wires=i)\n",
        "        for i in range(n_qubits-1,0,-1):\n",
        "            qml.CNOT(wires=[i,i-1])    \n",
        "    elif circuit_type == 3:   # len(params) == 26\n",
        "        # PQC\n",
        "        for i in range(n_qubits):\n",
        "            qml.RX(params[i], wires=i)\n",
        "        for i in range(n_qubits):\n",
        "            qml.RX(params[i+n_qubits], wires=i)\n",
        "        for k,i in enumerate(range(n_qubits-1,0,-1)):\n",
        "            qml.CRZ(params[k+2*n_qubits], wires=[i,i-1])\n",
        "    elif circuit_type == 9:   # len(params) == 9\n",
        "        # PQC\n",
        "        for i in range(n_qubits):\n",
        "            qml.Hadamard(wires=i)\n",
        "        for i in range(n_qubits-1,0,-1):\n",
        "            qml.CZ(wires=[i,i-1])\n",
        "        for i in range(n_qubits):\n",
        "            qml.RX(params[i],wires=i)\n",
        "    elif circuit_type == 10:  # len(params) == 18\n",
        "        for i in range(n_qubits):\n",
        "            qml.RY(params[i],wires=i)\n",
        "        for i in range(n_qubits-1,0,-1):\n",
        "            qml.CZ(wires=[i,i-1])\n",
        "            qml.CZ(wires=[0,n_qubits-1])\n",
        "        for i in range(n_qubits):\n",
        "            qml.RY(params[i+n_qubits],wires=i)\n",
        "    elif circuit_type == 'random':\n",
        "        # Random quantum circuit\n",
        "        rand_params = np.random.uniform(high=2 * np.pi, size=(n_layers, n_qubits))\n",
        "        RandomLayers(rand_params, wires=list(range(4)))\n",
        "    else:\n",
        "        print(\"Invalid circuit_type\")\n",
        "        raise NotImplementedError\n",
        "    # Measurement producing 9 classical output values\n",
        "    return qml.expval(qml.PauliZ(0))"
      ],
      "execution_count": 40,
      "outputs": []
    },
    {
      "cell_type": "code",
      "metadata": {
        "id": "YvCObUDBX2ot",
        "colab": {
          "base_uri": "https://localhost:8080/"
        },
        "outputId": "0380aa6e-1a35-4827-d854-606e5e038675"
      },
      "source": [
        "print(pqc(torch.tensor([1,0,2,1,2,3,1,2,0]),torch.tensor([1,1,1,1,1,1,1,1,1,1,1,1,1,1,1,1,1,1]), 'random'))"
      ],
      "execution_count": 41,
      "outputs": [
        {
          "output_type": "stream",
          "text": [
            "tensor(0.5221, dtype=torch.float64)\n"
          ],
          "name": "stdout"
        }
      ]
    },
    {
      "cell_type": "code",
      "metadata": {
        "id": "IpBrzK8YuET4"
      },
      "source": [
        "class QuanvNet(torch.nn.Module):\n",
        "    def __init__(self,qc=True,opt=True,circuit_type=9):\n",
        "        super().__init__()\n",
        "        self.qc = qc\n",
        "        self.opt = opt\n",
        "        self.n_qubits = 9\n",
        "        self.filters = 1\n",
        "        self.conv_opt = torch.nn.Conv2d(in_channels=self.filters,out_channels=self.filters,kernel_size=3)\n",
        "        self.conv1 = torch.nn.Conv2d(in_channels=self.filters,out_channels=8,kernel_size=3,padding='same')\n",
        "        self.pre_pool = torch.nn.AvgPool2d(2)\n",
        "        self.pool = torch.nn.MaxPool2d(2)\n",
        "        self.conv2 = torch.nn.Conv2d(in_channels=8,out_channels=8,kernel_size=3)\n",
        "        self.fc1 = torch.nn.Linear(32,16)\n",
        "        self.fc2 = torch.nn.Linear(16,10)\n",
        "        self.dropout = torch.nn.Dropout(0.4)\n",
        "        if circuit_type == 2:\n",
        "          self.num_q_params = 2*self.n_qubits\n",
        "        elif circuit_type == 3:\n",
        "          self.num_q_params = 3*self.n_qubits - 1\n",
        "        elif circuit_type == 9:\n",
        "          self.num_q_params = self.n_qubits\n",
        "        elif circuit_type == 10:\n",
        "          self.num_q_params = 2*self.n_qubits\n",
        "        self.q_params = torch.nn.Parameter(2*np.pi*torch.rand(self.filters,self.num_q_params))\n",
        "        self.q_params.requires_grad = True\n",
        "        if self.qc:\n",
        "          self.circuit_type = circuit_type\n",
        "        else:\n",
        "          self.circuit_type = 0\n",
        "\n",
        "    def forward(self, inputs, check_plot=0):\n",
        "        if self.qc == True:\n",
        "            out = torch.zeros((BATCH_SIZE,self.filters,12,12))\n",
        "            for bat, image in enumerate(inputs):\n",
        "                for j in range(1, 13, 1):\n",
        "                    for k in range(1, 13, 1):\n",
        "                        for i in range(self.filters):\n",
        "                            window = image[0, j-1:j+2, k-1:k+2].squeeze()\n",
        "                            window_flatten = window.reshape(self.n_qubits)\n",
        "                            q_results = pqc(\n",
        "                                window_flatten,\n",
        "                                self.q_params[i],\n",
        "                                circuit_type=self.circuit_type\n",
        "                            )\n",
        "                            if use_cuda:\n",
        "                              out[bat,i,j - 1, k - 1] = F.relu(q_results.cuda())\n",
        "                            else:\n",
        "                              out[bat,i,j - 1, k - 1] = F.relu(q_results)\n",
        "\n",
        "            if check_plot == 1:\n",
        "              pltsize = 1\n",
        "              plt.figure(figsize=(BATCH_SIZE * pltsize, n_channels * pltsize))\n",
        "              for i in range(BATCH_SIZE):\n",
        "                for j in range(0, n_channels, 3):\n",
        "                  plt.subplot((n_channels+2)/3, BATCH_SIZE, i + j*BATCH_SIZE/3 + 1)\n",
        "                  plt.axis('off')\n",
        "                  plt.imshow(out[i, j, :, :].reshape(12, 12), cmap = \"gray_r\")\n",
        "\n",
        "        else:\n",
        "          if use_cuda:\n",
        "            out = torch.zeros((BATCH_SIZE,self.filters,14,14)).cuda()\n",
        "          else:\n",
        "            out = torch.zeros((BATCH_SIZE,self.filters,14,14))\n",
        "          out = inputs\n",
        "        # print(out.size())\n",
        "        if self.opt==True:\n",
        "          out = F.relu(self.conv_opt(inputs))\n",
        "        # print(\"out\", out.type)\n",
        "        x = self.pool(F.relu(self.conv1(out)))\n",
        "\n",
        "        # print(\"x\", x.type)\n",
        "        # print(x.size())\n",
        "        # print(x.size())\n",
        "        if check_plot == 1:\n",
        "          conv_image = x.cpu().detach().numpy()\n",
        "          pltsize = 1\n",
        "          plt.figure(figsize=(BATCH_SIZE * pltsize, n_channels * pltsize))\n",
        "          for i in range(BATCH_SIZE):\n",
        "            for j in range(0, n_channels, 3):\n",
        "              plt.subplot((n_channels+2)/3, BATCH_SIZE, i + j*BATCH_SIZE/3 + 1)\n",
        "              plt.axis('off')\n",
        "              plt.imshow(conv_image[i, j, :, :].reshape(6, 6), cmap = \"gray_r\")\n",
        "        \n",
        "        x = self.pool(F.relu(self.conv2(x)))\n",
        "        x = torch.flatten(x,1)\n",
        "        # print(x.size())\n",
        "        x = F.relu(self.fc1(x))\n",
        "        x = self.dropout(x)\n",
        "        x = F.softmax(self.fc2(x))\n",
        "        if use_cuda:\n",
        "          return x.cuda()\n",
        "        else:\n",
        "          return x"
      ],
      "execution_count": 42,
      "outputs": []
    },
    {
      "cell_type": "code",
      "metadata": {
        "id": "d6UzG0EiX2ou",
        "colab": {
          "base_uri": "https://localhost:8080/"
        },
        "outputId": "d7240ffc-2f12-41af-e5c7-7b95bb1c9ddf"
      },
      "source": [
        "from torchsummary import summary\n",
        "criterion = torch.nn.CrossEntropyLoss()\n",
        "model = QuanvNet(qc=True,opt=False)\n",
        "if use_cuda:\n",
        "    model.cuda()\n",
        "opt = optim.Adam(model.parameters(),lr=learning_rate)\n",
        "summary(model,(1,14,14))"
      ],
      "execution_count": 43,
      "outputs": [
        {
          "output_type": "stream",
          "text": [
            "----------------------------------------------------------------\n",
            "        Layer (type)               Output Shape         Param #\n",
            "================================================================\n",
            "            Conv2d-1            [-1, 8, 12, 12]              80\n",
            "         MaxPool2d-2              [-1, 8, 6, 6]               0\n",
            "            Conv2d-3              [-1, 8, 4, 4]             584\n",
            "         MaxPool2d-4              [-1, 8, 2, 2]               0\n",
            "            Linear-5                   [-1, 16]             528\n",
            "           Dropout-6                   [-1, 16]               0\n",
            "            Linear-7                   [-1, 10]             170\n",
            "================================================================\n",
            "Total params: 1,362\n",
            "Trainable params: 1,362\n",
            "Non-trainable params: 0\n",
            "----------------------------------------------------------------\n",
            "Input size (MB): 0.00\n",
            "Forward/backward pass size (MB): 0.01\n",
            "Params size (MB): 0.01\n",
            "Estimated Total Size (MB): 0.02\n",
            "----------------------------------------------------------------\n"
          ],
          "name": "stdout"
        },
        {
          "output_type": "stream",
          "text": [
            "/usr/local/lib/python3.7/dist-packages/ipykernel_launcher.py:89: UserWarning: Implicit dimension choice for softmax has been deprecated. Change the call to include dim=X as an argument.\n"
          ],
          "name": "stderr"
        }
      ]
    },
    {
      "cell_type": "code",
      "metadata": {
        "id": "V2oZQZNkX2ov",
        "colab": {
          "base_uri": "https://localhost:8080/"
        },
        "outputId": "0daa688e-ef4f-49c1-a37d-bc10709d9fda"
      },
      "source": [
        "for p in model.parameters():\n",
        "    print(p.shape)"
      ],
      "execution_count": 44,
      "outputs": [
        {
          "output_type": "stream",
          "text": [
            "torch.Size([1, 9])\n",
            "torch.Size([1, 1, 3, 3])\n",
            "torch.Size([1])\n",
            "torch.Size([8, 1, 3, 3])\n",
            "torch.Size([8])\n",
            "torch.Size([8, 8, 3, 3])\n",
            "torch.Size([8])\n",
            "torch.Size([16, 32])\n",
            "torch.Size([16])\n",
            "torch.Size([10, 16])\n",
            "torch.Size([10])\n"
          ],
          "name": "stdout"
        }
      ]
    },
    {
      "cell_type": "code",
      "metadata": {
        "id": "5NSXfcDc0WHZ",
        "colab": {
          "base_uri": "https://localhost:8080/"
        },
        "outputId": "7e9c6b6f-87e1-4d3c-e07b-6f3f7dc7bbee"
      },
      "source": [
        "losses = []\n",
        "accs = []\n",
        "check_plot=0\n",
        "\n",
        "for epoch in range(n_epochs):\n",
        "  \n",
        "  train_loss = 0\n",
        "  acc = 0\n",
        "\n",
        "  for (x_train, y_train) in train_loader:\n",
        "    \n",
        "    # print(y_train)\n",
        "\n",
        "    if check_plot == 1:\n",
        "      pltsize = 1\n",
        "      plt.figure(figsize=(BATCH_SIZE * pltsize, pltsize))\n",
        "      for i in range(BATCH_SIZE):\n",
        "        plt.subplot(1, BATCH_SIZE, i + 1)\n",
        "        plt.axis('off')\n",
        "        plt.imshow(x_train[i, :, :, :].numpy().reshape(14, 14), cmap = \"gray_r\")\n",
        "        plt.title('Class: ' + str(y_train[i].item()))\n",
        "\n",
        "    opt.zero_grad()\n",
        "    outputs = model(x_train.cuda() if use_cuda else x_train, check_plot=check_plot)\n",
        "    _, preds = torch.max(outputs,1)\n",
        "    acc += (preds==(y_train.cuda() if use_cuda else y_train)).sum().item()\n",
        "    loss = criterion(outputs,(y_train.cuda() if use_cuda else y_train))\n",
        "    loss.backward()\n",
        "    opt.step()\n",
        "    train_loss += loss\n",
        "    del loss\n",
        "  acc /= n_train\n",
        "  train_loss /= (n_train/BATCH_SIZE)\n",
        "  losses.append(train_loss.item())\n",
        "  accs.append(acc)\n",
        "  print(f'epoch: {epoch+1}, acc: {acc}, loss: {train_loss}')\n",
        "  del acc"
      ],
      "execution_count": null,
      "outputs": [
        {
          "output_type": "stream",
          "text": [
            "/usr/local/lib/python3.7/dist-packages/ipykernel_launcher.py:89: UserWarning: Implicit dimension choice for softmax has been deprecated. Change the call to include dim=X as an argument.\n"
          ],
          "name": "stderr"
        },
        {
          "output_type": "stream",
          "text": [
            "epoch: 1, acc: 0.12, loss: 2.3022027015686035\n",
            "epoch: 2, acc: 0.16, loss: 2.299938678741455\n",
            "epoch: 3, acc: 0.16, loss: 2.2986063957214355\n",
            "epoch: 4, acc: 0.12, loss: 2.2970006465911865\n"
          ],
          "name": "stdout"
        }
      ]
    },
    {
      "cell_type": "code",
      "metadata": {
        "id": "EhALf9PmX2ov"
      },
      "source": [
        "from matplotlib.pyplot import plot\n",
        "x = np.arange(0,1000,10)\n",
        "plot(x,losses)"
      ],
      "execution_count": null,
      "outputs": []
    },
    {
      "cell_type": "code",
      "metadata": {
        "id": "-WqQOezuX2ow"
      },
      "source": [
        "x = np.arange(0,1000,10)\n",
        "plot(x,accs)"
      ],
      "execution_count": null,
      "outputs": []
    },
    {
      "cell_type": "code",
      "metadata": {
        "id": "m2_nXF-wSC_I"
      },
      "source": [
        "file = pd.DataFrame(data={'train_loss': losses,\n",
        "                          'train_acc': accs})\n",
        "file.to_pickle(file_name)"
      ],
      "execution_count": null,
      "outputs": []
    },
    {
      "cell_type": "code",
      "metadata": {
        "id": "9jE7WBpF_qnA"
      },
      "source": [
        ""
      ],
      "execution_count": null,
      "outputs": []
    }
  ]
}