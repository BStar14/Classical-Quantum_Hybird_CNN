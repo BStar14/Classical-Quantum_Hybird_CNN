{
  "nbformat": 4,
  "nbformat_minor": 0,
  "metadata": {
    "colab": {
      "name": "05_test.ipynb",
      "provenance": [],
      "collapsed_sections": [],
      "include_colab_link": true
    },
    "kernelspec": {
      "name": "python3",
      "display_name": "Python 3"
    },
    "language_info": {
      "name": "python"
    },
    "accelerator": "GPU"
  },
  "cells": [
    {
      "cell_type": "markdown",
      "metadata": {
        "id": "view-in-github",
        "colab_type": "text"
      },
      "source": [
        "<a href=\"https://colab.research.google.com/github/BStar14/Classical-Quantum_Hybird_CNN/blob/main/Boseong%20Kim/05_test.ipynb\" target=\"_parent\"><img src=\"https://colab.research.google.com/assets/colab-badge.svg\" alt=\"Open In Colab\"/></a>"
      ]
    },
    {
      "cell_type": "code",
      "metadata": {
        "id": "dOPI7p0ENVTH",
        "colab": {
          "base_uri": "https://localhost:8080/"
        },
        "outputId": "93f042f6-a386-45db-f0f2-bba61d2a707a"
      },
      "source": [
        "from google.colab import drive\n",
        "drive.mount('/content/gdrive')"
      ],
      "execution_count": null,
      "outputs": [
        {
          "output_type": "stream",
          "text": [
            "Mounted at /content/gdrive\n"
          ],
          "name": "stdout"
        }
      ]
    },
    {
      "cell_type": "code",
      "metadata": {
        "id": "y2uLSpfnNpDV",
        "colab": {
          "base_uri": "https://localhost:8080/"
        },
        "outputId": "6e081d7a-4d99-4e5f-aadf-9a7d71c0d091"
      },
      "source": [
        "cd/content/gdrive/MyDrive/Colab Notebooks/QHK2021/05_test"
      ],
      "execution_count": null,
      "outputs": [
        {
          "output_type": "stream",
          "text": [
            "/content/gdrive/MyDrive/Colab Notebooks/QHK2021/05_test\n"
          ],
          "name": "stdout"
        }
      ]
    },
    {
      "cell_type": "code",
      "metadata": {
        "id": "rKxNWKXWPBpj"
      },
      "source": [
        "!pip install pennylane --upgrade"
      ],
      "execution_count": null,
      "outputs": []
    },
    {
      "cell_type": "code",
      "metadata": {
        "id": "K3rDW9vwPIcu"
      },
      "source": [
        "!pip install qiskit ipywidgets"
      ],
      "execution_count": null,
      "outputs": []
    },
    {
      "cell_type": "code",
      "metadata": {
        "id": "bqc_rrHrmxD8"
      },
      "source": [
        "import pennylane as qml\n",
        "from pennylane import numpy as np\n",
        "from pennylane.templates import RandomLayers\n",
        "import matplotlib.pyplot as plt\n",
        "from qiskit import *\n",
        "import torch\n",
        "from torch.autograd import Variable\n",
        "from torchvision import datasets, transforms\n",
        "import torch.optim as optim\n",
        "import torch.nn.functional as F\n",
        "from torch.utils.data import SubsetRandomSampler\n",
        "\n",
        "import numpy\n",
        "import numpy.random as random\n",
        "import pandas as pd\n",
        "# import time"
      ],
      "execution_count": null,
      "outputs": []
    },
    {
      "cell_type": "code",
      "metadata": {
        "id": "MtM-9Y_ns6G8",
        "colab": {
          "base_uri": "https://localhost:8080/"
        },
        "outputId": "8e30e52d-9a75-48e0-8422-d86992d577f7"
      },
      "source": [
        "use_cuda = torch.cuda.is_available()\n",
        "print(use_cuda)"
      ],
      "execution_count": null,
      "outputs": [
        {
          "output_type": "stream",
          "text": [
            "True\n"
          ],
          "name": "stdout"
        }
      ]
    },
    {
      "cell_type": "code",
      "metadata": {
        "id": "qATAHWS0nvYL"
      },
      "source": [
        "n_epochs = 30         # Number of optimization epochs\n",
        "n_channels = 1        # Number of channels\n",
        "n_train = 50          # Size of the train dataset\n",
        "n_test = 30           # Size of the test dataset\n",
        "learning_rate = 5e-3  # Learning rate\n",
        "BATCH_SIZE = 10       # Size of batch\n",
        "\n",
        "SAVE_PATH = \"quanvolution_pqc/\"   # Data saving folder\n",
        "PREPROCESS = True                 # If False, skip quantum processing and load data from SAVE_PATH\n",
        "random.seed(0)                    # Seed for NumPy random number generator\n",
        "\n",
        "n_poly = 4                  # Order of polynomials (Highest order)\n",
        "n_kernel = 3**2             # Size of kernel\n",
        "\n",
        "rand_params = random.default_rng()\n",
        "rand_params = 1 - rand_params.standard_normal(size=(n_channels, n_poly, n_kernel))"
      ],
      "execution_count": null,
      "outputs": []
    },
    {
      "cell_type": "code",
      "metadata": {
        "id": "K43NKx1P_L8C",
        "colab": {
          "base_uri": "https://localhost:8080/"
        },
        "outputId": "0ae82538-f8c0-4fd2-ce79-841ada5c529d"
      },
      "source": [
        "train_dataset = datasets.MNIST(root = \"./\",\n",
        "                               train = True,\n",
        "                               download = True,\n",
        "                               transform=transforms.Compose([\n",
        "                                  transforms.Resize(size=14),\n",
        "                                  transforms.ToTensor()\n",
        "                                ]))\n",
        "\n",
        "test_dataset = datasets.MNIST(root = \"./\",\n",
        "                              train = False,\n",
        "                              download = False,\n",
        "                              transform=transforms.Compose([\n",
        "                                transforms.Resize(size=14),\n",
        "                                transforms.ToTensor()\n",
        "                              ]))\n",
        "\n",
        "train_sampler = SubsetRandomSampler(range(n_train))\n",
        "test_sampler = SubsetRandomSampler(range(n_test))\n",
        "\n",
        "train_loader = torch.utils.data.DataLoader(dataset = train_dataset,\n",
        "                                           batch_size = BATCH_SIZE,\n",
        "                                           shuffle = False,\n",
        "                                           sampler = train_sampler)\n",
        "\n",
        "test_loader = torch.utils.data.DataLoader(dataset = test_dataset,\n",
        "                                          batch_size = BATCH_SIZE,\n",
        "                                          shuffle = False,\n",
        "                                          sampler = test_sampler)"
      ],
      "execution_count": null,
      "outputs": [
        {
          "output_type": "stream",
          "text": [
            "/usr/local/lib/python3.7/dist-packages/torchvision/datasets/mnist.py:498: UserWarning: The given NumPy array is not writeable, and PyTorch does not support non-writeable tensors. This means you can write to the underlying (supposedly non-writeable) NumPy array using the tensor. You may want to copy the array to protect its data or make it writeable before converting it to a tensor. This type of warning will be suppressed for the rest of this program. (Triggered internally at  /pytorch/torch/csrc/utils/tensor_numpy.cpp:180.)\n",
            "  return torch.from_numpy(parsed.astype(m[2], copy=False)).view(*s)\n"
          ],
          "name": "stderr"
        }
      ]
    },
    {
      "cell_type": "code",
      "metadata": {
        "id": "L8mq8VyMUa5A"
      },
      "source": [
        "token1 = '2b740fada862fb6d9683487f84455ff8fccb2caaa3988e4f406d321ef67ce0644eb679211a1b6a377ec5ee9b3839d34434255304ab535a9ed11ce60703f07446'\n",
        "token2 = '08952555d263c29c9b015855d49bcbf0e7a3cb1354b5520743285bb48d19f0db420522be05c80dd1fb19179c42d798b238ae7b944568bb6e7e7284d9bfeb0209'\n",
        "\n",
        "# from qiskit import IBMQ\n",
        "# IBMQ.save_account(token2)\n",
        "# provider = IBMQ.enable_account(token1)\n",
        "dev = qml.device(\"default.qubit\", wires=9)\n",
        "# dev = qml.device('qiskit.ibmq', wires=9, backend='ibmq_qasm_simulator',provider=provider)\n",
        "# IBMQ.get_provider(hub='ibm-q', group='open', project='main')\n",
        "# dev = qml.device('qiskit.ibmq', wires=9, backend='ibmq_qasm_simulator',\n",
        "                #  ibmqx_token=token1, hub='ibm-q', group='open', project='main')\n",
        "# print(dev.capabilities()['backend'])\n",
        "# import pennylane as qml\n",
        "# from pennylane_ionq import ops\n",
        "\n",
        "# dev = qml.device(\"ionq.qpu\", wires=9)\n",
        "\n",
        "# Random circuit parameters\n",
        "\n",
        "@qml.qnode(dev, interface='torch')\n",
        "def pqc(data,params):\n",
        "    # Encoding of 9 classical input values\n",
        "    # len(params) = 2 * 9\n",
        "    # print(\"data: \",data)\n",
        "    # print(\"params: \",params)\n",
        "    n_qubits = 9\n",
        "    for j in range(n_qubits):\n",
        "        qml.RY(np.pi * data[j], wires=j)\n",
        "    \n",
        "    # rand_params = np.random.uniform(high=2 * np.pi, size=(n_channels, 9))\n",
        "    # print(\"rand\", rand_params)\n",
        "    # PQC\n",
        "    for i in range(n_qubits):\n",
        "        qml.RY(params[i], wires=i)\n",
        "    for i in range(n_qubits-1):\n",
        "        qml.CNOT(wires=[i,i+1])    \n",
        "    qml.CNOT(wires=[n_qubits-1,0])\n",
        "    for i in range(n_qubits):\n",
        "        qml.RY(params[i+n_qubits], wires=i)\n",
        "    # Measurement producing 9 classical output values\n",
        "    return qml.expval(qml.PauliZ(0))"
      ],
      "execution_count": null,
      "outputs": []
    },
    {
      "cell_type": "code",
      "metadata": {
        "colab": {
          "base_uri": "https://localhost:8080/"
        },
        "id": "p8dfw_HFUetM",
        "outputId": "cef08b63-0a4b-48cd-f27a-87c442d89f73"
      },
      "source": [
        "print(pqc([1,0,2,1,2,3,1,2,0],[1,1,1,1,1,1,1,1,1,1,1,1,1,1,1,1,1,1]))"
      ],
      "execution_count": null,
      "outputs": [
        {
          "output_type": "stream",
          "text": [
            "tensor(0.5919, dtype=torch.float64)\n"
          ],
          "name": "stdout"
        }
      ]
    },
    {
      "cell_type": "code",
      "metadata": {
        "id": "hrxtmz60Uhmf"
      },
      "source": [
        "class QuanvNet(torch.nn.Module):\n",
        "    def __init__(self, qc=True, opt=True):\n",
        "        super().__init__()\n",
        "        self.qc = qc\n",
        "        self.opt = opt\n",
        "        self.n_qubits = 9\n",
        "        self.filters = n_channels\n",
        "        self.conv_opt = torch.nn.Conv2d(in_channels=self.filters,out_channels=self.filters,kernel_size=3)\n",
        "        self.conv1 = torch.nn.Conv2d(in_channels=self.filters,out_channels=8,kernel_size=3,padding='same')\n",
        "        self.pre_pool = torch.nn.AvgPool2d(2)\n",
        "        self.pool = torch.nn.MaxPool2d(2)\n",
        "        self.conv2 = torch.nn.Conv2d(in_channels=8,out_channels=8,kernel_size=3)\n",
        "        self.fc1 = torch.nn.Linear(32,16)\n",
        "        self.fc2 = torch.nn.Linear(16,10)\n",
        "        self.dropout = torch.nn.Dropout(0.4)\n",
        "        self.q_params = torch.nn.Parameter(2*np.pi*torch.rand(12,12,self.filters,2*self.n_qubits))\n",
        "        self.q_params.requires_grad = True\n",
        "\n",
        "    def forward(self, inputs):\n",
        "        if self.qc == True:\n",
        "          out = torch.zeros((BATCH_SIZE,self.filters,12,12))\n",
        "          for bat, image in enumerate(inputs):\n",
        "              for j in range(1, 13, 1):\n",
        "                  for k in range(1, 13, 1):\n",
        "                      for i in range(self.filters):\n",
        "                          q_results = pqc(\n",
        "                          [\n",
        "                              image[0, j - 1, k - 1].item(),\n",
        "                              image[0, j - 1, k].item(),\n",
        "                              image[0, j - 1, k + 1].item(),\n",
        "                              image[0, j, k - 1].item(),\n",
        "                              image[0, j, k].item(),\n",
        "                              image[0, j, k + 1].item(),\n",
        "                              image[0, j + 1, k - 1].item(),\n",
        "                              image[0, j + 1, k].item(),\n",
        "                              image[0, j + 1, k + 1].item()\n",
        "                          ],\n",
        "                              self.q_params[j-1,k-1,i]\n",
        "                          )\n",
        "                          out[bat,i,j - 1, k - 1] = q_results\n",
        "        else:\n",
        "          out = torch.zeros((BATCH_SIZE,self.filters,14,14))\n",
        "          out = inputs\n",
        "        print(out.size())\n",
        "        if use_cuda:\n",
        "          out = out.cuda()\n",
        "        if self.opt==True:\n",
        "          out = self.conv_opt(inputs)\n",
        "        x = self.pool(F.relu(self.conv1(out)))\n",
        "        print(x.size())\n",
        "        x = self.pool(F.relu(self.conv2(x)))\n",
        "        x = torch.flatten(x,1)\n",
        "        print(x.size())\n",
        "        x = F.relu(self.fc1(x))\n",
        "        x = self.dropout(x)\n",
        "        x = F.softmax(self.fc2(x))\n",
        "        return x\n"
      ],
      "execution_count": null,
      "outputs": []
    },
    {
      "cell_type": "code",
      "metadata": {
        "id": "mHK7QHXqVHw9"
      },
      "source": [
        "## Random Polynomial Definition\n",
        "def rand_poly(x_kernel):\n",
        "\n",
        "  result = .0               # result will be numpy.float\n",
        "  \n",
        "  # runs on order and input kernel\n",
        "  for j in range(n_poly):\n",
        "    for k, x in enumerate(x_kernel):\n",
        "      # polynomial centered (.5, .5)\n",
        "      result = result + rand_params[0, j, k] * ((2 * (x - .5)) ** (j + 1)) / 2 + .5\n",
        "\n",
        "  return result"
      ],
      "execution_count": null,
      "outputs": []
    },
    {
      "cell_type": "code",
      "metadata": {
        "id": "HJpNi3EeVqFV"
      },
      "source": [
        "class NLNet(torch.nn.Module):\n",
        "    def __init__(self, nl=True, opt=False):\n",
        "        super().__init__()\n",
        "        self.nl = nl\n",
        "        self.opt = opt\n",
        "        self.filters = n_channels\n",
        "        self.conv_opt = torch.nn.Conv2d(in_channels=self.filters,out_channels=self.filters,kernel_size=3)\n",
        "        self.conv1 = torch.nn.Conv2d(in_channels=self.filters,out_channels=8,kernel_size=3,padding='valid')\n",
        "        self.pre_pool = torch.nn.AvgPool2d(2)\n",
        "        self.pool = torch.nn.MaxPool2d(2)\n",
        "        self.conv2 = torch.nn.Conv2d(in_channels=8,out_channels=8,kernel_size=3)\n",
        "        self.fc1 = torch.nn.Linear(32,16)\n",
        "        self.fc2 = torch.nn.Linear(16,10)\n",
        "        self.dropout = torch.nn.Dropout(0.4)\n",
        "\n",
        "    def forward(self, inputs, check_plot=0):\n",
        "        if self.nl == True:\n",
        "          out = torch.zeros((BATCH_SIZE,self.filters,12,12))\n",
        "          for bat, image in enumerate(inputs):\n",
        "              for j in range(1, 13, 1):\n",
        "                  for k in range(1, 13, 1):\n",
        "                      nl_results = rand_poly(\n",
        "                      [\n",
        "                          image[0, j - 1, k - 1].item(),\n",
        "                          image[0, j - 1, k].item(),\n",
        "                          image[0, j - 1, k + 1].item(),\n",
        "                          image[0, j, k - 1].item(),\n",
        "                          image[0, j, k].item(),\n",
        "                          image[0, j, k + 1].item(),\n",
        "                          image[0, j + 1, k - 1].item(),\n",
        "                          image[0, j + 1, k].item(),\n",
        "                          image[0, j + 1, k + 1].item()\n",
        "                      ]\n",
        "                      )\n",
        "                      out[bat,0,j - 1, k - 1] = nl_results\n",
        "\n",
        "          if check_plot == 1:\n",
        "            pltsize = 1\n",
        "            plt.figure(figsize=(BATCH_SIZE * pltsize, n_channels * pltsize))\n",
        "            for i in range(BATCH_SIZE):\n",
        "              for j in range(0, n_channels, 3):\n",
        "                plt.subplot((n_channels+2)/3, BATCH_SIZE, i + j*BATCH_SIZE/3 + 1)\n",
        "                plt.axis('off')\n",
        "                plt.imshow(out[i, j, :, :].reshape(12, 12), cmap = \"gray_r\")\n",
        "\n",
        "        else:\n",
        "          out = torch.zeros((BATCH_SIZE,self.filters,14,14))\n",
        "          out = inputs\n",
        "        # print(out.size())\n",
        "        if use_cuda:\n",
        "          out = out.cuda()\n",
        "        if self.opt==True:\n",
        "          out = self.conv_opt(inputs)\n",
        "        \n",
        "        x = self.pool(F.relu(self.conv1(out)))\n",
        "\n",
        "        # print(x.size())\n",
        "        if check_plot == 1:\n",
        "          conv_image = x.cpu().detach().numpy()\n",
        "          pltsize = 1\n",
        "          plt.figure(figsize=(BATCH_SIZE * pltsize, n_channels * pltsize))\n",
        "          for i in range(BATCH_SIZE):\n",
        "            for j in range(0, n_channels, 3):\n",
        "              plt.subplot((n_channels+2)/3, BATCH_SIZE, i + j*BATCH_SIZE/3 + 1)\n",
        "              plt.axis('off')\n",
        "              plt.imshow(conv_image[i, j, :, :].reshape(6, 6), cmap = \"gray_r\")\n",
        "        \n",
        "        x = self.pool(F.relu(self.conv2(x)))\n",
        "\n",
        "        # print(x.size())\n",
        "        # if check_plot == 1:\n",
        "        #   conv_image = x.cpu().detach().numpy()\n",
        "        #   pltsize = 1\n",
        "        #   plt.figure(figsize=(BATCH_SIZE * pltsize, n_channels * pltsize))\n",
        "        #   for i in range(BATCH_SIZE):\n",
        "        #     for j in range(0, n_channels, 3):\n",
        "        #       plt.subplot((n_channels+2)/3, BATCH_SIZE, i + j*BATCH_SIZE/3 + 1)\n",
        "        #       plt.axis('off')\n",
        "        #       plt.imshow(conv_image[i, j, :, :].reshape(2, 2), cmap = \"gray_r\")\n",
        "\n",
        "        x = torch.flatten(x,1)\n",
        "        # print(x.size())\n",
        "        x = F.relu(self.fc1(x))\n",
        "        x = self.dropout(x)\n",
        "        x = F.softmax(self.fc2(x))\n",
        "        return x\n"
      ],
      "execution_count": null,
      "outputs": []
    },
    {
      "cell_type": "code",
      "metadata": {
        "colab": {
          "base_uri": "https://localhost:8080/"
        },
        "id": "KRtM2vqBUnZc",
        "outputId": "3018d7e2-a330-44b2-95a9-ad3eef3f61d1"
      },
      "source": [
        "from torchsummary import summary\n",
        "criterion = torch.nn.CrossEntropyLoss()\n",
        "# model = QuanvNet(qc=True, opt=False)\n",
        "model = NLNet(nl=False, opt=False)\n",
        "if use_cuda:\n",
        "    model.cuda()\n",
        "opt = optim.Adam(model.parameters(),lr=learning_rate)\n",
        "summary(model,(1,14,14))"
      ],
      "execution_count": null,
      "outputs": [
        {
          "output_type": "stream",
          "text": [
            "----------------------------------------------------------------\n",
            "        Layer (type)               Output Shape         Param #\n",
            "================================================================\n",
            "            Conv2d-1            [-1, 8, 12, 12]              80\n",
            "         MaxPool2d-2              [-1, 8, 6, 6]               0\n",
            "            Conv2d-3              [-1, 8, 4, 4]             584\n",
            "         MaxPool2d-4              [-1, 8, 2, 2]               0\n",
            "            Linear-5                   [-1, 16]             528\n",
            "           Dropout-6                   [-1, 16]               0\n",
            "            Linear-7                   [-1, 10]             170\n",
            "================================================================\n",
            "Total params: 1,362\n",
            "Trainable params: 1,362\n",
            "Non-trainable params: 0\n",
            "----------------------------------------------------------------\n",
            "Input size (MB): 0.00\n",
            "Forward/backward pass size (MB): 0.01\n",
            "Params size (MB): 0.01\n",
            "Estimated Total Size (MB): 0.02\n",
            "----------------------------------------------------------------\n"
          ],
          "name": "stdout"
        },
        {
          "output_type": "stream",
          "text": [
            "/usr/local/lib/python3.7/dist-packages/torch/nn/functional.py:718: UserWarning: Named tensors and all their associated APIs are an experimental feature and subject to change. Please do not use them for anything important until they are released as stable. (Triggered internally at  /pytorch/c10/core/TensorImpl.h:1156.)\n",
            "  return torch.max_pool2d(input, kernel_size, stride, padding, dilation, ceil_mode)\n",
            "/usr/local/lib/python3.7/dist-packages/ipykernel_launcher.py:85: UserWarning: Implicit dimension choice for softmax has been deprecated. Change the call to include dim=X as an argument.\n"
          ],
          "name": "stderr"
        }
      ]
    },
    {
      "cell_type": "code",
      "metadata": {
        "colab": {
          "base_uri": "https://localhost:8080/"
        },
        "id": "anJ-e0o1Uqzx",
        "outputId": "f05c7349-f629-4a73-e4b8-424da65639b8"
      },
      "source": [
        "for p in model.parameters():\n",
        "    print(p.shape)"
      ],
      "execution_count": null,
      "outputs": [
        {
          "output_type": "stream",
          "text": [
            "torch.Size([1, 1, 3, 3])\n",
            "torch.Size([1])\n",
            "torch.Size([8, 1, 3, 3])\n",
            "torch.Size([8])\n",
            "torch.Size([8, 8, 3, 3])\n",
            "torch.Size([8])\n",
            "torch.Size([16, 32])\n",
            "torch.Size([16])\n",
            "torch.Size([10, 16])\n",
            "torch.Size([10])\n"
          ],
          "name": "stdout"
        }
      ]
    },
    {
      "cell_type": "code",
      "metadata": {
        "colab": {
          "base_uri": "https://localhost:8080/"
        },
        "id": "AOYhpACtUsqV",
        "outputId": "c45473db-7464-49bb-c2b0-a19518fd3316"
      },
      "source": [
        "losses = []\n",
        "accs = []\n",
        "check_plot = 0\n",
        "\n",
        "for epoch in range(n_epochs):\n",
        "  train_loss = 0\n",
        "  acc = 0  \n",
        "  for (x_train, y_train) in train_loader:\n",
        "\n",
        "    if check_plot == 1:\n",
        "      pltsize = 1\n",
        "      plt.figure(figsize=(BATCH_SIZE * pltsize, pltsize))\n",
        "      for i in range(BATCH_SIZE):\n",
        "        plt.subplot(1, BATCH_SIZE, i + 1)\n",
        "        plt.axis('off')\n",
        "        plt.imshow(x_train[i, :, :, :].numpy().reshape(14, 14), cmap = \"gray_r\")\n",
        "        plt.title('Class: ' + str(y_train[i].item()))\n",
        "      check_plot = 0\n",
        "\n",
        "    # print(y_train)\n",
        "    opt.zero_grad()\n",
        "    outputs = model(x_train.cuda() if use_cuda else x_train)\n",
        "    _, preds = torch.max(outputs,1)\n",
        "    acc += (preds==(y_train.cuda() if use_cuda else y_train)).sum().item()\n",
        "    loss = criterion(outputs,(y_train.cuda() if use_cuda else y_train))\n",
        "    loss.backward()\n",
        "    opt.step()\n",
        "    train_loss += loss\n",
        "    del loss\n",
        "  \n",
        "  acc /= n_train\n",
        "  train_loss /= (n_train/BATCH_SIZE)\n",
        "\n",
        "  losses.append(train_loss.item())\n",
        "  accs.append(acc)\n",
        "  print(f'epoch: {epoch+1}, acc: {acc}, loss: {train_loss}')\n",
        "  \n",
        "  del acc"
      ],
      "execution_count": null,
      "outputs": [
        {
          "output_type": "stream",
          "text": [
            "/usr/local/lib/python3.7/dist-packages/ipykernel_launcher.py:85: UserWarning: Implicit dimension choice for softmax has been deprecated. Change the call to include dim=X as an argument.\n"
          ],
          "name": "stderr"
        },
        {
          "output_type": "stream",
          "text": [
            "epoch: 1, acc: 0.08, loss: 2.302966833114624\n",
            "epoch: 2, acc: 0.12, loss: 2.3014132976531982\n",
            "epoch: 3, acc: 0.12, loss: 2.301410675048828\n",
            "epoch: 4, acc: 0.2, loss: 2.295151710510254\n",
            "epoch: 5, acc: 0.16, loss: 2.2946341037750244\n",
            "epoch: 6, acc: 0.14, loss: 2.284162998199463\n",
            "epoch: 7, acc: 0.14, loss: 2.287062168121338\n",
            "epoch: 8, acc: 0.18, loss: 2.284790515899658\n",
            "epoch: 9, acc: 0.18, loss: 2.2738099098205566\n",
            "epoch: 10, acc: 0.1, loss: 2.2949254512786865\n",
            "epoch: 11, acc: 0.18, loss: 2.276005983352661\n",
            "epoch: 12, acc: 0.16, loss: 2.265774965286255\n",
            "epoch: 13, acc: 0.28, loss: 2.2250771522521973\n",
            "epoch: 14, acc: 0.24, loss: 2.209808588027954\n",
            "epoch: 15, acc: 0.12, loss: 2.258582592010498\n",
            "epoch: 16, acc: 0.24, loss: 2.207066535949707\n",
            "epoch: 17, acc: 0.24, loss: 2.190293073654175\n",
            "epoch: 18, acc: 0.28, loss: 2.1765859127044678\n",
            "epoch: 19, acc: 0.24, loss: 2.2128703594207764\n",
            "epoch: 20, acc: 0.24, loss: 2.170488119125366\n",
            "epoch: 21, acc: 0.28, loss: 2.1691956520080566\n",
            "epoch: 22, acc: 0.26, loss: 2.1562423706054688\n",
            "epoch: 23, acc: 0.26, loss: 2.172748327255249\n",
            "epoch: 24, acc: 0.28, loss: 2.164987087249756\n",
            "epoch: 25, acc: 0.28, loss: 2.1444499492645264\n",
            "epoch: 26, acc: 0.26, loss: 2.1577467918395996\n",
            "epoch: 27, acc: 0.32, loss: 2.136420488357544\n",
            "epoch: 28, acc: 0.3, loss: 2.119264602661133\n",
            "epoch: 29, acc: 0.28, loss: 2.115628242492676\n",
            "epoch: 30, acc: 0.3, loss: 2.119476079940796\n"
          ],
          "name": "stdout"
        }
      ]
    },
    {
      "cell_type": "code",
      "metadata": {
        "id": "1k4YyJyRRdu1"
      },
      "source": [
        "file_name = 'cnn_100_1280_5.pkl'\n",
        "file = pd.DataFrame(data={'train_loss': losses,\n",
        "                          'train_acc': accs})\n",
        "file.to_pickle(file_name)"
      ],
      "execution_count": null,
      "outputs": []
    },
    {
      "cell_type": "code",
      "metadata": {
        "id": "8nBEyzu2zWDW"
      },
      "source": [
        "cnn_data = pd.read_pickle('cnn_100_1280_5.pkl')\n",
        "nlcnn_data = pd.read_pickle('nl-cnn_100_1280_5.pkl')"
      ],
      "execution_count": null,
      "outputs": []
    },
    {
      "cell_type": "code",
      "metadata": {
        "id": "507ajPGfUxF5",
        "colab": {
          "base_uri": "https://localhost:8080/",
          "height": 629
        },
        "outputId": "92260be3-ff02-4fa1-9b54-1b88311edcc1"
      },
      "source": [
        "plt.figure(3, figsize=(8,4.5))\n",
        "plt.plot(cnn_data['train_acc'], label=\"CNN\", linestyle='--')\n",
        "plt.plot(nlcnn_data['train_acc'], label=\"NL-CNN\", linestyle='--')\n",
        "plt.legend()\n",
        "plt.title('UN Dist. #F = 25')\n",
        "# plt.xlim(0, 100)\n",
        "# plt.xticks([0, 20, 40, 60, 80, 100],[0, 2000, 4000, 6000, 8000, 10000])\n",
        "plt.ylim(0, 1)\n",
        "plt.xlabel(\"Training iterations [1]\")\n",
        "plt.ylabel(\"test accuracy [1]\")\n",
        "\n",
        "plt.figure(4, figsize=(8,4.5))\n",
        "plt.plot(cnn_data['train_loss'][1:], label=\"CNN\", linestyle='--')\n",
        "plt.plot(nlcnn_data['train_loss'][1:], label=\"NL-CNN\", linestyle='--')\n",
        "plt.legend()\n",
        "plt.title('UN Dist. #F = 25')\n",
        "# plt.xlim(0, 100)\n",
        "# plt.xticks([0, 20, 40, 60, 80, 100],[0, 2000, 4000, 6000, 8000, 10000])\n",
        "# plt.ylim(0, 1)\n",
        "plt.xlabel(\"Training iterations [1]\")\n",
        "plt.ylabel(\"Cross entropy loss (training) [1]\")\n",
        "plt.show()"
      ],
      "execution_count": null,
      "outputs": [
        {
          "output_type": "display_data",
          "data": {
            "image/png": "[encoded data removed]",
            "text/plain": [
              "<Figure size 576x324 with 1 Axes>"
            ]
          },
          "metadata": {
            "tags": [],
            "needs_background": "light"
          }
        },
        {
          "output_type": "display_data",
          "data": {
            "image/png": "[encoded data removed]",
            "text/plain": [
              "<Figure size 576x324 with 1 Axes>"
            ]
          },
          "metadata": {
            "tags": [],
            "needs_background": "light"
          }
        }
      ]
    },
    {
      "cell_type": "code",
      "metadata": {
        "colab": {
          "base_uri": "https://localhost:8080/",
          "height": 253
        },
        "id": "gPQ1_dq8NhC4",
        "outputId": "06620187-38f0-4e54-b77a-67bc14eceff9"
      },
      "source": [
        "for (x_test, y_test) in test_loader:\n",
        "  break\n",
        "\n",
        "check_plot = 1\n",
        "\n",
        "if check_plot == 1:\n",
        "  pltsize = 1\n",
        "  plt.figure(figsize=(BATCH_SIZE * pltsize, pltsize))\n",
        "  for i in range(BATCH_SIZE):\n",
        "    plt.subplot(1, BATCH_SIZE, i + 1)\n",
        "    plt.axis('off')\n",
        "    plt.imshow(x_test[i, :, :, :].numpy().reshape(14, 14), cmap = \"gray_r\")\n",
        "    plt.title('Class: ' + str(y_test[i].item()))\n",
        "\n",
        "outputs = model(x_test.cuda() if use_cuda else x_test, check_plot=1)"
      ],
      "execution_count": null,
      "outputs": [
        {
          "output_type": "stream",
          "text": [
            "/usr/local/lib/python3.7/dist-packages/ipykernel_launcher.py:85: UserWarning: Implicit dimension choice for softmax has been deprecated. Change the call to include dim=X as an argument.\n"
          ],
          "name": "stderr"
        },
        {
          "output_type": "display_data",
          "data": {
            "image/png": "[encoded data removed]",
            "text/plain": [
              "<Figure size 1152x72 with 16 Axes>"
            ]
          },
          "metadata": {
            "tags": [],
            "needs_background": "light"
          }
        },
        {
          "output_type": "display_data",
          "data": {
            "image/png": "[encoded data removed]",
            "text/plain": [
              "<Figure size 1152x72 with 16 Axes>"
            ]
          },
          "metadata": {
            "tags": [],
            "needs_background": "light"
          }
        },
        {
          "output_type": "display_data",
          "data": {
            "image/png": "[encoded data removed]",
            "text/plain": [
              "<Figure size 1152x72 with 16 Axes>"
            ]
          },
          "metadata": {
            "tags": [],
            "needs_background": "light"
          }
        }
      ]
    },
    {
      "cell_type": "code",
      "metadata": {
        "id": "Hy_Dsq6qvIsI"
      },
      "source": [
        ""
      ],
      "execution_count": null,
      "outputs": []
    }
  ]
}