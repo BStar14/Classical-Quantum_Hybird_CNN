{
  "nbformat": 4,
  "nbformat_minor": 0,
  "metadata": {
    "colab": {
      "name": "jade_cnn_test.ipynb",
      "provenance": [],
      "collapsed_sections": [],
      "authorship_tag": "ABX9TyMucRDlSoLLtewlN21fuu9R",
      "include_colab_link": true
    },
    "kernelspec": {
      "name": "python3",
      "display_name": "Python 3"
    },
    "language_info": {
      "name": "python"
    }
  },
  "cells": [
    {
      "cell_type": "markdown",
      "metadata": {
        "id": "view-in-github",
        "colab_type": "text"
      },
      "source": [
        "<a href=\"https://colab.research.google.com/github/JadeKim/Quanvolution-lab/blob/main/jade_cnn_test.ipynb\" target=\"_parent\"><img src=\"https://colab.research.google.com/assets/colab-badge.svg\" alt=\"Open In Colab\"/></a>"
      ]
    },
    {
      "cell_type": "code",
      "metadata": {
        "id": "kvwcnqL6P02g"
      },
      "source": [
        "import matplotlib.pyplot as plt\n",
        "\n",
        "import torch \n",
        "import torch.nn as nn # basic neural network\n",
        "import torch.nn.functional as F # Convolutional functions\n",
        "import torch.optim as optim # optimizers\n",
        "from torchvision import datasets, transforms # image datasets, image transformations"
      ],
      "execution_count": null,
      "outputs": []
    },
    {
      "cell_type": "code",
      "metadata": {
        "colab": {
          "base_uri": "https://localhost:8080/"
        },
        "id": "JmYfRTNETTjN",
        "outputId": "25a6fedc-7445-4c2e-eacf-1394c4d3c46e"
      },
      "source": [
        "torch.cuda.is_available()"
      ],
      "execution_count": null,
      "outputs": [
        {
          "output_type": "execute_result",
          "data": {
            "text/plain": [
              "False"
            ]
          },
          "metadata": {
            "tags": []
          },
          "execution_count": 2
        }
      ]
    },
    {
      "cell_type": "code",
      "metadata": {
        "id": "grfAnq7tQFbR"
      },
      "source": [
        "trn_dataset = datasets.MNIST('../mnist_data/',\n",
        "                             download=True,\n",
        "                             train=True,\n",
        "                             transform=transforms.Compose([\n",
        "                                 transforms.ToTensor(), # image to Tensor\n",
        "                                 transforms.Normalize((0.1307,), (0.3081,)) # mean, std of MNIST.\n",
        "                             ])) \n",
        "\n",
        "val_dataset = datasets.MNIST(\"../mnist_data/\", \n",
        "                             download=False,\n",
        "                             train=False,\n",
        "                             transform= transforms.Compose([\n",
        "                               transforms.ToTensor(),\n",
        "                               transforms.Normalize((0.1307, ),(0.3081, ))\n",
        "                           ]))"
      ],
      "execution_count": null,
      "outputs": []
    },
    {
      "cell_type": "code",
      "metadata": {
        "colab": {
          "base_uri": "https://localhost:8080/"
        },
        "id": "1dmEHvAKX5_1",
        "outputId": "2a90ff75-020d-4405-c03b-189b011b5a81"
      },
      "source": [
        "print(type(trn_dataset))\n",
        "print(len(trn_dataset))\n",
        "print(len(val_dataset))\n",
        "print(len(trn_dataset[0][0][0][0]))\n"
      ],
      "execution_count": null,
      "outputs": [
        {
          "output_type": "stream",
          "text": [
            "<class 'torchvision.datasets.mnist.MNIST'>\n",
            "60000\n",
            "10000\n",
            "28\n"
          ],
          "name": "stdout"
        }
      ]
    },
    {
      "cell_type": "code",
      "metadata": {
        "id": "pmP_q_VxQJxK"
      },
      "source": [
        "# Batch iterator\n",
        "batch_size = 6\n",
        "trn_loader = torch.utils.data.DataLoader(trn_dataset,\n",
        "                                         batch_size=batch_size,\n",
        "                                         shuffle=True)\n",
        "\n",
        "val_loader = torch.utils.data.DataLoader(val_dataset,\n",
        "                                         batch_size=batch_size,\n",
        "                                         shuffle=True)"
      ],
      "execution_count": null,
      "outputs": []
    },
    {
      "cell_type": "code",
      "metadata": {
        "colab": {
          "base_uri": "https://localhost:8080/"
        },
        "id": "jD0wnNkS7sc_",
        "outputId": "6a368bf3-e578-432b-f9d6-17b08e147f35"
      },
      "source": [
        "input = torch.Tensor(1, 1, 28, 28)\n",
        "conv1 = nn.Conv2d(in_channels=1, out_channels=50, kernel_size=5) # 50@24*24\n",
        "# activation ReLU\n",
        "pool1 = nn.MaxPool2d(2) # 50@12*12\n",
        "conv2 = nn.Conv2d(in_channels=50, out_channels=64, kernel_size=5) # 64@8*8\n",
        "# activation ReLU\n",
        "pool2 = nn.MaxPool2d(2) # 64@4*4\n",
        "output = pool2(conv2(pool1(conv1(input))))\n",
        "fc1 = output.view(output.size(0), -1)\n",
        "do = nn.Dropout(p=0.4)\n",
        "fc2 = nn.Linear(1024, 10)\n",
        "print(conv1(input).shape)\n",
        "print(pool1(conv1(input)).shape)\n",
        "print(conv2(pool1(conv1(input))).shape)\n",
        "print(output.shape)\n",
        "print(fc1.shape)\n",
        "print(do(fc1).shape)\n",
        "print(fc2(do(fc1)).shape)\n",
        "\n",
        "# Result:\n",
        "# torch.Size([1, 50, 24, 24])\n",
        "# torch.Size([1, 50, 12, 12])\n",
        "# torch.Size([1, 64, 8, 8])\n",
        "# torch.Size([1, 64, 4, 4])\n",
        "# torch.Size([1, 1024])\n",
        "# torch.Size([1, 1024])\n",
        "# torch.Size([1, 10])"
      ],
      "execution_count": null,
      "outputs": [
        {
          "output_type": "stream",
          "text": [
            "torch.Size([1, 50, 24, 24])\n",
            "torch.Size([1, 50, 12, 12])\n",
            "torch.Size([1, 64, 8, 8])\n",
            "torch.Size([1, 64, 4, 4])\n",
            "torch.Size([1, 1024])\n",
            "torch.Size([1, 1024])\n",
            "torch.Size([1, 10])\n"
          ],
          "name": "stdout"
        }
      ]
    },
    {
      "cell_type": "code",
      "metadata": {
        "id": "vV5Nea87RUfs"
      },
      "source": [
        "# construct model on cuda if available\n",
        "use_cuda = torch.cuda.is_available()\n",
        "\n",
        "class CNNClassifier(nn.Module):\n",
        "    \n",
        "    def __init__(self, model='cnn'):\n",
        "        super(CNNClassifier, self).__init__()\n",
        "        \n",
        "        if model == 'random':\n",
        "            self.conv_module = nn.Sequential(\n",
        "                nn.Conv2d(in_channels=1, out_channels=50, kernel_size=5), # 50@24*24\n",
        "                nn.Sigmoid(),\n",
        "                nn.MaxPool2d(2), # 50@12*12\n",
        "                nn.Conv2d(in_channels=50, out_channels=64, kernel_size=5), # 64@8*8\n",
        "                nn.ReLU(),\n",
        "                nn.MaxPool2d(2) # 64@4*4\n",
        "            )\n",
        "        else:\n",
        "            self.conv_module = nn.Sequential(\n",
        "                nn.Conv2d(in_channels=1, out_channels=50, kernel_size=5), # 50@24*24\n",
        "                nn.ReLU(),\n",
        "                nn.MaxPool2d(2), # 50@12*12\n",
        "                nn.Conv2d(in_channels=50, out_channels=64, kernel_size=5), # 64@8*8\n",
        "                nn.ReLU(),\n",
        "                nn.MaxPool2d(2) # 64@4*4\n",
        "            )\n",
        "\n",
        "        self.fc_module = nn.Sequential(\n",
        "            nn.Dropout(p=0.4),\n",
        "            nn.ReLU(),\n",
        "            nn.Linear(1024, 10)\n",
        "        )\n",
        "        \n",
        "        # cuda\n",
        "        if use_cuda:\n",
        "            self.conv_module = self.conv_module.cuda()\n",
        "            self.fc_module = self.fc_module.cuda()\n",
        "        \n",
        "    def forward(self, x):\n",
        "        out = self.conv_module(x) \n",
        "        # 64@4*4\n",
        "        out = out.view(out.size(0), -1) # 1*1024\n",
        "        out = self.fc_module(out)\n",
        "        return F.softmax(out, dim=1)"
      ],
      "execution_count": null,
      "outputs": []
    },
    {
      "cell_type": "code",
      "metadata": {
        "colab": {
          "base_uri": "https://localhost:8080/"
        },
        "id": "hxgBSM4dR69_",
        "outputId": "7dbc9637-094a-4d4c-8085-0525c8264189"
      },
      "source": [
        "cnn = CNNClassifier()\n",
        "random = CNNClassifier('random')\n",
        "print(cnn)\n",
        "print(random)"
      ],
      "execution_count": null,
      "outputs": [
        {
          "output_type": "stream",
          "text": [
            "CNNClassifier(\n",
            "  (conv_module): Sequential(\n",
            "    (0): Conv2d(1, 50, kernel_size=(5, 5), stride=(1, 1))\n",
            "    (1): ReLU()\n",
            "    (2): MaxPool2d(kernel_size=2, stride=2, padding=0, dilation=1, ceil_mode=False)\n",
            "    (3): Conv2d(50, 64, kernel_size=(5, 5), stride=(1, 1))\n",
            "    (4): ReLU()\n",
            "    (5): MaxPool2d(kernel_size=2, stride=2, padding=0, dilation=1, ceil_mode=False)\n",
            "  )\n",
            "  (fc_module): Sequential(\n",
            "    (0): Dropout(p=0.4, inplace=False)\n",
            "    (1): ReLU()\n",
            "    (2): Linear(in_features=1024, out_features=10, bias=True)\n",
            "  )\n",
            ")\n",
            "CNNClassifier(\n",
            "  (conv_module): Sequential(\n",
            "    (0): Conv2d(1, 50, kernel_size=(5, 5), stride=(1, 1))\n",
            "    (1): Sigmoid()\n",
            "    (2): MaxPool2d(kernel_size=2, stride=2, padding=0, dilation=1, ceil_mode=False)\n",
            "    (3): Conv2d(50, 64, kernel_size=(5, 5), stride=(1, 1))\n",
            "    (4): ReLU()\n",
            "    (5): MaxPool2d(kernel_size=2, stride=2, padding=0, dilation=1, ceil_mode=False)\n",
            "  )\n",
            "  (fc_module): Sequential(\n",
            "    (0): Dropout(p=0.4, inplace=False)\n",
            "    (1): ReLU()\n",
            "    (2): Linear(in_features=1024, out_features=10, bias=True)\n",
            "  )\n",
            ")\n"
          ],
          "name": "stdout"
        }
      ]
    },
    {
      "cell_type": "code",
      "metadata": {
        "colab": {
          "base_uri": "https://localhost:8080/"
        },
        "id": "lWnYxg4kRfta",
        "outputId": "5a7f008a-cb6b-4731-9ffc-94f59c4118fe"
      },
      "source": [
        "# loss\n",
        "criterion = nn.CrossEntropyLoss()\n",
        "# backpropagation method\n",
        "learning_rate = 1e-3\n",
        "optimizer = optim.Adam(cnn.parameters(), lr=learning_rate)\n",
        "optimizer_r = optim.Adam(random.parameters(), lr=learning_rate)\n",
        "# hyper-parameters\n",
        "num_epochs = 1\n",
        "num_batches = len(trn_loader)\n",
        "\n",
        "trn_loss_list = []\n",
        "val_loss_list = []\n",
        "acc_list = []\n",
        "for epoch in range(num_epochs):\n",
        "    trn_loss = 0.0\n",
        "    correct = 0.0\n",
        "    for i, data in enumerate(trn_loader):\n",
        "        x, label = data\n",
        "        if use_cuda:\n",
        "            x = x.cuda()\n",
        "            label = label.cuda()\n",
        "        # grad init\n",
        "        optimizer.zero_grad()\n",
        "        # forward propagation\n",
        "        model_output = cnn(x)\n",
        "        _, predicted = torch.max(model_output.data, 1)\n",
        "        # calculate loss\n",
        "        loss = criterion(model_output, label)\n",
        "        # back propagation \n",
        "        loss.backward()\n",
        "        # weight update\n",
        "        optimizer.step()\n",
        "        \n",
        "        # trn_loss summary\n",
        "        trn_loss += loss.item()\n",
        "        correct += (predicted == label).float().sum()/batch_size\n",
        "\n",
        "        # del (memory issue)\n",
        "        del loss\n",
        "        del model_output\n",
        "        \n",
        "        if (i+1) % 100 == 0:\n",
        "            with torch.no_grad():\n",
        "                val_loss = 0.0\n",
        "                for j, val in enumerate(val_loader):\n",
        "                    val_x, val_label = val\n",
        "                    if use_cuda:\n",
        "                        val_x = val_x.cuda()\n",
        "                        val_label =val_label.cuda()\n",
        "                    val_output = cnn(val_x)\n",
        "                    v_loss = criterion(val_output, val_label)\n",
        "                    val_loss += v_loss\n",
        "                       \n",
        "            print(\"epoch: {}/{} | step: {}/{} | trn loss: {:.4f} | val loss: {:.4f} | trn acc: {:.4f}\".format(\n",
        "                epoch+1, num_epochs, i+1, num_batches, trn_loss / 100, val_loss / len(val_loader), correct / (i+1)\n",
        "            ))            \n",
        "            \n",
        "            trn_loss_list.append(trn_loss/100)\n",
        "            val_loss_list.append(val_loss/len(val_loader))\n",
        "            acc_list.append(correct / (i+1))\n",
        "            trn_loss = 0.0\n",
        "print()\n",
        "trn_loss_list_r = []\n",
        "val_loss_list_r = []\n",
        "acc_list_r = []\n",
        "for epoch in range(num_epochs):\n",
        "    trn_loss = 0.0\n",
        "    correct = 0.0\n",
        "    for i, data in enumerate(trn_loader):\n",
        "        x, label = data\n",
        "        if use_cuda:\n",
        "            x = x.cuda()\n",
        "            label = label.cuda()\n",
        "        # grad init\n",
        "        optimizer_r.zero_grad()\n",
        "        # forward propagation\n",
        "        model_output = random(x)\n",
        "        _, predicted = torch.max(model_output.data, 1)\n",
        "        # calculate loss\n",
        "        loss = criterion(model_output, label)\n",
        "        # back propagation \n",
        "        loss.backward()\n",
        "        # weight update\n",
        "        optimizer_r.step()\n",
        "        \n",
        "        # trn_loss summary\n",
        "        trn_loss += loss.item()\n",
        "        correct += (predicted == label).float().sum()/batch_size\n",
        "\n",
        "        # del (memory issue)\n",
        "        del loss\n",
        "        del model_output\n",
        "        \n",
        "        if (i+1) % 100 == 0:\n",
        "            with torch.no_grad():\n",
        "                val_loss = 0.0\n",
        "                for j, val in enumerate(val_loader):\n",
        "                    val_x, val_label = val\n",
        "                    if use_cuda:\n",
        "                        val_x = val_x.cuda()\n",
        "                        val_label =val_label.cuda()\n",
        "                    val_output = random(val_x)\n",
        "                    v_loss = criterion(val_output, val_label)\n",
        "                    val_loss += v_loss\n",
        "                       \n",
        "            print(\"epoch: {}/{} | step: {}/{} | trn loss: {:.4f} | val loss: {:.4f} | trn acc: {:.4f}\".format(\n",
        "                epoch+1, num_epochs, i+1, num_batches, trn_loss / 100, val_loss / len(val_loader), correct / (i+1)\n",
        "            ))            \n",
        "            \n",
        "            trn_loss_list_r.append(trn_loss/100)\n",
        "            val_loss_list_r.append(val_loss/len(val_loader))\n",
        "            acc_list_r.append(correct / (i+1))\n",
        "            trn_loss = 0.0"
      ],
      "execution_count": null,
      "outputs": [
        {
          "output_type": "stream",
          "text": [
            "epoch: 1/1 | step: 100/10000 | trn loss: 2.0933 | val loss: 1.8657 | trn acc: 0.3733\n",
            "epoch: 1/1 | step: 200/10000 | trn loss: 1.7949 | val loss: 1.7931 | trn acc: 0.5200\n",
            "epoch: 1/1 | step: 300/10000 | trn loss: 1.7229 | val loss: 1.6664 | trn acc: 0.5939\n",
            "epoch: 1/1 | step: 400/10000 | trn loss: 1.6731 | val loss: 1.6347 | trn acc: 0.6429\n",
            "epoch: 1/1 | step: 500/10000 | trn loss: 1.6441 | val loss: 1.6305 | trn acc: 0.6773\n",
            "epoch: 1/1 | step: 600/10000 | trn loss: 1.6148 | val loss: 1.6225 | trn acc: 0.7067\n",
            "epoch: 1/1 | step: 700/10000 | trn loss: 1.6380 | val loss: 1.6197 | trn acc: 0.7236\n",
            "epoch: 1/1 | step: 800/10000 | trn loss: 1.6050 | val loss: 1.6324 | trn acc: 0.7400\n",
            "epoch: 1/1 | step: 900/10000 | trn loss: 1.6257 | val loss: 1.5765 | trn acc: 0.7504\n",
            "epoch: 1/1 | step: 1000/10000 | trn loss: 1.5472 | val loss: 1.5420 | trn acc: 0.7668\n",
            "epoch: 1/1 | step: 1100/10000 | trn loss: 1.5628 | val loss: 1.5265 | trn acc: 0.7792\n",
            "epoch: 1/1 | step: 1200/10000 | trn loss: 1.5431 | val loss: 1.5364 | trn acc: 0.7914\n",
            "epoch: 1/1 | step: 1300/10000 | trn loss: 1.5461 | val loss: 1.5387 | trn acc: 0.8014\n",
            "epoch: 1/1 | step: 1400/10000 | trn loss: 1.5544 | val loss: 1.5275 | trn acc: 0.8095\n",
            "epoch: 1/1 | step: 1500/10000 | trn loss: 1.5455 | val loss: 1.5295 | trn acc: 0.8170\n",
            "epoch: 1/1 | step: 1600/10000 | trn loss: 1.5386 | val loss: 1.5230 | trn acc: 0.8240\n",
            "epoch: 1/1 | step: 1700/10000 | trn loss: 1.5217 | val loss: 1.5216 | trn acc: 0.8308\n",
            "epoch: 1/1 | step: 1800/10000 | trn loss: 1.5290 | val loss: 1.5202 | trn acc: 0.8364\n",
            "epoch: 1/1 | step: 1900/10000 | trn loss: 1.5426 | val loss: 1.5267 | trn acc: 0.8407\n",
            "epoch: 1/1 | step: 2000/10000 | trn loss: 1.5353 | val loss: 1.5263 | trn acc: 0.8452\n",
            "epoch: 1/1 | step: 2100/10000 | trn loss: 1.5405 | val loss: 1.5171 | trn acc: 0.8487\n",
            "epoch: 1/1 | step: 2200/10000 | trn loss: 1.5121 | val loss: 1.5107 | trn acc: 0.8534\n",
            "epoch: 1/1 | step: 2300/10000 | trn loss: 1.5151 | val loss: 1.5205 | trn acc: 0.8575\n",
            "epoch: 1/1 | step: 2400/10000 | trn loss: 1.5175 | val loss: 1.5123 | trn acc: 0.8613\n",
            "epoch: 1/1 | step: 2500/10000 | trn loss: 1.5049 | val loss: 1.5071 | trn acc: 0.8651\n",
            "epoch: 1/1 | step: 2600/10000 | trn loss: 1.5321 | val loss: 1.5163 | trn acc: 0.8676\n",
            "epoch: 1/1 | step: 2700/10000 | trn loss: 1.5074 | val loss: 1.5113 | trn acc: 0.8709\n",
            "epoch: 1/1 | step: 2800/10000 | trn loss: 1.5044 | val loss: 1.5074 | trn acc: 0.8740\n",
            "epoch: 1/1 | step: 2900/10000 | trn loss: 1.5087 | val loss: 1.5058 | trn acc: 0.8768\n",
            "epoch: 1/1 | step: 3000/10000 | trn loss: 1.5100 | val loss: 1.5038 | trn acc: 0.8792\n",
            "epoch: 1/1 | step: 3100/10000 | trn loss: 1.5084 | val loss: 1.5038 | trn acc: 0.8817\n",
            "epoch: 1/1 | step: 3200/10000 | trn loss: 1.5145 | val loss: 1.5060 | trn acc: 0.8836\n",
            "epoch: 1/1 | step: 3300/10000 | trn loss: 1.5146 | val loss: 1.5125 | trn acc: 0.8855\n",
            "epoch: 1/1 | step: 3400/10000 | trn loss: 1.5141 | val loss: 1.5051 | trn acc: 0.8873\n",
            "epoch: 1/1 | step: 3500/10000 | trn loss: 1.5279 | val loss: 1.5020 | trn acc: 0.8887\n",
            "epoch: 1/1 | step: 3600/10000 | trn loss: 1.5097 | val loss: 1.5040 | trn acc: 0.8904\n",
            "epoch: 1/1 | step: 3700/10000 | trn loss: 1.5110 | val loss: 1.5164 | trn acc: 0.8919\n",
            "epoch: 1/1 | step: 3800/10000 | trn loss: 1.5091 | val loss: 1.5116 | trn acc: 0.8936\n",
            "epoch: 1/1 | step: 3900/10000 | trn loss: 1.5069 | val loss: 1.5136 | trn acc: 0.8952\n",
            "epoch: 1/1 | step: 4000/10000 | trn loss: 1.5075 | val loss: 1.5082 | trn acc: 0.8968\n",
            "epoch: 1/1 | step: 4100/10000 | trn loss: 1.5067 | val loss: 1.5140 | trn acc: 0.8983\n",
            "epoch: 1/1 | step: 4200/10000 | trn loss: 1.5066 | val loss: 1.5107 | trn acc: 0.8996\n",
            "epoch: 1/1 | step: 4300/10000 | trn loss: 1.5153 | val loss: 1.5024 | trn acc: 0.9007\n",
            "epoch: 1/1 | step: 4400/10000 | trn loss: 1.4991 | val loss: 1.5051 | trn acc: 0.9021\n",
            "epoch: 1/1 | step: 4500/10000 | trn loss: 1.4975 | val loss: 1.5008 | trn acc: 0.9035\n",
            "epoch: 1/1 | step: 4600/10000 | trn loss: 1.5050 | val loss: 1.5001 | trn acc: 0.9047\n",
            "epoch: 1/1 | step: 4700/10000 | trn loss: 1.4983 | val loss: 1.5092 | trn acc: 0.9061\n",
            "epoch: 1/1 | step: 4800/10000 | trn loss: 1.5125 | val loss: 1.5032 | trn acc: 0.9069\n",
            "epoch: 1/1 | step: 4900/10000 | trn loss: 1.5102 | val loss: 1.5009 | trn acc: 0.9078\n",
            "epoch: 1/1 | step: 5000/10000 | trn loss: 1.5250 | val loss: 1.4979 | trn acc: 0.9084\n",
            "epoch: 1/1 | step: 5100/10000 | trn loss: 1.4987 | val loss: 1.4967 | trn acc: 0.9094\n",
            "epoch: 1/1 | step: 5200/10000 | trn loss: 1.5164 | val loss: 1.4966 | trn acc: 0.9101\n",
            "epoch: 1/1 | step: 5300/10000 | trn loss: 1.5027 | val loss: 1.4950 | trn acc: 0.9110\n",
            "epoch: 1/1 | step: 5400/10000 | trn loss: 1.5281 | val loss: 1.5023 | trn acc: 0.9115\n",
            "epoch: 1/1 | step: 5500/10000 | trn loss: 1.5089 | val loss: 1.5076 | trn acc: 0.9122\n",
            "epoch: 1/1 | step: 5600/10000 | trn loss: 1.4999 | val loss: 1.5053 | trn acc: 0.9132\n",
            "epoch: 1/1 | step: 5700/10000 | trn loss: 1.5025 | val loss: 1.5002 | trn acc: 0.9140\n",
            "epoch: 1/1 | step: 5800/10000 | trn loss: 1.4974 | val loss: 1.5035 | trn acc: 0.9148\n",
            "epoch: 1/1 | step: 5900/10000 | trn loss: 1.5120 | val loss: 1.5048 | trn acc: 0.9154\n",
            "epoch: 1/1 | step: 6000/10000 | trn loss: 1.5010 | val loss: 1.5050 | trn acc: 0.9161\n",
            "epoch: 1/1 | step: 6100/10000 | trn loss: 1.4989 | val loss: 1.4956 | trn acc: 0.9169\n",
            "epoch: 1/1 | step: 6200/10000 | trn loss: 1.5089 | val loss: 1.4983 | trn acc: 0.9175\n",
            "epoch: 1/1 | step: 6300/10000 | trn loss: 1.5043 | val loss: 1.4983 | trn acc: 0.9181\n",
            "epoch: 1/1 | step: 6400/10000 | trn loss: 1.5001 | val loss: 1.4983 | trn acc: 0.9188\n",
            "epoch: 1/1 | step: 6500/10000 | trn loss: 1.4956 | val loss: 1.5130 | trn acc: 0.9195\n",
            "epoch: 1/1 | step: 6600/10000 | trn loss: 1.5071 | val loss: 1.4987 | trn acc: 0.9200\n",
            "epoch: 1/1 | step: 6700/10000 | trn loss: 1.4894 | val loss: 1.4956 | trn acc: 0.9208\n",
            "epoch: 1/1 | step: 6800/10000 | trn loss: 1.4958 | val loss: 1.5014 | trn acc: 0.9215\n",
            "epoch: 1/1 | step: 6900/10000 | trn loss: 1.5111 | val loss: 1.4962 | trn acc: 0.9218\n",
            "epoch: 1/1 | step: 7000/10000 | trn loss: 1.5112 | val loss: 1.4975 | trn acc: 0.9222\n",
            "epoch: 1/1 | step: 7100/10000 | trn loss: 1.5084 | val loss: 1.5062 | trn acc: 0.9227\n",
            "epoch: 1/1 | step: 7200/10000 | trn loss: 1.5207 | val loss: 1.4993 | trn acc: 0.9229\n",
            "epoch: 1/1 | step: 7300/10000 | trn loss: 1.5212 | val loss: 1.4950 | trn acc: 0.9231\n",
            "epoch: 1/1 | step: 7400/10000 | trn loss: 1.5074 | val loss: 1.4959 | trn acc: 0.9236\n",
            "epoch: 1/1 | step: 7500/10000 | trn loss: 1.5091 | val loss: 1.5087 | trn acc: 0.9240\n",
            "epoch: 1/1 | step: 7600/10000 | trn loss: 1.5069 | val loss: 1.4951 | trn acc: 0.9244\n",
            "epoch: 1/1 | step: 7700/10000 | trn loss: 1.5126 | val loss: 1.5048 | trn acc: 0.9247\n",
            "epoch: 1/1 | step: 7800/10000 | trn loss: 1.4911 | val loss: 1.4953 | trn acc: 0.9253\n",
            "epoch: 1/1 | step: 7900/10000 | trn loss: 1.4979 | val loss: 1.4951 | trn acc: 0.9258\n",
            "epoch: 1/1 | step: 8000/10000 | trn loss: 1.4955 | val loss: 1.4987 | trn acc: 0.9263\n",
            "epoch: 1/1 | step: 8100/10000 | trn loss: 1.5019 | val loss: 1.4979 | trn acc: 0.9267\n",
            "epoch: 1/1 | step: 8200/10000 | trn loss: 1.5091 | val loss: 1.5016 | trn acc: 0.9271\n",
            "epoch: 1/1 | step: 8300/10000 | trn loss: 1.4824 | val loss: 1.4959 | trn acc: 0.9277\n",
            "epoch: 1/1 | step: 8400/10000 | trn loss: 1.4976 | val loss: 1.5129 | trn acc: 0.9281\n",
            "epoch: 1/1 | step: 8500/10000 | trn loss: 1.5023 | val loss: 1.4945 | trn acc: 0.9284\n",
            "epoch: 1/1 | step: 8600/10000 | trn loss: 1.4937 | val loss: 1.5043 | trn acc: 0.9289\n",
            "epoch: 1/1 | step: 8700/10000 | trn loss: 1.5313 | val loss: 1.5056 | trn acc: 0.9289\n",
            "epoch: 1/1 | step: 8800/10000 | trn loss: 1.5040 | val loss: 1.5190 | trn acc: 0.9292\n",
            "epoch: 1/1 | step: 8900/10000 | trn loss: 1.5145 | val loss: 1.5005 | trn acc: 0.9294\n",
            "epoch: 1/1 | step: 9000/10000 | trn loss: 1.4950 | val loss: 1.4987 | trn acc: 0.9298\n",
            "epoch: 1/1 | step: 9100/10000 | trn loss: 1.5003 | val loss: 1.5007 | trn acc: 0.9301\n",
            "epoch: 1/1 | step: 9200/10000 | trn loss: 1.5031 | val loss: 1.4945 | trn acc: 0.9304\n",
            "epoch: 1/1 | step: 9300/10000 | trn loss: 1.4984 | val loss: 1.4904 | trn acc: 0.9308\n",
            "epoch: 1/1 | step: 9400/10000 | trn loss: 1.5013 | val loss: 1.5003 | trn acc: 0.9310\n",
            "epoch: 1/1 | step: 9500/10000 | trn loss: 1.5128 | val loss: 1.4975 | trn acc: 0.9312\n",
            "epoch: 1/1 | step: 9600/10000 | trn loss: 1.5073 | val loss: 1.4902 | trn acc: 0.9315\n",
            "epoch: 1/1 | step: 9700/10000 | trn loss: 1.5039 | val loss: 1.5002 | trn acc: 0.9317\n",
            "epoch: 1/1 | step: 9800/10000 | trn loss: 1.5113 | val loss: 1.4933 | trn acc: 0.9319\n",
            "epoch: 1/1 | step: 9900/10000 | trn loss: 1.5072 | val loss: 1.4895 | trn acc: 0.9321\n",
            "epoch: 1/1 | step: 10000/10000 | trn loss: 1.4938 | val loss: 1.5132 | trn acc: 0.9325\n",
            "\n",
            "epoch: 1/1 | step: 100/10000 | trn loss: 2.3075 | val loss: 2.3005 | trn acc: 0.1067\n",
            "epoch: 1/1 | step: 200/10000 | trn loss: 2.3027 | val loss: 2.3007 | trn acc: 0.1117\n",
            "epoch: 1/1 | step: 300/10000 | trn loss: 2.2998 | val loss: 2.2993 | trn acc: 0.1222\n",
            "epoch: 1/1 | step: 400/10000 | trn loss: 2.2806 | val loss: 2.2487 | trn acc: 0.1313\n",
            "epoch: 1/1 | step: 500/10000 | trn loss: 2.2129 | val loss: 2.1556 | trn acc: 0.1517\n",
            "epoch: 1/1 | step: 600/10000 | trn loss: 2.1420 | val loss: 2.0452 | trn acc: 0.1814\n",
            "epoch: 1/1 | step: 700/10000 | trn loss: 2.0475 | val loss: 1.9799 | trn acc: 0.2167\n",
            "epoch: 1/1 | step: 800/10000 | trn loss: 1.9734 | val loss: 1.9483 | trn acc: 0.2527\n",
            "epoch: 1/1 | step: 900/10000 | trn loss: 1.9017 | val loss: 1.9013 | trn acc: 0.2885\n",
            "epoch: 1/1 | step: 1000/10000 | trn loss: 1.9155 | val loss: 1.8778 | trn acc: 0.3145\n",
            "epoch: 1/1 | step: 1100/10000 | trn loss: 1.8754 | val loss: 1.8822 | trn acc: 0.3406\n",
            "epoch: 1/1 | step: 1200/10000 | trn loss: 1.8804 | val loss: 1.8454 | trn acc: 0.3619\n",
            "epoch: 1/1 | step: 1300/10000 | trn loss: 1.8493 | val loss: 1.8372 | trn acc: 0.3823\n",
            "epoch: 1/1 | step: 1400/10000 | trn loss: 1.8601 | val loss: 1.8317 | trn acc: 0.3990\n",
            "epoch: 1/1 | step: 1500/10000 | trn loss: 1.8268 | val loss: 1.8167 | trn acc: 0.4147\n",
            "epoch: 1/1 | step: 1600/10000 | trn loss: 1.7925 | val loss: 1.8127 | trn acc: 0.4303\n",
            "epoch: 1/1 | step: 1700/10000 | trn loss: 1.8071 | val loss: 1.8085 | trn acc: 0.4442\n",
            "epoch: 1/1 | step: 1800/10000 | trn loss: 1.8055 | val loss: 1.7963 | trn acc: 0.4563\n",
            "epoch: 1/1 | step: 1900/10000 | trn loss: 1.7964 | val loss: 1.7900 | trn acc: 0.4683\n",
            "epoch: 1/1 | step: 2000/10000 | trn loss: 1.7968 | val loss: 1.7734 | trn acc: 0.4790\n",
            "epoch: 1/1 | step: 2100/10000 | trn loss: 1.7971 | val loss: 1.7815 | trn acc: 0.4883\n",
            "epoch: 1/1 | step: 2200/10000 | trn loss: 1.7944 | val loss: 1.7676 | trn acc: 0.4970\n",
            "epoch: 1/1 | step: 2300/10000 | trn loss: 1.7878 | val loss: 1.7788 | trn acc: 0.5053\n",
            "epoch: 1/1 | step: 2400/10000 | trn loss: 1.7704 | val loss: 1.7695 | trn acc: 0.5134\n",
            "epoch: 1/1 | step: 2500/10000 | trn loss: 1.7754 | val loss: 1.7701 | trn acc: 0.5207\n",
            "epoch: 1/1 | step: 2600/10000 | trn loss: 1.7763 | val loss: 1.7619 | trn acc: 0.5272\n",
            "epoch: 1/1 | step: 2700/10000 | trn loss: 1.7675 | val loss: 1.7811 | trn acc: 0.5339\n",
            "epoch: 1/1 | step: 2800/10000 | trn loss: 1.7817 | val loss: 1.7669 | trn acc: 0.5394\n",
            "epoch: 1/1 | step: 2900/10000 | trn loss: 1.7901 | val loss: 1.7540 | trn acc: 0.5439\n",
            "epoch: 1/1 | step: 3000/10000 | trn loss: 1.7891 | val loss: 1.7636 | trn acc: 0.5484\n",
            "epoch: 1/1 | step: 3100/10000 | trn loss: 1.7600 | val loss: 1.7547 | trn acc: 0.5535\n",
            "epoch: 1/1 | step: 3200/10000 | trn loss: 1.7649 | val loss: 1.7535 | trn acc: 0.5577\n",
            "epoch: 1/1 | step: 3300/10000 | trn loss: 1.7649 | val loss: 1.7478 | trn acc: 0.5621\n",
            "epoch: 1/1 | step: 3400/10000 | trn loss: 1.7382 | val loss: 1.7506 | trn acc: 0.5667\n",
            "epoch: 1/1 | step: 3500/10000 | trn loss: 1.7597 | val loss: 1.7387 | trn acc: 0.5710\n",
            "epoch: 1/1 | step: 3600/10000 | trn loss: 1.7655 | val loss: 1.7435 | trn acc: 0.5745\n",
            "epoch: 1/1 | step: 3700/10000 | trn loss: 1.7729 | val loss: 1.7440 | trn acc: 0.5776\n",
            "epoch: 1/1 | step: 3800/10000 | trn loss: 1.7455 | val loss: 1.7492 | trn acc: 0.5814\n",
            "epoch: 1/1 | step: 3900/10000 | trn loss: 1.7773 | val loss: 1.7396 | trn acc: 0.5843\n",
            "epoch: 1/1 | step: 4000/10000 | trn loss: 1.7424 | val loss: 1.7427 | trn acc: 0.5880\n",
            "epoch: 1/1 | step: 4100/10000 | trn loss: 1.7440 | val loss: 1.7478 | trn acc: 0.5913\n",
            "epoch: 1/1 | step: 4200/10000 | trn loss: 1.7520 | val loss: 1.7421 | trn acc: 0.5944\n",
            "epoch: 1/1 | step: 4300/10000 | trn loss: 1.7544 | val loss: 1.7425 | trn acc: 0.5969\n",
            "epoch: 1/1 | step: 4400/10000 | trn loss: 1.7575 | val loss: 1.7385 | trn acc: 0.5996\n",
            "epoch: 1/1 | step: 4500/10000 | trn loss: 1.7799 | val loss: 1.7372 | trn acc: 0.6014\n",
            "epoch: 1/1 | step: 4600/10000 | trn loss: 1.7054 | val loss: 1.7430 | trn acc: 0.6050\n",
            "epoch: 1/1 | step: 4700/10000 | trn loss: 1.7426 | val loss: 1.7392 | trn acc: 0.6073\n",
            "epoch: 1/1 | step: 4800/10000 | trn loss: 1.7292 | val loss: 1.7265 | trn acc: 0.6100\n",
            "epoch: 1/1 | step: 4900/10000 | trn loss: 1.7335 | val loss: 1.7418 | trn acc: 0.6125\n",
            "epoch: 1/1 | step: 5000/10000 | trn loss: 1.7421 | val loss: 1.7482 | trn acc: 0.6146\n",
            "epoch: 1/1 | step: 5100/10000 | trn loss: 1.7263 | val loss: 1.7332 | trn acc: 0.6170\n",
            "epoch: 1/1 | step: 5200/10000 | trn loss: 1.7179 | val loss: 1.7328 | trn acc: 0.6195\n",
            "epoch: 1/1 | step: 5300/10000 | trn loss: 1.7541 | val loss: 1.7282 | trn acc: 0.6212\n",
            "epoch: 1/1 | step: 5400/10000 | trn loss: 1.7189 | val loss: 1.7296 | trn acc: 0.6235\n",
            "epoch: 1/1 | step: 5500/10000 | trn loss: 1.7393 | val loss: 1.7287 | trn acc: 0.6253\n",
            "epoch: 1/1 | step: 5600/10000 | trn loss: 1.7304 | val loss: 1.7231 | trn acc: 0.6273\n",
            "epoch: 1/1 | step: 5700/10000 | trn loss: 1.7522 | val loss: 1.7253 | trn acc: 0.6287\n",
            "epoch: 1/1 | step: 5800/10000 | trn loss: 1.7193 | val loss: 1.7148 | trn acc: 0.6309\n",
            "epoch: 1/1 | step: 5900/10000 | trn loss: 1.7175 | val loss: 1.7217 | trn acc: 0.6329\n",
            "epoch: 1/1 | step: 6000/10000 | trn loss: 1.7142 | val loss: 1.7205 | trn acc: 0.6350\n",
            "epoch: 1/1 | step: 6100/10000 | trn loss: 1.7446 | val loss: 1.7239 | trn acc: 0.6363\n",
            "epoch: 1/1 | step: 6200/10000 | trn loss: 1.7390 | val loss: 1.7148 | trn acc: 0.6378\n",
            "epoch: 1/1 | step: 6300/10000 | trn loss: 1.7311 | val loss: 1.7202 | trn acc: 0.6392\n",
            "epoch: 1/1 | step: 6400/10000 | trn loss: 1.7344 | val loss: 1.7159 | trn acc: 0.6406\n",
            "epoch: 1/1 | step: 6500/10000 | trn loss: 1.7126 | val loss: 1.7224 | trn acc: 0.6424\n",
            "epoch: 1/1 | step: 6600/10000 | trn loss: 1.7247 | val loss: 1.7127 | trn acc: 0.6438\n",
            "epoch: 1/1 | step: 6700/10000 | trn loss: 1.7510 | val loss: 1.7358 | trn acc: 0.6448\n",
            "epoch: 1/1 | step: 6800/10000 | trn loss: 1.7282 | val loss: 1.7194 | trn acc: 0.6462\n",
            "epoch: 1/1 | step: 6900/10000 | trn loss: 1.7438 | val loss: 1.7095 | trn acc: 0.6473\n",
            "epoch: 1/1 | step: 7000/10000 | trn loss: 1.7194 | val loss: 1.7038 | trn acc: 0.6487\n",
            "epoch: 1/1 | step: 7100/10000 | trn loss: 1.6915 | val loss: 1.7122 | trn acc: 0.6504\n",
            "epoch: 1/1 | step: 7200/10000 | trn loss: 1.7388 | val loss: 1.7114 | trn acc: 0.6515\n",
            "epoch: 1/1 | step: 7300/10000 | trn loss: 1.7103 | val loss: 1.7063 | trn acc: 0.6529\n",
            "epoch: 1/1 | step: 7400/10000 | trn loss: 1.7436 | val loss: 1.7108 | trn acc: 0.6537\n",
            "epoch: 1/1 | step: 7500/10000 | trn loss: 1.6928 | val loss: 1.7129 | trn acc: 0.6553\n",
            "epoch: 1/1 | step: 7600/10000 | trn loss: 1.6884 | val loss: 1.7059 | trn acc: 0.6569\n",
            "epoch: 1/1 | step: 7700/10000 | trn loss: 1.7093 | val loss: 1.7177 | trn acc: 0.6582\n",
            "epoch: 1/1 | step: 7800/10000 | trn loss: 1.7030 | val loss: 1.7151 | trn acc: 0.6594\n",
            "epoch: 1/1 | step: 7900/10000 | trn loss: 1.7219 | val loss: 1.7058 | trn acc: 0.6606\n",
            "epoch: 1/1 | step: 8000/10000 | trn loss: 1.6991 | val loss: 1.7142 | trn acc: 0.6618\n",
            "epoch: 1/1 | step: 8100/10000 | trn loss: 1.7387 | val loss: 1.7162 | trn acc: 0.6626\n",
            "epoch: 1/1 | step: 8200/10000 | trn loss: 1.7159 | val loss: 1.7088 | trn acc: 0.6637\n",
            "epoch: 1/1 | step: 8300/10000 | trn loss: 1.7118 | val loss: 1.7087 | trn acc: 0.6647\n",
            "epoch: 1/1 | step: 8400/10000 | trn loss: 1.7007 | val loss: 1.7062 | trn acc: 0.6658\n",
            "epoch: 1/1 | step: 8500/10000 | trn loss: 1.7097 | val loss: 1.7067 | trn acc: 0.6669\n",
            "epoch: 1/1 | step: 8600/10000 | trn loss: 1.7267 | val loss: 1.6955 | trn acc: 0.6678\n",
            "epoch: 1/1 | step: 8700/10000 | trn loss: 1.7069 | val loss: 1.7057 | trn acc: 0.6688\n",
            "epoch: 1/1 | step: 8800/10000 | trn loss: 1.7367 | val loss: 1.7056 | trn acc: 0.6695\n",
            "epoch: 1/1 | step: 8900/10000 | trn loss: 1.7152 | val loss: 1.7014 | trn acc: 0.6704\n",
            "epoch: 1/1 | step: 9000/10000 | trn loss: 1.7101 | val loss: 1.7000 | trn acc: 0.6712\n",
            "epoch: 1/1 | step: 9100/10000 | trn loss: 1.7070 | val loss: 1.7055 | trn acc: 0.6721\n",
            "epoch: 1/1 | step: 9200/10000 | trn loss: 1.7267 | val loss: 1.6974 | trn acc: 0.6729\n",
            "epoch: 1/1 | step: 9300/10000 | trn loss: 1.7249 | val loss: 1.7010 | trn acc: 0.6736\n",
            "epoch: 1/1 | step: 9400/10000 | trn loss: 1.7066 | val loss: 1.6987 | trn acc: 0.6745\n",
            "epoch: 1/1 | step: 9500/10000 | trn loss: 1.6836 | val loss: 1.7088 | trn acc: 0.6756\n",
            "epoch: 1/1 | step: 9600/10000 | trn loss: 1.6934 | val loss: 1.6996 | trn acc: 0.6766\n",
            "epoch: 1/1 | step: 9700/10000 | trn loss: 1.6850 | val loss: 1.7019 | trn acc: 0.6777\n",
            "epoch: 1/1 | step: 9800/10000 | trn loss: 1.6948 | val loss: 1.7058 | trn acc: 0.6787\n",
            "epoch: 1/1 | step: 9900/10000 | trn loss: 1.7051 | val loss: 1.7014 | trn acc: 0.6795\n",
            "epoch: 1/1 | step: 10000/10000 | trn loss: 1.7043 | val loss: 1.7144 | trn acc: 0.6803\n"
          ],
          "name": "stdout"
        }
      ]
    },
    {
      "cell_type": "code",
      "metadata": {
        "colab": {
          "base_uri": "https://localhost:8080/",
          "height": 328
        },
        "id": "MbllLwpPSkW5",
        "outputId": "213d424f-92ce-4430-d084-5a1e5700dcab"
      },
      "source": [
        "plt.figure(figsize=(8,4.5))\n",
        "plt.plot(acc_list, label=\"CNN\", color='blue', linestyle='--')\n",
        "plt.plot(acc_list_r, label=\"RANDOM: Sigmoid\", color='red', linestyle='--')\n",
        "plt.legend()\n",
        "plt.xlim(0, 100)\n",
        "plt.xticks([0, 20, 40, 60, 80, 100],[0, 2000, 4000, 6000, 8000, 10000])\n",
        "plt.ylim(0, 1)\n",
        "plt.xlabel(\"Training iterations\")\n",
        "plt.ylabel(\"Test set accuracy (%)\")"
      ],
      "execution_count": null,
      "outputs": [
        {
          "output_type": "execute_result",
          "data": {
            "text/plain": [
              "Text(0, 0.5, 'Test set accuracy (%)')"
            ]
          },
          "metadata": {
            "tags": []
          },
          "execution_count": 109
        },
        {
          "output_type": "display_data",
          "data": {
            "image/png": "[encoded data removed]",
            "text/plain": [
              "<Figure size 576x324 with 1 Axes>"
            ]
          },
          "metadata": {
            "tags": [],
            "needs_background": "light"
          }
        }
      ]
    },
    {
      "cell_type": "code",
      "metadata": {
        "id": "qxbAQXTHJVpM"
      },
      "source": [
        ""
      ],
      "execution_count": null,
      "outputs": []
    }
  ]
}